{
  "nbformat": 4,
  "nbformat_minor": 0,
  "metadata": {
    "colab": {
      "provenance": [],
      "authorship_tag": "ABX9TyN3879DPNcgxXc+ae9KTaE2",
      "include_colab_link": true
    },
    "kernelspec": {
      "name": "python3",
      "display_name": "Python 3"
    },
    "language_info": {
      "name": "python"
    }
  },
  "cells": [
    {
      "cell_type": "markdown",
      "metadata": {
        "id": "view-in-github",
        "colab_type": "text"
      },
      "source": [
        "<a href=\"https://colab.research.google.com/github/kanhaia21/Assignments/blob/main/OOP.ipynb\" target=\"_parent\"><img src=\"https://colab.research.google.com/assets/colab-badge.svg\" alt=\"Open In Colab\"/></a>"
      ]
    },
    {
      "cell_type": "markdown",
      "source": [
        "#Theoritical"
      ],
      "metadata": {
        "id": "ZSZrlV-rF4Gx"
      }
    },
    {
      "cell_type": "code",
      "execution_count": 1,
      "metadata": {
        "colab": {
          "base_uri": "https://localhost:8080/"
        },
        "id": "u9ozEkrvFb-J",
        "outputId": "8963e026-f384-494c-c0c7-59c851f88b65"
      },
      "outputs": [
        {
          "output_type": "stream",
          "name": "stdout",
          "text": [
            "\n",
            "OOP\n",
            "1. What is Object-Oriented Programming (OOP)?\n",
            "OOP is a programming paradigm that organizes code into classes (blueprints) and objects (instances).\n",
            "It helps in reusability, modularity, and real-world modelling.\n",
            "Example:\n",
            "class Dog:\n",
            "    def __init__(self, name):\n",
            "        self.name = name\n",
            "\n",
            "    def bark(self):\n",
            "        print(f\"{self.name} is barking!\")\n",
            "\n",
            "d = Dog(\"Bruno\")\n",
            "d.bark()\n",
            "Output: Bruno is barking!\n",
            "\n",
            "2. What is a class in OOP?\n",
            "A class is a blueprint for creating objects. It defines attributes (variables) and methods (functions).\n",
            "Example:\n",
            "class Car:\n",
            "    def __init__(self, brand, model):\n",
            "        self.brand = brand\n",
            "        self.model = model\n",
            "\n",
            "3. What is an object in OOP?\n",
            "An object is an instance of a class with actual values.\n",
            "Example:\n",
            "class Car:\n",
            "    def __init__(self, brand, model):\n",
            "        self.brand = brand\n",
            "        self.model = model\n",
            "\n",
            "my_car = Car(\"Tesla\", \"Model S\")  # Object created from Car class\n",
            "print(my_car.brand)\n",
            "\n",
            "Output: Tesla\n",
            "\n",
            "4. Difference between abstraction and encapsulation\n",
            "•\tAbstraction → Hiding implementation details, showing only essentials. (Focus on what to do)\n",
            "•\tEncapsulation → Restricting direct access to data, bundling variables + methods together. (Focus on how to protect data)\n",
            "Example:\n",
            "from abc import ABC, abstractmethod\n",
            "\n",
            "# Abstraction\n",
            "class Shape(ABC):\n",
            "    @abstractmethod\n",
            "    def area(self):\n",
            "        pass\n",
            "\n",
            "# Encapsulation\n",
            "class BankAccount:\n",
            "    def __init__(self, balance):\n",
            "        self.__balance = balance  # private attribute\n",
            "\n",
            "    def deposit(self, amount):\n",
            "        self.__balance += amount\n",
            "\n",
            "    def get_balance(self):\n",
            "        return self.__balance\n",
            "\n",
            "5. What are dunder methods in Python?\n",
            "\"Dunder\" = Double Underscore. Special methods used for operator overloading and object behaviour.\n",
            "Example:\n",
            "class Book:\n",
            "    def __init__(self, title):\n",
            "        self.title = title\n",
            "\n",
            "    def __str__(self):   # dunder method\n",
            "        return f\"Book: {self.title}\"\n",
            "\n",
            "b = Book(\"Python 101\")\n",
            "print(b)\n",
            "Output: Book: Python 101\n",
            "\n",
            "6. Explain the concept of inheritance in OOP.\n",
            "Inheritance allows a class (child) to derive attributes and methods from another class (parent).\n",
            "Example:\n",
            "class Animal:\n",
            "    def speak(self):\n",
            "        print(\"This is an animal.\")\n",
            "\n",
            "class Dog(Animal):   # Inheriting from Animal\n",
            "    def speak(self):\n",
            "        print(\"Dog barks!\")\n",
            "\n",
            "d = Dog()\n",
            "d.speak()\n",
            "Output: Dog barks!\n",
            "\n",
            "7. What is polymorphism in OOP?\n",
            "Polymorphism = Same method name behaving differently depending on the object.\n",
            "Example:\n",
            "class Cat:\n",
            "    def sound(self):\n",
            "        print(\"Meow\")\n",
            "\n",
            "class Dog:\n",
            "    def sound(self):\n",
            "        print(\"Woof\")\n",
            "\n",
            "for animal in [Cat(), Dog()]:\n",
            "    animal.sound()\n",
            "Output:\n",
            "Meow\n",
            "Woof\n",
            "\n",
            "8. How is encapsulation achieved in Python?\n",
            "By using private variables (prefix __) and methods. Access through getters/setters.\n",
            "Example:\n",
            "class Person:\n",
            "    def __init__(self, name):\n",
            "        self.__name = name  # private variable\n",
            "\n",
            "    def get_name(self):\n",
            "        return self.__name\n",
            "\n",
            "9. What is a constructor in Python?\n",
            "A constructor is a special method __init__() called automatically when an object is created.\n",
            "Example:\n",
            "class Student:\n",
            "    def __init__(self, name):\n",
            "        self.name = name\n",
            "\n",
            "s = Student(\"Alice\")       # __init__ runs here\n",
            "print(s.name)\n",
            "\n",
            "10. What are class and static methods in Python?\n",
            "•\tClass method → Works with class (@classmethod, takes cls)\n",
            "•\tStatic method → Utility method, doesn’t need self or cls.\n",
            "Example:\n",
            "class Math:\n",
            "    @classmethod\n",
            "    def pi(cls):\n",
            "        return 3.14159    \n",
            "    @staticmethod\n",
            "    def add(a, b):\n",
            "        return a + b\n",
            "print(Math.pi()) \n",
            "print(Math.add(5, 7))\n",
            "Output: 3.14159\n",
            "12\n",
            "\n",
            "11. What is method overloading in Python?\n",
            "Python does not support traditional method overloading like Java/C++.\n",
            "If multiple methods with the same name are defined, the last one overrides the previous ones. But we can simulate overloading using default arguments or *args.\n",
            "class Math:\n",
            "    def add(self, a, b=0, c=0):\n",
            "        return a + b + c\n",
            "\n",
            "m = Math()\n",
            "print(m.add(5))\n",
            "print(m.add(5, 10)) \n",
            "print(m.add(5, 10, 20))\n",
            "Output: 5\n",
            "15\n",
            "35\n",
            "\n",
            "12. What is method overriding in OOP?\n",
            "When a child class provides its own version of a method that exists in the parent class.\n",
            "class Animal:\n",
            "    def speak(self):\n",
            "        print(\"Animal speaks\")\n",
            "\n",
            "class Dog(Animal):\n",
            "    def speak(self):  # overriding\n",
            "        print(\"Dog barks\")\n",
            "\n",
            "d = Dog()\n",
            "d.speak()\n",
            "Output: Dog barks\n",
            "\n",
            " \n",
            "13. What is a property decorator in Python?\n",
            "It allows you to use methods as attributes, often used for encapsulation.\n",
            "class Person:\n",
            "    def __init__(self, name):\n",
            "        self._name = name\n",
            "\n",
            "    @property\n",
            "    def name(self):   # getter\n",
            "        return self._name\n",
            "\n",
            "    @name.setter\n",
            "    def name(self, value):  # setter\n",
            "        self._name = value\n",
            "\n",
            "p = Person(\"Alice\")\n",
            "print(p.name)\n",
            "p.name = \"Bob\"\n",
            "print(p.name)\n",
            "\n",
            "Output: Alice\n",
            "Bob\n",
            "\n",
            "14. Why is polymorphism important in OOP?\n",
            "Because it allows the same interface to represent different underlying data types.\n",
            "→ Increases flexibility and reusability.\n",
            "Example:\n",
            "class Cat:\n",
            "    def sound(self): print(\"Meow\")\n",
            "\n",
            "class Dog:\n",
            "    def sound(self): print(\"Woof\")\n",
            "\n",
            "for animal in [Cat(), Dog()]:\n",
            "    animal.sound()\n",
            "\n",
            " \n",
            "15. What is an abstract class in Python?\n",
            "A class that cannot be instantiated directly. It defines methods that must be implemented in child classes.\n",
            "from abc import ABC, abstractmethod\n",
            "\n",
            "class Shape(ABC):\n",
            "    @abstractmethod\n",
            "    def area(self):\n",
            "        pass\n",
            "\n",
            "class Circle(Shape):\n",
            "    def area(self):\n",
            "        return 3.14 * 5 * 5\n",
            "\n",
            "c = Circle()\n",
            "print(c.area())\n",
            "Output: 78.5\n",
            "\n",
            "16. What are the advantages of OOP?\n",
            "•\tModularity (divide code into classes)\n",
            "•\tReusability (inheritance)\n",
            "•\tExtensibility (easy to add features)\n",
            "•\tEncapsulation (data protection)\n",
            "•\tReal-world modeling\n",
            "\n",
            "17. Difference between class variable and instance variable\n",
            "•\tClass variable → Shared across all objects.\n",
            "•\tInstance variable → Unique to each object.\n",
            "\n",
            "18. What is multiple inheritance in Python?\n",
            "A class can inherit from more than one parent class.\n",
            "class A:\n",
            "    def show(self): print(\"A\")\n",
            "class B:\n",
            "    def display(self): print(\"B\")\n",
            "\n",
            "class C(A, B): pass\n",
            "\n",
            "c = C()\n",
            "c.show()\n",
            "c.display()\n",
            "Output: A\n",
            "B\n",
            "\n",
            "19. Explain the purpose of \" __ str_'and'_repr_\"methods in Python.\n",
            "•\t__str__ → User-friendly string representation (used with print()).\n",
            "•\t__repr__ → Developer-friendly, unambiguous representation.\n",
            "class Book:\n",
            "    def __init__(self, title):\n",
            "        self.title = title\n",
            "    \n",
            "    def __str__(self):\n",
            "        return f\"Book title: {self.title}\"\n",
            "    \n",
            "    def __repr__(self):\n",
            "        return f\"Book('{self.title}')\"\n",
            "\n",
            "b = Book(\"Python 101\")\n",
            "print(b)\n",
            "print(repr(b))\n",
            "Output: Book title: Python 101\n",
            "Book('Python 101')\n",
            "\n",
            "20. What is the significance of the 'super()' function in Python?\n",
            "It allows calling parent class methods in a child class.\n",
            "\n",
            "21. What is the significance of the __del__ method in Python+\n",
            "•\tThe __del__ method is a destructor method in Python.\n",
            "•\tIt is automatically called when an object is about to be destroyed (i.e., when there are no more references to the object).\n",
            "•\tIt allows you to define cleanup actions such as closing files, releasing memory, or disconnecting from databases before the object is deleted.\n",
            "\n",
            "\n",
            "22. Difference between @staticmethod and @classmethod\n",
            "•\t@staticmethod → Does not take self or cls. A utility method.\n",
            "•\t@classmethod → Takes cls, works at class level.\n",
            "class Example:\n",
            "    @staticmethod\n",
            "    def greet():\n",
            "        return \"Hello\"\n",
            "\n",
            "    @classmethod\n",
            "    def info(cls):\n",
            "        return f\"Class name is {cls.__name__}\"\n",
            "\n",
            "print(Example.greet()) \n",
            "print(Example.info())\n",
            "\n",
            "Output:\n",
            "Hello\n",
            "Class name is Example\n",
            "\n",
            "24. What is method chaining in Python OOP?\n",
            "Calling multiple methods in a single line, by returning self.\n",
            "class Person:\n",
            "    def __init__(self, name):\n",
            "        self.name = name\n",
            "    \n",
            "    def greet(self):\n",
            "        print(f\"Hello, I am {self.name}\")\n",
            "        return self\n",
            "    \n",
            "    def bye(self):\n",
            "        print(\"Goodbye!\")\n",
            "        return self\n",
            "\n",
            "p = Person(\"Alice\")\n",
            "p.greet().bye()\n",
            "Output:Hello, I am Alice\n",
            "Goodbye!\n",
            "<__main__.Person at 0x7f90c2fab470>\n",
            " \n",
            "\n",
            "25. Purpose of __call__ method in Python\n",
            "Makes an object callable like a function.\n",
            "class Multiplier:\n",
            "    def __init__(self, factor):\n",
            "        self.factor = factor\n",
            "    \n",
            "    def __call__(self, num):\n",
            "        return num * self.factor\n",
            "\n",
            "m = Multiplier(3)\n",
            "print(m(5))\n",
            "Output: 15\n",
            "\n"
          ]
        }
      ],
      "source": [
        "content=\"\"\"\n",
        "OOP\n",
        "1. What is Object-Oriented Programming (OOP)?\n",
        "OOP is a programming paradigm that organizes code into classes (blueprints) and objects (instances).\n",
        "It helps in reusability, modularity, and real-world modelling.\n",
        "Example:\n",
        "class Dog:\n",
        "    def __init__(self, name):\n",
        "        self.name = name\n",
        "\n",
        "    def bark(self):\n",
        "        print(f\"{self.name} is barking!\")\n",
        "\n",
        "d = Dog(\"Bruno\")\n",
        "d.bark()\n",
        "Output: Bruno is barking!\n",
        "\n",
        "2. What is a class in OOP?\n",
        "A class is a blueprint for creating objects. It defines attributes (variables) and methods (functions).\n",
        "Example:\n",
        "class Car:\n",
        "    def __init__(self, brand, model):\n",
        "        self.brand = brand\n",
        "        self.model = model\n",
        "\n",
        "3. What is an object in OOP?\n",
        "An object is an instance of a class with actual values.\n",
        "Example:\n",
        "class Car:\n",
        "    def __init__(self, brand, model):\n",
        "        self.brand = brand\n",
        "        self.model = model\n",
        "\n",
        "my_car = Car(\"Tesla\", \"Model S\")  # Object created from Car class\n",
        "print(my_car.brand)\n",
        "\n",
        "Output: Tesla\n",
        "\n",
        "4. Difference between abstraction and encapsulation\n",
        "•\tAbstraction → Hiding implementation details, showing only essentials. (Focus on what to do)\n",
        "•\tEncapsulation → Restricting direct access to data, bundling variables + methods together. (Focus on how to protect data)\n",
        "Example:\n",
        "from abc import ABC, abstractmethod\n",
        "\n",
        "# Abstraction\n",
        "class Shape(ABC):\n",
        "    @abstractmethod\n",
        "    def area(self):\n",
        "        pass\n",
        "\n",
        "# Encapsulation\n",
        "class BankAccount:\n",
        "    def __init__(self, balance):\n",
        "        self.__balance = balance  # private attribute\n",
        "\n",
        "    def deposit(self, amount):\n",
        "        self.__balance += amount\n",
        "\n",
        "    def get_balance(self):\n",
        "        return self.__balance\n",
        "\n",
        "5. What are dunder methods in Python?\n",
        "\"Dunder\" = Double Underscore. Special methods used for operator overloading and object behaviour.\n",
        "Example:\n",
        "class Book:\n",
        "    def __init__(self, title):\n",
        "        self.title = title\n",
        "\n",
        "    def __str__(self):   # dunder method\n",
        "        return f\"Book: {self.title}\"\n",
        "\n",
        "b = Book(\"Python 101\")\n",
        "print(b)\n",
        "Output: Book: Python 101\n",
        "\n",
        "6. Explain the concept of inheritance in OOP.\n",
        "Inheritance allows a class (child) to derive attributes and methods from another class (parent).\n",
        "Example:\n",
        "class Animal:\n",
        "    def speak(self):\n",
        "        print(\"This is an animal.\")\n",
        "\n",
        "class Dog(Animal):   # Inheriting from Animal\n",
        "    def speak(self):\n",
        "        print(\"Dog barks!\")\n",
        "\n",
        "d = Dog()\n",
        "d.speak()\n",
        "Output: Dog barks!\n",
        "\n",
        "7. What is polymorphism in OOP?\n",
        "Polymorphism = Same method name behaving differently depending on the object.\n",
        "Example:\n",
        "class Cat:\n",
        "    def sound(self):\n",
        "        print(\"Meow\")\n",
        "\n",
        "class Dog:\n",
        "    def sound(self):\n",
        "        print(\"Woof\")\n",
        "\n",
        "for animal in [Cat(), Dog()]:\n",
        "    animal.sound()\n",
        "Output:\n",
        "Meow\n",
        "Woof\n",
        "\n",
        "8. How is encapsulation achieved in Python?\n",
        "By using private variables (prefix __) and methods. Access through getters/setters.\n",
        "Example:\n",
        "class Person:\n",
        "    def __init__(self, name):\n",
        "        self.__name = name  # private variable\n",
        "\n",
        "    def get_name(self):\n",
        "        return self.__name\n",
        "\n",
        "9. What is a constructor in Python?\n",
        "A constructor is a special method __init__() called automatically when an object is created.\n",
        "Example:\n",
        "class Student:\n",
        "    def __init__(self, name):\n",
        "        self.name = name\n",
        "\n",
        "s = Student(\"Alice\")       # __init__ runs here\n",
        "print(s.name)\n",
        "\n",
        "10. What are class and static methods in Python?\n",
        "•\tClass method → Works with class (@classmethod, takes cls)\n",
        "•\tStatic method → Utility method, doesn’t need self or cls.\n",
        "Example:\n",
        "class Math:\n",
        "    @classmethod\n",
        "    def pi(cls):\n",
        "        return 3.14159\n",
        "    @staticmethod\n",
        "    def add(a, b):\n",
        "        return a + b\n",
        "print(Math.pi())\n",
        "print(Math.add(5, 7))\n",
        "Output: 3.14159\n",
        "12\n",
        "\n",
        "11. What is method overloading in Python?\n",
        "Python does not support traditional method overloading like Java/C++.\n",
        "If multiple methods with the same name are defined, the last one overrides the previous ones. But we can simulate overloading using default arguments or *args.\n",
        "class Math:\n",
        "    def add(self, a, b=0, c=0):\n",
        "        return a + b + c\n",
        "\n",
        "m = Math()\n",
        "print(m.add(5))\n",
        "print(m.add(5, 10))\n",
        "print(m.add(5, 10, 20))\n",
        "Output: 5\n",
        "15\n",
        "35\n",
        "\n",
        "12. What is method overriding in OOP?\n",
        "When a child class provides its own version of a method that exists in the parent class.\n",
        "class Animal:\n",
        "    def speak(self):\n",
        "        print(\"Animal speaks\")\n",
        "\n",
        "class Dog(Animal):\n",
        "    def speak(self):  # overriding\n",
        "        print(\"Dog barks\")\n",
        "\n",
        "d = Dog()\n",
        "d.speak()\n",
        "Output: Dog barks\n",
        "\n",
        "\n",
        "13. What is a property decorator in Python?\n",
        "It allows you to use methods as attributes, often used for encapsulation.\n",
        "class Person:\n",
        "    def __init__(self, name):\n",
        "        self._name = name\n",
        "\n",
        "    @property\n",
        "    def name(self):   # getter\n",
        "        return self._name\n",
        "\n",
        "    @name.setter\n",
        "    def name(self, value):  # setter\n",
        "        self._name = value\n",
        "\n",
        "p = Person(\"Alice\")\n",
        "print(p.name)\n",
        "p.name = \"Bob\"\n",
        "print(p.name)\n",
        "\n",
        "Output: Alice\n",
        "Bob\n",
        "\n",
        "14. Why is polymorphism important in OOP?\n",
        "Because it allows the same interface to represent different underlying data types.\n",
        "→ Increases flexibility and reusability.\n",
        "Example:\n",
        "class Cat:\n",
        "    def sound(self): print(\"Meow\")\n",
        "\n",
        "class Dog:\n",
        "    def sound(self): print(\"Woof\")\n",
        "\n",
        "for animal in [Cat(), Dog()]:\n",
        "    animal.sound()\n",
        "\n",
        "\n",
        "15. What is an abstract class in Python?\n",
        "A class that cannot be instantiated directly. It defines methods that must be implemented in child classes.\n",
        "from abc import ABC, abstractmethod\n",
        "\n",
        "class Shape(ABC):\n",
        "    @abstractmethod\n",
        "    def area(self):\n",
        "        pass\n",
        "\n",
        "class Circle(Shape):\n",
        "    def area(self):\n",
        "        return 3.14 * 5 * 5\n",
        "\n",
        "c = Circle()\n",
        "print(c.area())\n",
        "Output: 78.5\n",
        "\n",
        "16. What are the advantages of OOP?\n",
        "•\tModularity (divide code into classes)\n",
        "•\tReusability (inheritance)\n",
        "•\tExtensibility (easy to add features)\n",
        "•\tEncapsulation (data protection)\n",
        "•\tReal-world modeling\n",
        "\n",
        "17. Difference between class variable and instance variable\n",
        "•\tClass variable → Shared across all objects.\n",
        "•\tInstance variable → Unique to each object.\n",
        "\n",
        "18. What is multiple inheritance in Python?\n",
        "A class can inherit from more than one parent class.\n",
        "class A:\n",
        "    def show(self): print(\"A\")\n",
        "class B:\n",
        "    def display(self): print(\"B\")\n",
        "\n",
        "class C(A, B): pass\n",
        "\n",
        "c = C()\n",
        "c.show()\n",
        "c.display()\n",
        "Output: A\n",
        "B\n",
        "\n",
        "19. Explain the purpose of \" __ str_'and'_repr_\"methods in Python.\n",
        "•\t__str__ → User-friendly string representation (used with print()).\n",
        "•\t__repr__ → Developer-friendly, unambiguous representation.\n",
        "class Book:\n",
        "    def __init__(self, title):\n",
        "        self.title = title\n",
        "\n",
        "    def __str__(self):\n",
        "        return f\"Book title: {self.title}\"\n",
        "\n",
        "    def __repr__(self):\n",
        "        return f\"Book('{self.title}')\"\n",
        "\n",
        "b = Book(\"Python 101\")\n",
        "print(b)\n",
        "print(repr(b))\n",
        "Output: Book title: Python 101\n",
        "Book('Python 101')\n",
        "\n",
        "20. What is the significance of the 'super()' function in Python?\n",
        "It allows calling parent class methods in a child class.\n",
        "\n",
        "21. What is the significance of the __del__ method in Python+\n",
        "•\tThe __del__ method is a destructor method in Python.\n",
        "•\tIt is automatically called when an object is about to be destroyed (i.e., when there are no more references to the object).\n",
        "•\tIt allows you to define cleanup actions such as closing files, releasing memory, or disconnecting from databases before the object is deleted.\n",
        "\n",
        "\n",
        "22. Difference between @staticmethod and @classmethod\n",
        "•\t@staticmethod → Does not take self or cls. A utility method.\n",
        "•\t@classmethod → Takes cls, works at class level.\n",
        "class Example:\n",
        "    @staticmethod\n",
        "    def greet():\n",
        "        return \"Hello\"\n",
        "\n",
        "    @classmethod\n",
        "    def info(cls):\n",
        "        return f\"Class name is {cls.__name__}\"\n",
        "\n",
        "print(Example.greet())\n",
        "print(Example.info())\n",
        "\n",
        "Output:\n",
        "Hello\n",
        "Class name is Example\n",
        "\n",
        "24. What is method chaining in Python OOP?\n",
        "Calling multiple methods in a single line, by returning self.\n",
        "class Person:\n",
        "    def __init__(self, name):\n",
        "        self.name = name\n",
        "\n",
        "    def greet(self):\n",
        "        print(f\"Hello, I am {self.name}\")\n",
        "        return self\n",
        "\n",
        "    def bye(self):\n",
        "        print(\"Goodbye!\")\n",
        "        return self\n",
        "\n",
        "p = Person(\"Alice\")\n",
        "p.greet().bye()\n",
        "Output:Hello, I am Alice\n",
        "Goodbye!\n",
        "<__main__.Person at 0x7f90c2fab470>\n",
        "\n",
        "\n",
        "25. Purpose of __call__ method in Python\n",
        "Makes an object callable like a function.\n",
        "class Multiplier:\n",
        "    def __init__(self, factor):\n",
        "        self.factor = factor\n",
        "\n",
        "    def __call__(self, num):\n",
        "        return num * self.factor\n",
        "\n",
        "m = Multiplier(3)\n",
        "print(m(5))\n",
        "Output: 15\n",
        "\"\"\"\n",
        "print(content)"
      ]
    },
    {
      "cell_type": "markdown",
      "source": [
        "#Practical Questions"
      ],
      "metadata": {
        "id": "OocHaBiaGEdM"
      }
    },
    {
      "cell_type": "code",
      "source": [
        "#1. Parent class Animal & Child class Dog (Method Overriding)\n",
        "class Animal:\n",
        "    def speak(self):\n",
        "        print(\"This is an animal sound\")\n",
        "\n",
        "class Dog(Animal):\n",
        "    def speak(self):\n",
        "        print(\"Bark!\")\n",
        "\n",
        "a = Animal()\n",
        "a.speak()  # This is an animal sound\n",
        "\n",
        "d = Dog()\n",
        "d.speak()\n"
      ],
      "metadata": {
        "colab": {
          "base_uri": "https://localhost:8080/"
        },
        "id": "84weolt5Fxbz",
        "outputId": "3d2b4207-7db8-4d7d-f0ee-71aeeef11f22"
      },
      "execution_count": 2,
      "outputs": [
        {
          "output_type": "stream",
          "name": "stdout",
          "text": [
            "This is an animal sound\n",
            "Bark!\n"
          ]
        }
      ]
    },
    {
      "cell_type": "code",
      "source": [
        "#2. Abstract class Shape with Circle and Rectangle\n",
        "from abc import ABC, abstractmethod\n",
        "import math\n",
        "\n",
        "class Shape(ABC):\n",
        "    @abstractmethod\n",
        "    def area(self):\n",
        "        pass\n",
        "\n",
        "class Circle(Shape):\n",
        "    def __init__(self, radius):\n",
        "        self.radius = radius\n",
        "    def area(self):\n",
        "        return math.pi * self.radius ** 2\n",
        "\n",
        "class Rectangle(Shape):\n",
        "    def __init__(self, length, width):\n",
        "        self.length = length\n",
        "        self.width = width\n",
        "    def area(self):\n",
        "        return self.length * self.width\n",
        "\n",
        "c = Circle(3)\n",
        "r = Rectangle(4, 5)\n",
        "print(c.area())  # 28.27...\n",
        "print(r.area())  # 20\n"
      ],
      "metadata": {
        "colab": {
          "base_uri": "https://localhost:8080/"
        },
        "id": "qNK305ckGInR",
        "outputId": "b0f180c7-9fb5-4e5d-9e6a-94b69b58ccb2"
      },
      "execution_count": 3,
      "outputs": [
        {
          "output_type": "stream",
          "name": "stdout",
          "text": [
            "28.274333882308138\n",
            "20\n"
          ]
        }
      ]
    },
    {
      "cell_type": "code",
      "source": [
        "#3. Multi-level Inheritance: Vehicle → Car → ElectricCar\n",
        "class Vehicle:\n",
        "    def __init__(self, type):\n",
        "        self.type = type\n",
        "\n",
        "class Car(Vehicle):\n",
        "    def __init__(self, type, brand):\n",
        "        super().__init__(type)\n",
        "        self.brand = brand\n",
        "\n",
        "class ElectricCar(Car):\n",
        "    def __init__(self, type, brand, battery):\n",
        "        super().__init__(type, brand)\n",
        "        self.battery = battery\n",
        "\n",
        "ecar = ElectricCar(\"Car\", \"Tesla\", \"100 kWh\")\n",
        "print(ecar.type, ecar.brand, ecar.battery)  # Car Tesla 100 kWh\n"
      ],
      "metadata": {
        "colab": {
          "base_uri": "https://localhost:8080/"
        },
        "id": "a2BsUxYBGMQb",
        "outputId": "9f1b9c93-8d26-443e-c054-6319bc5b864f"
      },
      "execution_count": 4,
      "outputs": [
        {
          "output_type": "stream",
          "name": "stdout",
          "text": [
            "Car Tesla 100 kWh\n"
          ]
        }
      ]
    },
    {
      "cell_type": "code",
      "source": [
        "#4. Polymorphism: Bird → Sparrow & Penguin\n",
        "class Bird:\n",
        "    def fly(self):\n",
        "        print(\"Some birds can fly\")\n",
        "\n",
        "class Sparrow(Bird):\n",
        "    def fly(self):\n",
        "        print(\"Sparrow flies high\")\n",
        "\n",
        "class Penguin(Bird):\n",
        "    def fly(self):\n",
        "        print(\"Penguin cannot fly\")\n",
        "\n",
        "birds = [Sparrow(), Penguin()]\n",
        "for b in birds:\n",
        "    b.fly()\n"
      ],
      "metadata": {
        "colab": {
          "base_uri": "https://localhost:8080/"
        },
        "id": "vLD7LJN8GPVz",
        "outputId": "5def3053-97fc-43f6-b99d-8efbaf3a8be4"
      },
      "execution_count": 5,
      "outputs": [
        {
          "output_type": "stream",
          "name": "stdout",
          "text": [
            "Sparrow flies high\n",
            "Penguin cannot fly\n"
          ]
        }
      ]
    },
    {
      "cell_type": "code",
      "source": [
        "#5. Encapsulation: BankAccount\n",
        "class BankAccount:\n",
        "    def __init__(self, balance):\n",
        "        self.__balance = balance  # private attribute\n",
        "\n",
        "    def deposit(self, amount):\n",
        "        self.__balance += amount\n",
        "\n",
        "    def withdraw(self, amount):\n",
        "        if amount <= self.__balance:\n",
        "            self.__balance -= amount\n",
        "        else:\n",
        "            print(\"Insufficient funds\")\n",
        "\n",
        "    def get_balance(self):\n",
        "        return self.__balance\n",
        "\n",
        "acc = BankAccount(1000)\n",
        "acc.deposit(500)\n",
        "acc.withdraw(300)\n",
        "print(acc.get_balance())  # 1200\n"
      ],
      "metadata": {
        "colab": {
          "base_uri": "https://localhost:8080/"
        },
        "id": "hnUfr_DyGS3S",
        "outputId": "91288f3e-5213-48df-fb14-65cca5113075"
      },
      "execution_count": 6,
      "outputs": [
        {
          "output_type": "stream",
          "name": "stdout",
          "text": [
            "1200\n"
          ]
        }
      ]
    },
    {
      "cell_type": "code",
      "source": [
        "#6. Runtime Polymorphism: Instrument → Guitar & Piano\n",
        "class Instrument:\n",
        "    def play(self):\n",
        "        print(\"Playing instrument\")\n",
        "\n",
        "class Guitar(Instrument):\n",
        "    def play(self):\n",
        "        print(\"Strumming the guitar\")\n",
        "\n",
        "class Piano(Instrument):\n",
        "    def play(self):\n",
        "        print(\"Playing the piano keys\")\n",
        "\n",
        "instruments = [Guitar(), Piano()]\n",
        "for inst in instruments:\n",
        "    inst.play()\n"
      ],
      "metadata": {
        "colab": {
          "base_uri": "https://localhost:8080/"
        },
        "id": "A6QpCP43GV0K",
        "outputId": "bf796ff0-772a-4867-a46f-1ff9cb667562"
      },
      "execution_count": 7,
      "outputs": [
        {
          "output_type": "stream",
          "name": "stdout",
          "text": [
            "Strumming the guitar\n",
            "Playing the piano keys\n"
          ]
        }
      ]
    },
    {
      "cell_type": "code",
      "source": [
        "#7. Class & Static Methods: MathOperations\n",
        "class MathOperations:\n",
        "    @classmethod\n",
        "    def add_numbers(cls, a, b):\n",
        "        return a + b\n",
        "\n",
        "    @staticmethod\n",
        "    def subtract_numbers(a, b):\n",
        "        return a - b\n",
        "\n",
        "print(MathOperations.add_numbers(10, 5))      # 15\n",
        "print(MathOperations.subtract_numbers(10, 5)) # 5\n"
      ],
      "metadata": {
        "colab": {
          "base_uri": "https://localhost:8080/"
        },
        "id": "GOal5C12GYhZ",
        "outputId": "3b2517f0-8135-46dd-84ae-dbe4089886e8"
      },
      "execution_count": 8,
      "outputs": [
        {
          "output_type": "stream",
          "name": "stdout",
          "text": [
            "15\n",
            "5\n"
          ]
        }
      ]
    },
    {
      "cell_type": "code",
      "source": [
        "#8. Counting objects with a class method: Person\n",
        "class Person:\n",
        "    count = 0\n",
        "\n",
        "    def __init__(self, name):\n",
        "        self.name = name\n",
        "        Person.increment_count()\n",
        "\n",
        "    @classmethod\n",
        "    def increment_count(cls):\n",
        "        cls.count += 1\n",
        "\n",
        "p1 = Person(\"Alice\")\n",
        "p2 = Person(\"Bob\")\n",
        "p3 = Person(\"Charlie\")\n",
        "\n",
        "print(Person.count)\n"
      ],
      "metadata": {
        "colab": {
          "base_uri": "https://localhost:8080/"
        },
        "id": "Btv1TVMRGbX6",
        "outputId": "bb9c947c-50c0-4019-f675-adb855b65c7f"
      },
      "execution_count": 9,
      "outputs": [
        {
          "output_type": "stream",
          "name": "stdout",
          "text": [
            "3\n"
          ]
        }
      ]
    },
    {
      "cell_type": "code",
      "source": [
        "#9. Fraction class with __str__ override\n",
        "class Fraction:\n",
        "    def __init__(self, numerator, denominator):\n",
        "        self.numerator = numerator\n",
        "        self.denominator = denominator\n",
        "\n",
        "    def __str__(self):\n",
        "        return f\"{self.numerator}/{self.denominator}\"\n",
        "\n",
        "f = Fraction(3, 4)\n",
        "print(f)\n"
      ],
      "metadata": {
        "colab": {
          "base_uri": "https://localhost:8080/"
        },
        "id": "hf38TwjWGd51",
        "outputId": "84dc52dd-1df0-4641-cdb6-dfd0deef3e15"
      },
      "execution_count": 10,
      "outputs": [
        {
          "output_type": "stream",
          "name": "stdout",
          "text": [
            "3/4\n"
          ]
        }
      ]
    },
    {
      "cell_type": "code",
      "source": [
        "#10. Operator Overloading: Vector Addition\n",
        "class Vector:\n",
        "    def __init__(self, x, y):\n",
        "        self.x = x\n",
        "        self.y = y\n",
        "\n",
        "    # Overload + operator\n",
        "    def __add__(self, other):\n",
        "        return Vector(self.x + other.x, self.y + other.y)\n",
        "\n",
        "    def __str__(self):\n",
        "        return f\"Vector({self.x}, {self.y})\"\n",
        "\n",
        "v1 = Vector(2, 3)\n",
        "v2 = Vector(4, 5)\n",
        "v3 = v1 + v2\n",
        "print(v3)\n"
      ],
      "metadata": {
        "colab": {
          "base_uri": "https://localhost:8080/"
        },
        "id": "6Ced9cKoGgZS",
        "outputId": "08850890-ae27-44a8-af5e-8fc09c0cc083"
      },
      "execution_count": 11,
      "outputs": [
        {
          "output_type": "stream",
          "name": "stdout",
          "text": [
            "Vector(6, 8)\n"
          ]
        }
      ]
    },
    {
      "cell_type": "code",
      "source": [
        "#11. Person Class with greet() Method\n",
        "class Person:\n",
        "    def __init__(self, name, age):\n",
        "        self.name = name\n",
        "        self.age = age\n",
        "\n",
        "    def greet(self):\n",
        "        print(f\"Hello, my name is {self.name} and I am {self.age} years old.\")\n",
        "\n",
        "p = Person(\"Alice\", 25)\n",
        "p.greet()\n"
      ],
      "metadata": {
        "colab": {
          "base_uri": "https://localhost:8080/"
        },
        "id": "JEXbeecJGi9M",
        "outputId": "92b9228d-cfb7-4d98-b553-92fed1ae822d"
      },
      "execution_count": 12,
      "outputs": [
        {
          "output_type": "stream",
          "name": "stdout",
          "text": [
            "Hello, my name is Alice and I am 25 years old.\n"
          ]
        }
      ]
    },
    {
      "cell_type": "code",
      "source": [
        "#12. Student Class with Average Grade Calculation\n",
        "class Student:\n",
        "    def __init__(self, name, grades):\n",
        "        self.name = name\n",
        "        self.grades = grades  # list of grades\n",
        "\n",
        "    def average_grade(self):\n",
        "        return sum(self.grades) / len(self.grades) if self.grades else 0\n",
        "\n",
        "s = Student(\"Bob\", [85, 90, 78])\n",
        "print(f\"{s.name}'s average grade is {s.average_grade()}\")\n"
      ],
      "metadata": {
        "colab": {
          "base_uri": "https://localhost:8080/"
        },
        "id": "650rYrr3GlcZ",
        "outputId": "183a8bc6-3dc5-4875-e8d0-827d656754d9"
      },
      "execution_count": 13,
      "outputs": [
        {
          "output_type": "stream",
          "name": "stdout",
          "text": [
            "Bob's average grade is 84.33333333333333\n"
          ]
        }
      ]
    },
    {
      "cell_type": "code",
      "source": [
        "#13. Rectangle Class with set_dimensions() and area()\n",
        "class Rectangle:\n",
        "    def __init__(self):\n",
        "        self.length = 0\n",
        "        self.width = 0\n",
        "\n",
        "    def set_dimensions(self, length, width):\n",
        "        self.length = length\n",
        "        self.width = width\n",
        "\n",
        "    def area(self):\n",
        "        return self.length * self.width\n",
        "\n",
        "r = Rectangle()\n",
        "r.set_dimensions(5, 4)\n",
        "print(f\"Rectangle area: {r.area()}\")\n"
      ],
      "metadata": {
        "colab": {
          "base_uri": "https://localhost:8080/"
        },
        "id": "Ip4P7QCBGoPX",
        "outputId": "50b9a445-5643-47a1-e907-d79d0850f476"
      },
      "execution_count": 14,
      "outputs": [
        {
          "output_type": "stream",
          "name": "stdout",
          "text": [
            "Rectangle area: 20\n"
          ]
        }
      ]
    },
    {
      "cell_type": "code",
      "source": [
        "#14. Employee & Manager Class with Salary Calculation\n",
        "class Employee:\n",
        "    def __init__(self, name, hours_worked, hourly_rate):\n",
        "        self.name = name\n",
        "        self.hours_worked = hours_worked\n",
        "        self.hourly_rate = hourly_rate\n",
        "\n",
        "    def calculate_salary(self):\n",
        "        return self.hours_worked * self.hourly_rate\n",
        "\n",
        "class Manager(Employee):\n",
        "    def __init__(self, name, hours_worked, hourly_rate, bonus):\n",
        "        super().__init__(name, hours_worked, hourly_rate)\n",
        "        self.bonus = bonus\n",
        "\n",
        "    def calculate_salary(self):\n",
        "        return super().calculate_salary() + self.bonus\n",
        "\n",
        "e = Employee(\"John\", 40, 20)\n",
        "m = Manager(\"Alice\", 40, 30, 500)\n",
        "\n",
        "print(f\"{e.name}'s salary: {e.calculate_salary()}\")\n",
        "print(f\"{m.name}'s salary: {m.calculate_salary()}\")\n"
      ],
      "metadata": {
        "colab": {
          "base_uri": "https://localhost:8080/"
        },
        "id": "rFSBLia7GrJ_",
        "outputId": "029ef333-0ad3-48e1-bf01-b42d36f4e275"
      },
      "execution_count": 15,
      "outputs": [
        {
          "output_type": "stream",
          "name": "stdout",
          "text": [
            "John's salary: 800\n",
            "Alice's salary: 1700\n"
          ]
        }
      ]
    },
    {
      "cell_type": "code",
      "source": [
        "#15. Product Class with total_price() Method\n",
        "class Product:\n",
        "    def __init__(self, name, price, quantity):\n",
        "        self.name = name\n",
        "        self.price = price\n",
        "        self.quantity = quantity\n",
        "\n",
        "    def total_price(self):\n",
        "        return self.price * self.quantity\n",
        "\n",
        "p = Product(\"Laptop\", 750, 3)\n",
        "print(f\"Total price of {p.name}: ${p.total_price()}\")\n"
      ],
      "metadata": {
        "colab": {
          "base_uri": "https://localhost:8080/"
        },
        "id": "QsddzpV9GueI",
        "outputId": "77a07c1c-105b-4dcd-e9b1-4eb83d77a920"
      },
      "execution_count": 16,
      "outputs": [
        {
          "output_type": "stream",
          "name": "stdout",
          "text": [
            "Total price of Laptop: $2250\n"
          ]
        }
      ]
    },
    {
      "cell_type": "code",
      "source": [
        "#16. Abstract Class Animal with Cow and Sheep\n",
        "from abc import ABC, abstractmethod\n",
        "\n",
        "class Animal(ABC):\n",
        "    @abstractmethod\n",
        "    def sound(self):\n",
        "        pass\n",
        "\n",
        "class Cow(Animal):\n",
        "    def sound(self):\n",
        "        print(\"Moo!\")\n",
        "\n",
        "class Sheep(Animal):\n",
        "    def sound(self):\n",
        "        print(\"Baa!\")\n",
        "\n",
        "animals = [Cow(), Sheep()]\n",
        "for a in animals:\n",
        "    a.sound()\n"
      ],
      "metadata": {
        "colab": {
          "base_uri": "https://localhost:8080/"
        },
        "id": "ewxPq_kBGxGE",
        "outputId": "85615c78-0d03-45d2-f172-1cfa4341753e"
      },
      "execution_count": 17,
      "outputs": [
        {
          "output_type": "stream",
          "name": "stdout",
          "text": [
            "Moo!\n",
            "Baa!\n"
          ]
        }
      ]
    },
    {
      "cell_type": "code",
      "source": [
        "#17. Book Class with get_book_info() Method\n",
        "class Book:\n",
        "    def __init__(self, title, author, year_published):\n",
        "        self.title = title\n",
        "        self.author = author\n",
        "        self.year_published = year_published\n",
        "\n",
        "    def get_book_info(self):\n",
        "        return f\"'{self.title}' by {self.author}, published in {self.year_published}\"\n",
        "\n",
        "b = Book(\"Learning Python\", \"Mark Lutz\", 2013)\n",
        "print(b.get_book_info())\n"
      ],
      "metadata": {
        "colab": {
          "base_uri": "https://localhost:8080/"
        },
        "id": "0gIEfRKWG0Dy",
        "outputId": "01efa858-d602-4534-8161-6bf6e8ec4cfe"
      },
      "execution_count": 18,
      "outputs": [
        {
          "output_type": "stream",
          "name": "stdout",
          "text": [
            "'Learning Python' by Mark Lutz, published in 2013\n"
          ]
        }
      ]
    },
    {
      "cell_type": "code",
      "source": [
        "#18. House and Mansion Class (Inheritance)\n",
        "class House:\n",
        "    def __init__(self, address, price):\n",
        "        self.address = address\n",
        "        self.price = price\n",
        "\n",
        "class Mansion(House):\n",
        "    def __init__(self, address, price, number_of_rooms):\n",
        "        super().__init__(address, price)\n",
        "        self.number_of_rooms = number_of_rooms\n",
        "\n",
        "m = Mansion(\"123 Luxury St\", 1500000, 10)\n",
        "print(f\"Address: {m.address}, Price: ${m.price}, Rooms: {m.number_of_rooms}\")\n"
      ],
      "metadata": {
        "colab": {
          "base_uri": "https://localhost:8080/"
        },
        "id": "Xd27WrDVG4mx",
        "outputId": "8f086419-b05d-4bb3-a4c4-300558005b3d"
      },
      "execution_count": 19,
      "outputs": [
        {
          "output_type": "stream",
          "name": "stdout",
          "text": [
            "Address: 123 Luxury St, Price: $1500000, Rooms: 10\n"
          ]
        }
      ]
    },
    {
      "cell_type": "code",
      "source": [],
      "metadata": {
        "id": "9XFPJa8vG7HF"
      },
      "execution_count": null,
      "outputs": []
    }
  ]
}