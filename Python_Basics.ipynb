{
  "nbformat": 4,
  "nbformat_minor": 0,
  "metadata": {
    "colab": {
      "provenance": [],
      "gpuType": "T4",
      "authorship_tag": "ABX9TyNV/co/VROBYfFCaVBYfxVF",
      "include_colab_link": true
    },
    "kernelspec": {
      "name": "python3",
      "display_name": "Python 3"
    },
    "language_info": {
      "name": "python"
    },
    "accelerator": "GPU"
  },
  "cells": [
    {
      "cell_type": "markdown",
      "metadata": {
        "id": "view-in-github",
        "colab_type": "text"
      },
      "source": [
        "<a href=\"https://colab.research.google.com/github/kanhaia21/Assignments/blob/main/Python_Basics.ipynb\" target=\"_parent\"><img src=\"https://colab.research.google.com/assets/colab-badge.svg\" alt=\"Open In Colab\"/></a>"
      ]
    },
    {
      "cell_type": "markdown",
      "source": [
        "#Python Basics Questions"
      ],
      "metadata": {
        "id": "rdO8X3hTsXbl"
      }
    },
    {
      "cell_type": "code",
      "source": [
        "content=\"\"\"\n",
        "1. What is Python, and why is it popular?\n",
        "Python is a high-level, interpreted, object-oriented programming language known for its simplicity, readability, and versatility.\n",
        "It is popular because of:\n",
        "•\tEasy-to-learn syntax (close to English).\n",
        "•\tHuge standard library and third-party packages.\n",
        "•\tWide use in data science, web development, AI, machine learning, and automation.\n",
        "•\tStrong community support and open-source nature.\n",
        "\n",
        "2. What is an interpreter in Python?\n",
        "An interpreter is a program that executes Python code line by line, converting it into machine code at runtime.\n",
        "\n",
        "3. What are pre-defined keywords in Python?\n",
        "pre-defined keywords are reserved words that have special meaning in Python and cannot be used as identifiers (variables, functions, etc.).\n",
        "Examples: if, else, for, while, True, False, None, class, def.\n",
        "\n",
        "4. Can keywords be used as variable names?\n",
        "Keywords are reserved and cannot be used as variable names.\n",
        "\n",
        "5. What is mutability in Python?\n",
        "Mutability refers to whether an object’s state (content) can be changed after creation.\n",
        "•\tMutable: Can be modified (e.g., lists, dictionaries, sets).\n",
        "•\tImmutable: Cannot be changed (e.g., tuples, strings, integers).\n",
        "\n",
        "6. Why are lists mutable, but tuples are immutable?\n",
        "•\tLists are designed for dynamic data manipulation, so Python allows modifications (add, remove, update elements).\n",
        "•\tTuples are meant for fixed, read-only data (e.g., coordinates, constants), so they are immutable for performance and data integrity.\n",
        "\n",
        "7. What is the difference between == and “is” operators in Python?\n",
        "•\t== → checks value equality (whether two objects have the same value).\n",
        "•\tis → checks identity (whether two variables point to the exact same object in memory).\n",
        "\n",
        "\n",
        "Example:\n",
        "a = [1,2,3]\n",
        "b = [1,2,3]\n",
        "print(a == b)   True  (values same)\n",
        "print(a is b)   False (different memory objects)\n",
        "\n",
        "8. What are logical operators in Python?\n",
        "Logical operators are used to combine conditional statements:\n",
        "•\tand → returns True if both conditions are True.\n",
        "•\tor → returns True if at least one condition is True.\n",
        "•\tnot → reverses the Boolean value.\n",
        "\n",
        "9. What is type casting in Python?\n",
        "Type casting means converting one data type into another.\n",
        "Example:\n",
        "x = \"100\"\n",
        "y = int(x)\n",
        "\n",
        "10. What is the difference between implicit and explicit type casting?\n",
        "•\tImplicit casting (Type conversion): Done automatically by Python (e.g., int + float → result is float).\n",
        "•\tExplicit casting (Type casting): Done manually by programmer using functions like int(), float(), str().\n",
        "\n",
        "11. What is the purpose of conditional statements in Python?\n",
        "Conditional statements (if, elif, else) are used to control program flow by executing specific blocks of code only if certain conditions are met.\n",
        "\n",
        "12. How does the elif statement work?\n",
        "elif (else if) allows multiple conditions to be checked sequentially.\n",
        "Python executes the first True condition and skips the rest.\n",
        "Example:\n",
        "x = 20\n",
        "if x < 10:\n",
        "    print(\"small\")\n",
        "elif x < 30:\n",
        "    print(\"medium\")\n",
        "else:\n",
        "    print(\"large\")\n",
        "\n",
        "13. What is the difference between for and while loops?\n",
        "•\tfor loop → used when you know the number of iterations (e.g., iterating over a list, range).\n",
        "•\twhile loop → used when the loop should continue until a condition becomes False (iterations may be unknown in advance).\n",
        "\n",
        "14. Describe a scenario where a while loop is more suitable than a for loop.\n",
        "When the number of iterations is unknown beforehand.\n",
        "Example: Keep asking a user for input until they enter \"quit\".\n",
        "user_input = \"\"\n",
        "while user_input != \"quit\":\n",
        "    user_input = input(\"Enter something (type quit to exit): \")\n",
        "\"\"\"\n",
        "print(content)"
      ],
      "metadata": {
        "colab": {
          "base_uri": "https://localhost:8080/"
        },
        "id": "uPIE4Pq_tIer",
        "outputId": "3d8477d4-febc-43f1-e7c8-f6d41f09daf2"
      },
      "execution_count": 7,
      "outputs": [
        {
          "output_type": "stream",
          "name": "stdout",
          "text": [
            "\n",
            "1. What is Python, and why is it popular?\n",
            "Python is a high-level, interpreted, object-oriented programming language known for its simplicity, readability, and versatility.\n",
            "It is popular because of:\n",
            "•\tEasy-to-learn syntax (close to English).\n",
            "•\tHuge standard library and third-party packages.\n",
            "•\tWide use in data science, web development, AI, machine learning, and automation.\n",
            "•\tStrong community support and open-source nature.\n",
            "\n",
            "2. What is an interpreter in Python?\n",
            "An interpreter is a program that executes Python code line by line, converting it into machine code at runtime.\n",
            "\n",
            "3. What are pre-defined keywords in Python?\n",
            "pre-defined keywords are reserved words that have special meaning in Python and cannot be used as identifiers (variables, functions, etc.).\n",
            "Examples: if, else, for, while, True, False, None, class, def.\n",
            "\n",
            "4. Can keywords be used as variable names?\n",
            "Keywords are reserved and cannot be used as variable names.\n",
            "\n",
            "5. What is mutability in Python?\n",
            "Mutability refers to whether an object’s state (content) can be changed after creation.\n",
            "•\tMutable: Can be modified (e.g., lists, dictionaries, sets).\n",
            "•\tImmutable: Cannot be changed (e.g., tuples, strings, integers).\n",
            "\n",
            "6. Why are lists mutable, but tuples are immutable?\n",
            "•\tLists are designed for dynamic data manipulation, so Python allows modifications (add, remove, update elements).\n",
            "•\tTuples are meant for fixed, read-only data (e.g., coordinates, constants), so they are immutable for performance and data integrity.\n",
            "\n",
            "7. What is the difference between == and “is” operators in Python?\n",
            "•\t== → checks value equality (whether two objects have the same value).\n",
            "•\tis → checks identity (whether two variables point to the exact same object in memory).\n",
            "\n",
            "\n",
            "Example:\n",
            "a = [1,2,3]\n",
            "b = [1,2,3]\n",
            "print(a == b)   True  (values same)\n",
            "print(a is b)   False (different memory objects)\n",
            "\n",
            "8. What are logical operators in Python?\n",
            "Logical operators are used to combine conditional statements:\n",
            "•\tand → returns True if both conditions are True.\n",
            "•\tor → returns True if at least one condition is True.\n",
            "•\tnot → reverses the Boolean value.\n",
            "\n",
            "9. What is type casting in Python?\n",
            "Type casting means converting one data type into another.\n",
            "Example:\n",
            "x = \"100\"\n",
            "y = int(x)  \n",
            "\n",
            "10. What is the difference between implicit and explicit type casting?\n",
            "•\tImplicit casting (Type conversion): Done automatically by Python (e.g., int + float → result is float).\n",
            "•\tExplicit casting (Type casting): Done manually by programmer using functions like int(), float(), str().\n",
            "\n",
            "11. What is the purpose of conditional statements in Python?\n",
            "Conditional statements (if, elif, else) are used to control program flow by executing specific blocks of code only if certain conditions are met.\n",
            "\n",
            "12. How does the elif statement work?\n",
            "elif (else if) allows multiple conditions to be checked sequentially.\n",
            "Python executes the first True condition and skips the rest.\n",
            "Example:\n",
            "x = 20\n",
            "if x < 10:\n",
            "    print(\"small\")\n",
            "elif x < 30:\n",
            "    print(\"medium\") \n",
            "else:\n",
            "    print(\"large\")\n",
            "\n",
            "13. What is the difference between for and while loops?\n",
            "•\tfor loop → used when you know the number of iterations (e.g., iterating over a list, range).\n",
            "•\twhile loop → used when the loop should continue until a condition becomes False (iterations may be unknown in advance).\n",
            "\n",
            "14. Describe a scenario where a while loop is more suitable than a for loop.\n",
            "When the number of iterations is unknown beforehand.\n",
            "Example: Keep asking a user for input until they enter \"quit\".\n",
            "user_input = \"\"\n",
            "while user_input != \"quit\":\n",
            "    user_input = input(\"Enter something (type quit to exit): \")\n",
            "\n"
          ]
        }
      ]
    },
    {
      "cell_type": "markdown",
      "source": [
        "#Practical Questions"
      ],
      "metadata": {
        "id": "RbKSm08UvAT-"
      }
    },
    {
      "cell_type": "code",
      "source": [
        "#1. Write a Python program to print \"Hello, World!\"\n",
        "print(\"Hello, World!\")"
      ],
      "metadata": {
        "colab": {
          "base_uri": "https://localhost:8080/"
        },
        "id": "ZDW90kTFuvi6",
        "outputId": "11ef88b2-d4ae-4313-9602-fdb3223e79d9"
      },
      "execution_count": 11,
      "outputs": [
        {
          "output_type": "stream",
          "name": "stdout",
          "text": [
            "Hello, World!\n"
          ]
        }
      ]
    },
    {
      "cell_type": "code",
      "source": [
        "#2. Write a Python program that displays your name and age.\n",
        "name = \"Kanhaia\"\n",
        "age = 25\n",
        "print(\"Name:\", name)\n",
        "print(\"Age:\", age)\n"
      ],
      "metadata": {
        "colab": {
          "base_uri": "https://localhost:8080/"
        },
        "id": "bnKR3xMmu3BC",
        "outputId": "0638de89-4d51-4709-88ec-6cf80215c886"
      },
      "execution_count": 12,
      "outputs": [
        {
          "output_type": "stream",
          "name": "stdout",
          "text": [
            "Name: Kanhaia\n",
            "Age: 25\n"
          ]
        }
      ]
    },
    {
      "cell_type": "code",
      "source": [
        "#3. Write code to print all the pre-defined keywords in Python using the keyword library.\n",
        "import keyword\n",
        "print(keyword.kwlist)\n"
      ],
      "metadata": {
        "colab": {
          "base_uri": "https://localhost:8080/"
        },
        "id": "3Ebr7Tmlvt7F",
        "outputId": "c6349358-b997-435e-d03f-2e5019dcc2cc"
      },
      "execution_count": 13,
      "outputs": [
        {
          "output_type": "stream",
          "name": "stdout",
          "text": [
            "['False', 'None', 'True', 'and', 'as', 'assert', 'async', 'await', 'break', 'class', 'continue', 'def', 'del', 'elif', 'else', 'except', 'finally', 'for', 'from', 'global', 'if', 'import', 'in', 'is', 'lambda', 'nonlocal', 'not', 'or', 'pass', 'raise', 'return', 'try', 'while', 'with', 'yield']\n"
          ]
        }
      ]
    },
    {
      "cell_type": "code",
      "source": [
        "#4. Write a program that checks if a given word is a Python keyword.\n",
        "import keyword\n",
        "word = input(\"Enter a word: \")\n",
        "if keyword.iskeyword(word):\n",
        "    print(f\"'{word}' is a Python keyword.\")\n",
        "else:\n",
        "    print(f\"'{word}' is NOT a Python keyword.\")\n"
      ],
      "metadata": {
        "colab": {
          "base_uri": "https://localhost:8080/"
        },
        "id": "NbheTyB3v4KR",
        "outputId": "019c2e14-aea4-4a25-e42b-6d6f0a9b83a3"
      },
      "execution_count": 14,
      "outputs": [
        {
          "output_type": "stream",
          "name": "stdout",
          "text": [
            "Enter a word: w\n",
            "'w' is NOT a Python keyword.\n"
          ]
        }
      ]
    },
    {
      "cell_type": "code",
      "source": [
        "#5. Create a list and tuple in Python, and demonstrate how attempting to change an element works differently for each.\n",
        "my_list = [1, 2, 3]\n",
        "my_list[0] = 100\n",
        "print(\"Modified list:\", my_list)"
      ],
      "metadata": {
        "colab": {
          "base_uri": "https://localhost:8080/"
        },
        "id": "I_jGRG02v4V9",
        "outputId": "9e4c5d0b-0cdc-42ee-fa89-57bf2e57b1cc"
      },
      "execution_count": 16,
      "outputs": [
        {
          "output_type": "stream",
          "name": "stdout",
          "text": [
            "Modified list: [100, 2, 3]\n"
          ]
        }
      ]
    },
    {
      "cell_type": "code",
      "source": [
        "my_tuple = (1, 2, 3)\n",
        "my_tuple[0] = 100\n",
        "print(my_tuple)\n"
      ],
      "metadata": {
        "colab": {
          "base_uri": "https://localhost:8080/",
          "height": 176
        },
        "id": "bPo-cpJ7v4ZW",
        "outputId": "573d0d7e-4115-4be7-bde8-4983821b352b"
      },
      "execution_count": 17,
      "outputs": [
        {
          "output_type": "error",
          "ename": "TypeError",
          "evalue": "'tuple' object does not support item assignment",
          "traceback": [
            "\u001b[0;31m---------------------------------------------------------------------------\u001b[0m",
            "\u001b[0;31mTypeError\u001b[0m                                 Traceback (most recent call last)",
            "\u001b[0;32m/tmp/ipython-input-618021807.py\u001b[0m in \u001b[0;36m<cell line: 0>\u001b[0;34m()\u001b[0m\n\u001b[1;32m      1\u001b[0m \u001b[0mmy_tuple\u001b[0m \u001b[0;34m=\u001b[0m \u001b[0;34m(\u001b[0m\u001b[0;36m1\u001b[0m\u001b[0;34m,\u001b[0m \u001b[0;36m2\u001b[0m\u001b[0;34m,\u001b[0m \u001b[0;36m3\u001b[0m\u001b[0;34m)\u001b[0m\u001b[0;34m\u001b[0m\u001b[0;34m\u001b[0m\u001b[0m\n\u001b[0;32m----> 2\u001b[0;31m \u001b[0mmy_tuple\u001b[0m\u001b[0;34m[\u001b[0m\u001b[0;36m0\u001b[0m\u001b[0;34m]\u001b[0m \u001b[0;34m=\u001b[0m \u001b[0;36m100\u001b[0m\u001b[0;34m\u001b[0m\u001b[0;34m\u001b[0m\u001b[0m\n\u001b[0m\u001b[1;32m      3\u001b[0m \u001b[0mprint\u001b[0m\u001b[0;34m(\u001b[0m\u001b[0mmy_tuple\u001b[0m\u001b[0;34m)\u001b[0m\u001b[0;34m\u001b[0m\u001b[0;34m\u001b[0m\u001b[0m\n",
            "\u001b[0;31mTypeError\u001b[0m: 'tuple' object does not support item assignment"
          ]
        }
      ]
    },
    {
      "cell_type": "code",
      "source": [
        "#6. Write a function to demonstrate the behaviour of mutable and immutable arguments.\n",
        "def modify_values(num, mylist):\n",
        "    # Immutable example\n",
        "    num += 10          # This will NOT change the original integer outside the function\n",
        "    # Mutable example\n",
        "    mylist.append(100) # This WILL modify the original list\n",
        "    print(\"Inside function:\")\n",
        "    print(\"num =\", num)\n",
        "    print(\"mylist =\", mylist)\n",
        "\n",
        "# Test\n",
        "x = 5\n",
        "y = [1, 2, 3]\n",
        "modify_values(x, y)\n",
        "print(\"\\nOutside function:\")\n",
        "print(\"x =\", x)   # unchanged (immutable)\n",
        "print(\"y =\", y)   # changed (mutable)\n"
      ],
      "metadata": {
        "colab": {
          "base_uri": "https://localhost:8080/"
        },
        "id": "RVWlrG84v4dt",
        "outputId": "c25ce4f1-4489-4714-f928-0114451fa3bd"
      },
      "execution_count": 18,
      "outputs": [
        {
          "output_type": "stream",
          "name": "stdout",
          "text": [
            "Inside function:\n",
            "num = 15\n",
            "mylist = [1, 2, 3, 100]\n",
            "\n",
            "Outside function:\n",
            "x = 5\n",
            "y = [1, 2, 3, 100]\n"
          ]
        }
      ]
    },
    {
      "cell_type": "code",
      "source": [
        "#7. Write a program that performs basic arithmetic operations on two user-input numbers.\n",
        "a = int(input(\"Enter first number: \"))\n",
        "b = int(input(\"Enter second number: \"))\n",
        "\n",
        "print(\"Sum:\", a + b)\n",
        "print(\"Difference:\", a - b)\n",
        "print(\"Product:\", a * b)\n",
        "print(\"Quotient:\", a / b)\n"
      ],
      "metadata": {
        "colab": {
          "base_uri": "https://localhost:8080/"
        },
        "id": "v7JUW-Kfv4g8",
        "outputId": "edf95601-9255-4c70-d623-22003c392d3f"
      },
      "execution_count": 19,
      "outputs": [
        {
          "output_type": "stream",
          "name": "stdout",
          "text": [
            "Enter first number: 2\n",
            "Enter second number: 4\n",
            "Sum: 6\n",
            "Difference: -2\n",
            "Product: 8\n",
            "Quotient: 0.5\n"
          ]
        }
      ]
    },
    {
      "cell_type": "code",
      "source": [
        "#8. Write a program to demonstrate the use of logical operators.\n",
        "x = 10\n",
        "y = 20\n",
        "\n",
        "print(x > 5 and y > 15)   # True\n",
        "print(x > 15 or y > 15)   # True\n",
        "print(not(x > 5))         # False\n"
      ],
      "metadata": {
        "colab": {
          "base_uri": "https://localhost:8080/"
        },
        "id": "RddrmR5Sv4km",
        "outputId": "a3273f3f-5cf6-4cd7-e9da-c6e3046a1346"
      },
      "execution_count": 20,
      "outputs": [
        {
          "output_type": "stream",
          "name": "stdout",
          "text": [
            "True\n",
            "True\n",
            "False\n"
          ]
        }
      ]
    },
    {
      "cell_type": "code",
      "source": [
        "#9. Write a Python program to convert user input from string to integer, float, and boolean types.\n",
        "user_input = input(\"Enter a value: \")\n",
        "\n",
        "print(\"As string:\", user_input)\n",
        "print(\"As integer:\", int(user_input))\n",
        "print(\"As float:\", float(user_input))\n",
        "print(\"As boolean:\", bool(user_input))  # Empty string → False\n"
      ],
      "metadata": {
        "colab": {
          "base_uri": "https://localhost:8080/"
        },
        "id": "gTT4D7H7yGuL",
        "outputId": "54417df3-dd6d-4caf-bdbc-8fe5894f1857"
      },
      "execution_count": 22,
      "outputs": [
        {
          "output_type": "stream",
          "name": "stdout",
          "text": [
            "Enter a value: 1\n",
            "As string: 1\n",
            "As integer: 1\n",
            "As float: 1.0\n",
            "As boolean: True\n"
          ]
        }
      ]
    },
    {
      "cell_type": "code",
      "source": [
        "#10. Write code to demonstrate type casting with list elements.\n",
        "numbers = [\"1\", \"2\", \"3\", \"4\"]\n",
        "int_numbers = [int(x) for x in numbers]\n",
        "print(\"Original list:\", numbers)\n",
        "print(\"After type casting:\", int_numbers)\n"
      ],
      "metadata": {
        "colab": {
          "base_uri": "https://localhost:8080/"
        },
        "id": "4-JqhUUWyKWF",
        "outputId": "9ba25a15-ff35-496c-e9e9-87040a9082a2"
      },
      "execution_count": 23,
      "outputs": [
        {
          "output_type": "stream",
          "name": "stdout",
          "text": [
            "Original list: ['1', '2', '3', '4']\n",
            "After type casting: [1, 2, 3, 4]\n"
          ]
        }
      ]
    },
    {
      "cell_type": "code",
      "source": [
        "#11. Write a program that checks if a number is positive, negative, or zero.\n",
        "n = int(input(\"Enter a number: \"))\n",
        "\n",
        "if n > 0:\n",
        "    print(\"Positive\")\n",
        "elif n < 0:\n",
        "    print(\"Negative\")\n",
        "else:\n",
        "    print(\"Zero\")\n"
      ],
      "metadata": {
        "colab": {
          "base_uri": "https://localhost:8080/"
        },
        "id": "uFnhUHw6yUPZ",
        "outputId": "6c864825-4eb4-48f9-8852-821a9c5b6114"
      },
      "execution_count": 24,
      "outputs": [
        {
          "output_type": "stream",
          "name": "stdout",
          "text": [
            "Enter a number: 2\n",
            "Positive\n"
          ]
        }
      ]
    },
    {
      "cell_type": "code",
      "source": [
        "#12. Write a for loop to print numbers from 1 to 10.\n",
        "for i in range(1, 11):\n",
        "    print(i)\n"
      ],
      "metadata": {
        "colab": {
          "base_uri": "https://localhost:8080/"
        },
        "id": "h3p5QBvZyWxO",
        "outputId": "f2ee6ebe-4b86-4479-8d98-d3cc8eeaedf6"
      },
      "execution_count": 25,
      "outputs": [
        {
          "output_type": "stream",
          "name": "stdout",
          "text": [
            "1\n",
            "2\n",
            "3\n",
            "4\n",
            "5\n",
            "6\n",
            "7\n",
            "8\n",
            "9\n",
            "10\n"
          ]
        }
      ]
    },
    {
      "cell_type": "code",
      "source": [
        "#13. Write a Python program to find the sum of all even numbers between 1 and 50.\n",
        "total = 0\n",
        "for i in range(2, 51, 2):\n",
        "    total += i\n",
        "print(\"Sum of even numbers (1–50):\", total)\n"
      ],
      "metadata": {
        "colab": {
          "base_uri": "https://localhost:8080/"
        },
        "id": "vWU8awhcyaMz",
        "outputId": "df1b4880-4e39-40a8-80c4-362afb0e4d0a"
      },
      "execution_count": 26,
      "outputs": [
        {
          "output_type": "stream",
          "name": "stdout",
          "text": [
            "Sum of even numbers (1–50): 650\n"
          ]
        }
      ]
    },
    {
      "cell_type": "code",
      "source": [
        "#14. Write a program to reverse a string using a while loop.\n",
        "s = input(\"Enter a string: \")\n",
        "rev = \"\"\n",
        "i = len(s) - 1\n",
        "\n",
        "while i >= 0:\n",
        "    rev += s[i]\n",
        "    i -= 1\n",
        "\n",
        "print(\"Reversed string:\", rev)\n"
      ],
      "metadata": {
        "colab": {
          "base_uri": "https://localhost:8080/"
        },
        "id": "K5dwaNo2ycTs",
        "outputId": "9f39b375-2b4c-4e5b-8938-65698396b1d2"
      },
      "execution_count": 28,
      "outputs": [
        {
          "output_type": "stream",
          "name": "stdout",
          "text": [
            "Enter a string: Kanhaia\n",
            "Reversed string: aiahnaK\n"
          ]
        }
      ]
    },
    {
      "cell_type": "code",
      "source": [
        "#15. Write a Python program to calculate the factorial of a number provided by the user using a while loop.\n",
        "n = int(input(\"Enter a number: \"))\n",
        "fact = 1\n",
        "i = 1\n",
        "\n",
        "while i <= n:\n",
        "    fact *= i\n",
        "    i += 1\n",
        "\n",
        "print(\"Factorial of\", n, \"is\", fact)\n"
      ],
      "metadata": {
        "colab": {
          "base_uri": "https://localhost:8080/"
        },
        "id": "wVlUsTF6yfGP",
        "outputId": "c97243a6-1009-4283-bf6b-82a63d53f841"
      },
      "execution_count": 29,
      "outputs": [
        {
          "output_type": "stream",
          "name": "stdout",
          "text": [
            "Enter a number: 4\n",
            "Factorial of 4 is 24\n"
          ]
        }
      ]
    },
    {
      "cell_type": "code",
      "source": [],
      "metadata": {
        "id": "7RLYM2e8ylW8"
      },
      "execution_count": null,
      "outputs": []
    }
  ]
}