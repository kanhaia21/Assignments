{
  "nbformat": 4,
  "nbformat_minor": 0,
  "metadata": {
    "colab": {
      "provenance": [],
      "authorship_tag": "ABX9TyPCSWD330qPwYlboLPHYafc",
      "include_colab_link": true
    },
    "kernelspec": {
      "name": "python3",
      "display_name": "Python 3"
    },
    "language_info": {
      "name": "python"
    }
  },
  "cells": [
    {
      "cell_type": "markdown",
      "metadata": {
        "id": "view-in-github",
        "colab_type": "text"
      },
      "source": [
        "<a href=\"https://colab.research.google.com/github/kanhaia21/Assignments/blob/main/Data_Types_and_Structures.ipynb\" target=\"_parent\"><img src=\"https://colab.research.google.com/assets/colab-badge.svg\" alt=\"Open In Colab\"/></a>"
      ]
    },
    {
      "cell_type": "markdown",
      "source": [
        "#Data Types and Structures Questions"
      ],
      "metadata": {
        "id": "0Frz9srW3OyR"
      }
    },
    {
      "cell_type": "code",
      "source": [
        "content=\"\"\"\n",
        "1. What are data structures, and why are they important?\n",
        "Data structures are ways of organizing and storing data so it can be accessed and modified efficiently.\n",
        "They are important because they determine how quickly and effectively algorithms can run.\n",
        "\n",
        "2. Difference between mutable and immutable data types with examples.\n",
        "•\tMutable → can be changed after creation (e.g., list, dict, set).\n",
        "lst = [1,2,3]\n",
        "lst[0] = 10\n",
        "lst\n",
        "Output [10, 2, 3]\n",
        "•\tImmutable → cannot be changed once created (e.g., tuple, str, int).\n",
        "tup = (1,2,3)\n",
        "tup[0]=10\n",
        "tup\n",
        "Output TypeError: 'tuple' object does not support item assignment\n",
        "\n",
        "3. Main differences between lists and tuples in Python.\n",
        "•\tLists: mutable, slower, written with [ ].\n",
        "•\tTuples: immutable, faster, written with ( ).\n",
        "Tuples are often used for fixed data; lists for dynamic data.\n",
        "\n",
        "4. Describe how dictionaries store data.\n",
        "Dictionaries store data as key-value pairs in a hash table.\n",
        "Each key is unique and mapped to a value using its hash.\n",
        "\n",
        "5. Why might you use a set instead of a list in Python?\n",
        "•\tSets automatically remove duplicates.\n",
        "•\tFaster lookup operations (in) than lists (O(1) vs O(n)).\n",
        "\n",
        "6. What is a string in Python, and how is it different from a list?\n",
        "A string is a sequence of characters (immutable).\n",
        "A list is a sequence of elements (mutable, can hold mixed data types).\n",
        "\n",
        "7. How do tuples ensure data integrity in Python?\n",
        "Since tuples are immutable, their contents cannot be altered.\n",
        "This ensures stored values remain constant, useful for constants or keys in dictionaries.\n",
        "\n",
        "8. What is a hash table, and how does it relate to dictionaries in Python?\n",
        "A hash table is a data structure that maps keys to values using a hash function.\n",
        "Python dictionaries are implemented internally using hash tables.\n",
        "9. Can lists contain different data types in Python?\n",
        "•\tYes, lists are heterogeneous. Example:\n",
        "mylist = [1, \"hello\", 3.14, True]\n",
        "\n",
        "10. Explain why strings are immutable in Python.\n",
        "Strings are immutable to ensure:\n",
        "•\tSecurity (used as dictionary keys).\n",
        "•\tEfficiency (shared memory optimization).\n",
        "•\tThread safety in multi-threaded programs.\n",
        "\n",
        "11. Advantages of dictionaries over lists.\n",
        "•\tDictionaries provide faster lookups (O(1)) using keys.\n",
        "•\tData retrieval is easier when items are identified by unique keys, not positions.\n",
        "\n",
        "12. Scenario where a tuple is preferable over a list.\n",
        "When storing fixed, constant data like coordinates (x, y), configuration values, or dictionary keys.\n",
        "\n",
        "13. How do sets handle duplicate values in Python?\n",
        "Sets automatically remove duplicates.\n",
        "Example:\n",
        "s = {1,2,2,3}  # Output: {1,2,3}\n",
        "\n",
        "14. How does the in keyword work differently for lists and dictionaries?\n",
        "•\tLists: checks if an element exists in the list.\n",
        "•\tDictionaries: checks if a key exists, not the value.\n",
        "\n",
        "15. Can you modify the elements of a tuple? Why or why not?\n",
        "•\tNo. Tuples are immutable, so elements cannot be added, removed, or updated.\n",
        "\n",
        "16. What is a nested dictionary? Example use case.\n",
        "A dictionary inside another dictionary.\n",
        "Example:\n",
        "student = {\n",
        "    \"name\": \"Rahul\",\n",
        "    \"grades\": {\"math\": 90, \"science\": 85}\n",
        "}\n",
        "Use case → storing structured data like JSON.\n",
        "\n",
        "17. Time complexity of accessing elements in a dictionary.\n",
        "Average case: O(1) (constant time) due to hashing.\n",
        "Worst case: O(n) (rare, due to hash collisions).\n",
        "\n",
        "18. Situations where lists are preferred over dictionaries.\n",
        "•\tWhen order matters.\n",
        "•\tWhen data doesn’t need key-value mapping (e.g., storing scores [10,20,30]).\n",
        "\n",
        "19. Why are dictionaries considered unordered, and how does that affect retrieval?\n",
        "Before Python 3.7, dictionaries were unordered.\n",
        "Now (3.7+), insertion order is preserved, but dictionaries are still accessed by keys, not positions.\n",
        "\n",
        "20. Difference between list and dictionary in terms of data retrieval.\n",
        "•\tList → retrieve by index (position).\n",
        "mylist = [10,20,30]\n",
        "mylist[1]\n",
        "Output  20\n",
        "•\tDictionary → retrieve by key (unique identifier).\n",
        "mydict = {\"a\":10,\"b\":20}\n",
        "mydict[\"b\"]\n",
        "Output  20\n",
        "\"\"\"\n",
        "print(content)"
      ],
      "metadata": {
        "colab": {
          "base_uri": "https://localhost:8080/"
        },
        "id": "WiAy24_I3TIf",
        "outputId": "7ddffc25-b210-4963-fae1-40884df2bf50"
      },
      "execution_count": 4,
      "outputs": [
        {
          "output_type": "stream",
          "name": "stdout",
          "text": [
            "\n",
            "1. What are data structures, and why are they important?\n",
            "Data structures are ways of organizing and storing data so it can be accessed and modified efficiently.\n",
            "They are important because they determine how quickly and effectively algorithms can run.\n",
            "\n",
            "2. Difference between mutable and immutable data types with examples.\n",
            "•\tMutable → can be changed after creation (e.g., list, dict, set).\n",
            "lst = [1,2,3]\n",
            "lst[0] = 10\n",
            "lst\n",
            "Output [10, 2, 3]\n",
            "•\tImmutable → cannot be changed once created (e.g., tuple, str, int).\n",
            "tup = (1,2,3)\n",
            "tup[0]=10\n",
            "tup\n",
            "Output TypeError: 'tuple' object does not support item assignment\n",
            "\n",
            "3. Main differences between lists and tuples in Python.\n",
            "•\tLists: mutable, slower, written with [ ].\n",
            "•\tTuples: immutable, faster, written with ( ).\n",
            "Tuples are often used for fixed data; lists for dynamic data.\n",
            "\n",
            "4. Describe how dictionaries store data.\n",
            "Dictionaries store data as key-value pairs in a hash table.\n",
            "Each key is unique and mapped to a value using its hash.\n",
            "\n",
            "5. Why might you use a set instead of a list in Python?\n",
            "•\tSets automatically remove duplicates.\n",
            "•\tFaster lookup operations (in) than lists (O(1) vs O(n)).\n",
            "\n",
            "6. What is a string in Python, and how is it different from a list?\n",
            "A string is a sequence of characters (immutable).\n",
            "A list is a sequence of elements (mutable, can hold mixed data types).\n",
            "\n",
            "7. How do tuples ensure data integrity in Python?\n",
            "Since tuples are immutable, their contents cannot be altered.\n",
            "This ensures stored values remain constant, useful for constants or keys in dictionaries.\n",
            "\n",
            "8. What is a hash table, and how does it relate to dictionaries in Python?\n",
            "A hash table is a data structure that maps keys to values using a hash function.\n",
            "Python dictionaries are implemented internally using hash tables.\n",
            "9. Can lists contain different data types in Python?\n",
            "•\tYes, lists are heterogeneous. Example:\n",
            "mylist = [1, \"hello\", 3.14, True]\n",
            "\n",
            "10. Explain why strings are immutable in Python.\n",
            "Strings are immutable to ensure:\n",
            "•\tSecurity (used as dictionary keys).\n",
            "•\tEfficiency (shared memory optimization).\n",
            "•\tThread safety in multi-threaded programs.\n",
            "\n",
            "11. Advantages of dictionaries over lists.\n",
            "•\tDictionaries provide faster lookups (O(1)) using keys.\n",
            "•\tData retrieval is easier when items are identified by unique keys, not positions.\n",
            "\n",
            "12. Scenario where a tuple is preferable over a list.\n",
            "When storing fixed, constant data like coordinates (x, y), configuration values, or dictionary keys.\n",
            "\n",
            "13. How do sets handle duplicate values in Python?\n",
            "Sets automatically remove duplicates.\n",
            "Example:\n",
            "s = {1,2,2,3}  # Output: {1,2,3}\n",
            "\n",
            "14. How does the in keyword work differently for lists and dictionaries?\n",
            "•\tLists: checks if an element exists in the list.\n",
            "•\tDictionaries: checks if a key exists, not the value.\n",
            "\n",
            "15. Can you modify the elements of a tuple? Why or why not?\n",
            "•\tNo. Tuples are immutable, so elements cannot be added, removed, or updated.\n",
            "\n",
            "16. What is a nested dictionary? Example use case.\n",
            "A dictionary inside another dictionary.\n",
            "Example:\n",
            "student = {\n",
            "    \"name\": \"Rahul\",\n",
            "    \"grades\": {\"math\": 90, \"science\": 85}\n",
            "}\n",
            "Use case → storing structured data like JSON.\n",
            "\n",
            "17. Time complexity of accessing elements in a dictionary.\n",
            "Average case: O(1) (constant time) due to hashing.\n",
            "Worst case: O(n) (rare, due to hash collisions).\n",
            "\n",
            "18. Situations where lists are preferred over dictionaries.\n",
            "•\tWhen order matters.\n",
            "•\tWhen data doesn’t need key-value mapping (e.g., storing scores [10,20,30]).\n",
            "\n",
            "19. Why are dictionaries considered unordered, and how does that affect retrieval?\n",
            "Before Python 3.7, dictionaries were unordered.\n",
            "Now (3.7+), insertion order is preserved, but dictionaries are still accessed by keys, not positions.\n",
            "\n",
            "20. Difference between list and dictionary in terms of data retrieval.\n",
            "•\tList → retrieve by index (position).\n",
            "mylist = [10,20,30]\n",
            "mylist[1]\n",
            "Output  20\n",
            "•\tDictionary → retrieve by key (unique identifier).\n",
            "mydict = {\"a\":10,\"b\":20}\n",
            "mydict[\"b\"]\n",
            "Output  20\n",
            "\n"
          ]
        }
      ]
    },
    {
      "cell_type": "markdown",
      "source": [
        "#Practical Questions"
      ],
      "metadata": {
        "id": "719_21PL56at"
      }
    },
    {
      "cell_type": "code",
      "source": [
        "#1. Write a code to create a string with your name and print it.\n",
        "name = \"Kanhaia Lal Singh\"\n",
        "print(name)\n"
      ],
      "metadata": {
        "colab": {
          "base_uri": "https://localhost:8080/"
        },
        "id": "SbszD6sC3mqh",
        "outputId": "306237ca-50c4-42e2-fbe3-8968438dfa29"
      },
      "execution_count": 5,
      "outputs": [
        {
          "output_type": "stream",
          "name": "stdout",
          "text": [
            "Kanhaia Lal Singh\n"
          ]
        }
      ]
    },
    {
      "cell_type": "code",
      "source": [
        "#2. Write a code to find the length of the string 'Hello World\".\n",
        "text = \"Hello World\"\n",
        "print(len(text))\n"
      ],
      "metadata": {
        "colab": {
          "base_uri": "https://localhost:8080/"
        },
        "id": "rx4iMKfQ59zH",
        "outputId": "4df74bb6-c674-4ce6-f028-b0d45c3968c1"
      },
      "execution_count": 6,
      "outputs": [
        {
          "output_type": "stream",
          "name": "stdout",
          "text": [
            "11\n"
          ]
        }
      ]
    },
    {
      "cell_type": "code",
      "source": [
        "#3. Write a code to slice the first 3 characters from the string \"Python Programming\".\n",
        "s = \"Python Programming\"\n",
        "print(s[:3])\n"
      ],
      "metadata": {
        "colab": {
          "base_uri": "https://localhost:8080/"
        },
        "id": "9v4F3W_s5_ue",
        "outputId": "d1512091-71bb-46a6-b4b6-d8eaaa883640"
      },
      "execution_count": 8,
      "outputs": [
        {
          "output_type": "stream",
          "name": "stdout",
          "text": [
            "Pyt\n"
          ]
        }
      ]
    },
    {
      "cell_type": "code",
      "source": [
        "#4. Write a code to convert the string \"hello\" to uppercase.\n",
        "word = \"hello\"\n",
        "print(word.upper())\n"
      ],
      "metadata": {
        "colab": {
          "base_uri": "https://localhost:8080/"
        },
        "id": "nk2lPO-j6Bk7",
        "outputId": "316532e1-512d-487b-f224-53a85752f82b"
      },
      "execution_count": 9,
      "outputs": [
        {
          "output_type": "stream",
          "name": "stdout",
          "text": [
            "HELLO\n"
          ]
        }
      ]
    },
    {
      "cell_type": "code",
      "source": [
        "#5. Write a code to replace the word \"apple\" with \"orange\" in the string \"I like apple\".\n",
        "sentence = \"I like apple\"\n",
        "print(sentence.replace(\"apple\", \"orange\"))\n"
      ],
      "metadata": {
        "colab": {
          "base_uri": "https://localhost:8080/"
        },
        "id": "H2RpcgJ46Hry",
        "outputId": "56197e0c-68d9-4f50-9f9f-7354d9d4840a"
      },
      "execution_count": 10,
      "outputs": [
        {
          "output_type": "stream",
          "name": "stdout",
          "text": [
            "I like orange\n"
          ]
        }
      ]
    },
    {
      "cell_type": "code",
      "source": [
        "#6. Write a code to create a list with numbers 1 to 5 and print it.\n",
        "numbers = [1, 2, 3, 4, 5]\n",
        "print(numbers)\n"
      ],
      "metadata": {
        "colab": {
          "base_uri": "https://localhost:8080/"
        },
        "id": "N9NxHG2X6KD5",
        "outputId": "1fc1262c-ddae-41f6-80f5-d08b28c07d1c"
      },
      "execution_count": 11,
      "outputs": [
        {
          "output_type": "stream",
          "name": "stdout",
          "text": [
            "[1, 2, 3, 4, 5]\n"
          ]
        }
      ]
    },
    {
      "cell_type": "code",
      "source": [
        "#7. Write a code to append the number 10 to the list [1, 2, 3, 4].\n",
        "lst = [1, 2, 3, 4]\n",
        "lst.append(10)\n",
        "print(lst)\n"
      ],
      "metadata": {
        "colab": {
          "base_uri": "https://localhost:8080/"
        },
        "id": "nl44iCne6MhP",
        "outputId": "9634ea52-cdb7-4305-8446-41506c724e9d"
      },
      "execution_count": 12,
      "outputs": [
        {
          "output_type": "stream",
          "name": "stdout",
          "text": [
            "[1, 2, 3, 4, 10]\n"
          ]
        }
      ]
    },
    {
      "cell_type": "code",
      "source": [
        "#8. Write a code to remove the number 3 from the list [1, 2, 3, 4, 5].\n",
        "lst = [1, 2, 3, 4, 5]\n",
        "lst.remove(3)\n",
        "print(lst)\n"
      ],
      "metadata": {
        "colab": {
          "base_uri": "https://localhost:8080/"
        },
        "id": "xLCtHVnK6OR7",
        "outputId": "ed3c9285-e7de-4e14-e4ee-6328a91e9fe1"
      },
      "execution_count": 13,
      "outputs": [
        {
          "output_type": "stream",
          "name": "stdout",
          "text": [
            "[1, 2, 4, 5]\n"
          ]
        }
      ]
    },
    {
      "cell_type": "code",
      "source": [
        "#9. Write a code to access the second element in the list ['a, 'b, 'c, 'd'].\n",
        "chars = ['a', 'b', 'c', 'd']\n",
        "print(chars[1])   # Index starts at 0 → 'b'\n"
      ],
      "metadata": {
        "colab": {
          "base_uri": "https://localhost:8080/"
        },
        "id": "MfWalHYz6QM5",
        "outputId": "283f3e5f-963e-4dcd-e1aa-94177a7ff1b1"
      },
      "execution_count": 14,
      "outputs": [
        {
          "output_type": "stream",
          "name": "stdout",
          "text": [
            "b\n"
          ]
        }
      ]
    },
    {
      "cell_type": "code",
      "source": [
        "#10. Write a code to reverse the list [10, 20, 30, 40, 50].\n",
        "lst = [10, 20, 30, 40, 50]\n",
        "lst.reverse()\n",
        "print(lst)\n"
      ],
      "metadata": {
        "colab": {
          "base_uri": "https://localhost:8080/"
        },
        "id": "gwqysLJd6SrN",
        "outputId": "d4658352-43ce-422b-890c-ff89185c90ef"
      },
      "execution_count": 15,
      "outputs": [
        {
          "output_type": "stream",
          "name": "stdout",
          "text": [
            "[50, 40, 30, 20, 10]\n"
          ]
        }
      ]
    },
    {
      "cell_type": "code",
      "source": [
        "#11. Write a code to create a tuple with the elements 100, 200, 300 and print it.\n",
        "t = (100, 200, 300)\n",
        "print(t)\n"
      ],
      "metadata": {
        "colab": {
          "base_uri": "https://localhost:8080/"
        },
        "id": "Sy-Tj4rn6XMj",
        "outputId": "9ff9580d-fe4a-498b-abbb-5fef42273ea4"
      },
      "execution_count": 16,
      "outputs": [
        {
          "output_type": "stream",
          "name": "stdout",
          "text": [
            "(100, 200, 300)\n"
          ]
        }
      ]
    },
    {
      "cell_type": "code",
      "source": [
        "#12. Write a code to access the second-to-last element of the tuple ('red', 'green, 'blue', 'yellow').\n",
        "colors = ('red', 'green', 'blue', 'yellow')\n",
        "print(colors[-2])\n"
      ],
      "metadata": {
        "colab": {
          "base_uri": "https://localhost:8080/"
        },
        "id": "UsvpFoAk6Y5O",
        "outputId": "0cd2a386-3e10-41ef-98a0-57da1c9efc70"
      },
      "execution_count": 17,
      "outputs": [
        {
          "output_type": "stream",
          "name": "stdout",
          "text": [
            "blue\n"
          ]
        }
      ]
    },
    {
      "cell_type": "code",
      "source": [
        "#13. Write a code to find the minimum number in the tuple (10, 20, 5, 15).\n",
        "nums = (10, 20, 5, 15)\n",
        "print(min(nums))\n"
      ],
      "metadata": {
        "colab": {
          "base_uri": "https://localhost:8080/"
        },
        "id": "D6iaHDwl6a_1",
        "outputId": "089a1ac2-841d-4960-92a3-61c472c1d76d"
      },
      "execution_count": 18,
      "outputs": [
        {
          "output_type": "stream",
          "name": "stdout",
          "text": [
            "5\n"
          ]
        }
      ]
    },
    {
      "cell_type": "code",
      "source": [
        "#14. Write a code to find the index of the element \"cat\" in the tuple ('dog', 'cat, 'rabbit).\n",
        "animals = ('dog', 'cat', 'rabbit')\n",
        "print(animals.index(\"cat\"))\n"
      ],
      "metadata": {
        "colab": {
          "base_uri": "https://localhost:8080/"
        },
        "id": "330kPMJ46d7D",
        "outputId": "5b0d647e-d66c-4896-de38-050d7d52950d"
      },
      "execution_count": 19,
      "outputs": [
        {
          "output_type": "stream",
          "name": "stdout",
          "text": [
            "1\n"
          ]
        }
      ]
    },
    {
      "cell_type": "code",
      "source": [
        "#15. Write a code to create a tuple containing three different fruits and check if \"kiwi\" is in it.\n",
        "fruits = (\"apple\", \"banana\", \"mango\")\n",
        "print(\"kiwi\" in fruits)\n"
      ],
      "metadata": {
        "colab": {
          "base_uri": "https://localhost:8080/"
        },
        "id": "xCNgwaU76gmE",
        "outputId": "6ffa131f-f7fb-4704-cb5a-9a8a339d4e74"
      },
      "execution_count": 20,
      "outputs": [
        {
          "output_type": "stream",
          "name": "stdout",
          "text": [
            "False\n"
          ]
        }
      ]
    },
    {
      "cell_type": "code",
      "source": [
        "#16. Write a code to create a set with the elements 'a, b, 'c'and print it.\n",
        "s = {'a', 'b', 'c'}\n",
        "print(s)\n"
      ],
      "metadata": {
        "colab": {
          "base_uri": "https://localhost:8080/"
        },
        "id": "7LO3St6e6ihN",
        "outputId": "8804a0c5-a27a-4a89-e4f5-2588fb3dbcbb"
      },
      "execution_count": 21,
      "outputs": [
        {
          "output_type": "stream",
          "name": "stdout",
          "text": [
            "{'b', 'a', 'c'}\n"
          ]
        }
      ]
    },
    {
      "cell_type": "code",
      "source": [
        "#17. Write a code to clear all elements from the set {1, 2, 3, 4, 5}.\n",
        "s = {1, 2, 3, 4, 5}\n",
        "s.clear()\n",
        "print(s)\n"
      ],
      "metadata": {
        "colab": {
          "base_uri": "https://localhost:8080/"
        },
        "id": "QJ5k8-Q96kgu",
        "outputId": "b2a85bef-8076-47aa-8645-fbff8ef2999f"
      },
      "execution_count": 22,
      "outputs": [
        {
          "output_type": "stream",
          "name": "stdout",
          "text": [
            "set()\n"
          ]
        }
      ]
    },
    {
      "cell_type": "code",
      "source": [
        "#18. Write a code to remove the element 4 from the set {1, 2, 3, 4}.\n",
        "s = {1, 2, 3, 4}\n",
        "s.remove(4)\n",
        "print(s)\n"
      ],
      "metadata": {
        "colab": {
          "base_uri": "https://localhost:8080/"
        },
        "id": "Spy88t-w6m13",
        "outputId": "426bc134-29d6-46b9-9b19-e8f57fd26806"
      },
      "execution_count": 23,
      "outputs": [
        {
          "output_type": "stream",
          "name": "stdout",
          "text": [
            "{1, 2, 3}\n"
          ]
        }
      ]
    },
    {
      "cell_type": "code",
      "source": [
        "#19. Write a code to find the union of two sets {1, 2, 3} and {3, 4, 5}.\n",
        "a = {1, 2, 3}\n",
        "b = {3, 4, 5}\n",
        "print(a.union(b))\n"
      ],
      "metadata": {
        "colab": {
          "base_uri": "https://localhost:8080/"
        },
        "id": "kPdBAgBc6o-Y",
        "outputId": "f48b5ff0-e356-4a74-b151-a3028b220267"
      },
      "execution_count": 24,
      "outputs": [
        {
          "output_type": "stream",
          "name": "stdout",
          "text": [
            "{1, 2, 3, 4, 5}\n"
          ]
        }
      ]
    },
    {
      "cell_type": "code",
      "source": [
        "#20. Write a code to find the intersection of two sets {1, 2, 3} and {2, 3, 4}.\n",
        "a = {1, 2, 3}\n",
        "b = {2, 3, 4}\n",
        "print(a.intersection(b))\n"
      ],
      "metadata": {
        "colab": {
          "base_uri": "https://localhost:8080/"
        },
        "id": "Xz3Rfz7F6rPr",
        "outputId": "593e6b2a-4cfa-4ba0-81e2-a9a2203eaedd"
      },
      "execution_count": 25,
      "outputs": [
        {
          "output_type": "stream",
          "name": "stdout",
          "text": [
            "{2, 3}\n"
          ]
        }
      ]
    },
    {
      "cell_type": "code",
      "source": [
        "#21. Write a code to create a dictionary with the keys \"name\", \"age\", and \"city', and print it.\n",
        "person = {\"name\": \"John\", \"age\": 25, \"city\": \"New York\"}\n",
        "print(person)\n"
      ],
      "metadata": {
        "colab": {
          "base_uri": "https://localhost:8080/"
        },
        "id": "NYUxZZtt6uXj",
        "outputId": "24dc36bb-ad21-4a17-98b1-b652d970a645"
      },
      "execution_count": 26,
      "outputs": [
        {
          "output_type": "stream",
          "name": "stdout",
          "text": [
            "{'name': 'John', 'age': 25, 'city': 'New York'}\n"
          ]
        }
      ]
    },
    {
      "cell_type": "code",
      "source": [
        "#22. Write a code to add a new key-value pair 'country': \"USA\" to the dictionary {'name: John, 'age': 25}.\n",
        "person = {'name': 'John', 'age': 25}\n",
        "person['country'] = 'USA'\n",
        "print(person)\n"
      ],
      "metadata": {
        "colab": {
          "base_uri": "https://localhost:8080/"
        },
        "id": "LWVqLP2Q6xD2",
        "outputId": "5b5d4984-76d1-4d52-df44-62fd50a2642b"
      },
      "execution_count": 27,
      "outputs": [
        {
          "output_type": "stream",
          "name": "stdout",
          "text": [
            "{'name': 'John', 'age': 25, 'country': 'USA'}\n"
          ]
        }
      ]
    },
    {
      "cell_type": "code",
      "source": [
        "#23. Write a code to access the value associated with the key 'name\" in the dictionary {'name'; 'Alice, 'age': 30}.\n",
        "person = {'name': 'Alice', 'age': 30}\n",
        "print(person['name'])\n"
      ],
      "metadata": {
        "colab": {
          "base_uri": "https://localhost:8080/"
        },
        "id": "tBbvCCAU6zjK",
        "outputId": "bbfb74b7-9850-4cfc-8f7b-afe2f244c6a6"
      },
      "execution_count": 28,
      "outputs": [
        {
          "output_type": "stream",
          "name": "stdout",
          "text": [
            "Alice\n"
          ]
        }
      ]
    },
    {
      "cell_type": "code",
      "source": [
        "#24. Write a code to remove the key 'age\" from the dictionary {'name: 'Bob, 'age': 22, city: 'New York}.\n",
        "person = {'name': 'Bob', 'age': 22, 'city': 'New York'}\n",
        "person.pop('age')\n",
        "print(person)\n"
      ],
      "metadata": {
        "colab": {
          "base_uri": "https://localhost:8080/"
        },
        "id": "tvaaU2GF61ma",
        "outputId": "132823ce-2c13-41e2-ce1e-2188f487f0e4"
      },
      "execution_count": 29,
      "outputs": [
        {
          "output_type": "stream",
          "name": "stdout",
          "text": [
            "{'name': 'Bob', 'city': 'New York'}\n"
          ]
        }
      ]
    },
    {
      "cell_type": "code",
      "source": [
        "#25. Write a code to check if the key \"city\" exists in the dictionary {'name': \"Alice, 'city: Paris'].\n",
        "person = {'name': 'Alice', 'city': 'Paris'}\n",
        "print(\"city\" in person)\n"
      ],
      "metadata": {
        "colab": {
          "base_uri": "https://localhost:8080/"
        },
        "id": "YvIY0rzV634Y",
        "outputId": "e51537e7-0b5c-48c6-f606-4d5836bf7d3d"
      },
      "execution_count": 30,
      "outputs": [
        {
          "output_type": "stream",
          "name": "stdout",
          "text": [
            "True\n"
          ]
        }
      ]
    },
    {
      "cell_type": "code",
      "source": [
        "#26. Write a code to create a list, a tuple, and a dictionary, and print them all.\n",
        "my_list = [1, 2, 3]\n",
        "my_tuple = (4, 5, 6)\n",
        "my_dict = {\"a\": 1, \"b\": 2}\n",
        "print(my_list)\n",
        "print(my_tuple)\n",
        "print(my_dict)\n"
      ],
      "metadata": {
        "colab": {
          "base_uri": "https://localhost:8080/"
        },
        "id": "Ns6yF1PF652E",
        "outputId": "e98bd335-7c4a-46bb-8bb7-42591ed8a63f"
      },
      "execution_count": 31,
      "outputs": [
        {
          "output_type": "stream",
          "name": "stdout",
          "text": [
            "[1, 2, 3]\n",
            "(4, 5, 6)\n",
            "{'a': 1, 'b': 2}\n"
          ]
        }
      ]
    },
    {
      "cell_type": "code",
      "source": [
        "#27. Write a code to create a list of 5 random numbers between 1 and 100, sort it in ascending order, and print the result.(replaced)\n",
        "import random\n",
        "nums = random.sample(range(1, 101), 5)\n",
        "nums.sort()\n",
        "print(nums)\n"
      ],
      "metadata": {
        "colab": {
          "base_uri": "https://localhost:8080/"
        },
        "id": "yPXiEqQq69Zd",
        "outputId": "59e9d1bb-98f5-49ae-85de-a25b70349455"
      },
      "execution_count": 33,
      "outputs": [
        {
          "output_type": "stream",
          "name": "stdout",
          "text": [
            "[15, 35, 51, 53, 89]\n"
          ]
        }
      ]
    },
    {
      "cell_type": "code",
      "source": [
        "#28. Write a code to create a list with strings and print the element at the third index.\n",
        "words = [\"apple\", \"banana\", \"cherry\", \"date\", \"fig\"]\n",
        "print(words[3])\n"
      ],
      "metadata": {
        "colab": {
          "base_uri": "https://localhost:8080/"
        },
        "id": "-L7cchQY6_3b",
        "outputId": "49fbe72d-233c-4585-d172-83743220e69f"
      },
      "execution_count": 34,
      "outputs": [
        {
          "output_type": "stream",
          "name": "stdout",
          "text": [
            "date\n"
          ]
        }
      ]
    },
    {
      "cell_type": "code",
      "source": [
        "#29. Write a code to combine two dictionaries into one and print the result.\n",
        "dict1 = {\"a\": 1, \"b\": 2}\n",
        "dict2 = {\"c\": 3, \"d\": 4}\n",
        "combined = {**dict1, **dict2}\n",
        "print(combined)\n"
      ],
      "metadata": {
        "colab": {
          "base_uri": "https://localhost:8080/"
        },
        "id": "mDKPDDca7NKa",
        "outputId": "88ab35d8-208c-4cab-8764-9cd8514a4377"
      },
      "execution_count": 35,
      "outputs": [
        {
          "output_type": "stream",
          "name": "stdout",
          "text": [
            "{'a': 1, 'b': 2, 'c': 3, 'd': 4}\n"
          ]
        }
      ]
    },
    {
      "cell_type": "code",
      "source": [
        "#30. Write a code to convert a list of strings into a set.\n",
        "words = [\"apple\", \"banana\", \"apple\", \"cherry\"]\n",
        "word_set = set(words)\n",
        "print(word_set)\n"
      ],
      "metadata": {
        "colab": {
          "base_uri": "https://localhost:8080/"
        },
        "id": "7-eWbCFu7Poj",
        "outputId": "f3443ace-6cbc-4345-c608-1d4246d88a31"
      },
      "execution_count": 36,
      "outputs": [
        {
          "output_type": "stream",
          "name": "stdout",
          "text": [
            "{'apple', 'cherry', 'banana'}\n"
          ]
        }
      ]
    },
    {
      "cell_type": "code",
      "source": [],
      "metadata": {
        "id": "n6nq5m4L7R24"
      },
      "execution_count": null,
      "outputs": []
    }
  ]
}