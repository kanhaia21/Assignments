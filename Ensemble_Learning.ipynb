{
  "nbformat": 4,
  "nbformat_minor": 0,
  "metadata": {
    "colab": {
      "provenance": [],
      "authorship_tag": "ABX9TyPuJMhGiNhNy3iBWA4bxAnu",
      "include_colab_link": true
    },
    "kernelspec": {
      "name": "python3",
      "display_name": "Python 3"
    },
    "language_info": {
      "name": "python"
    }
  },
  "cells": [
    {
      "cell_type": "markdown",
      "metadata": {
        "id": "view-in-github",
        "colab_type": "text"
      },
      "source": [
        "<a href=\"https://colab.research.google.com/github/kanhaia21/Assignments/blob/main/Ensemble_Learning.ipynb\" target=\"_parent\"><img src=\"https://colab.research.google.com/assets/colab-badge.svg\" alt=\"Open In Colab\"/></a>"
      ]
    },
    {
      "cell_type": "markdown",
      "source": [
        "#Theoretical"
      ],
      "metadata": {
        "id": "ZZrUv5wP8cIJ"
      }
    },
    {
      "cell_type": "code",
      "execution_count": 3,
      "metadata": {
        "colab": {
          "base_uri": "https://localhost:8080/"
        },
        "id": "2rIPdJE472Dm",
        "outputId": "614cced3-cd6c-4bbd-ea9a-5ea90ffd4542"
      },
      "outputs": [
        {
          "output_type": "stream",
          "name": "stdout",
          "text": [
            "\n",
            "1. Can we use Bagging for regression problems?\n",
            "Yes.\n",
            "•\tBagging can be used for classification & regression.\n",
            "•\tFor regression → final prediction = average of predictions from all base models.\n",
            "\n",
            "2. Difference between multiple model training and single model training?\n",
            "•\tSingle model → One algorithm trained on the dataset. Risk of bias/variance.\n",
            "•\tMultiple models (ensemble) → Combine predictions from multiple learners → usually more robust & accurate.\n",
            "\n",
            "3. Concept of feature randomness in Random Forest.\n",
            "•\tAt each split, RF chooses a random subset of features instead of all features.\n",
            "•\tEnsures trees are decorrelated → reduces overfitting & increases diversity.\n",
            "\n",
            "4. What is OOB (Out-of-Bag) Score?\n",
            "•\tIn Bagging, each tree is trained on a bootstrap sample (~63% of data).\n",
            "•\tThe remaining (~37%) → Out-of-Bag samples.\n",
            "•\tOOB Score = performance evaluated on these samples (like internal cross-validation).\n",
            "\n",
            "5. How can you measure feature importance in Random Forest?\n",
            "1.\tGini importance / Mean Decrease in Impurity (MDI):\n",
            "o\tMeasures how much each feature reduces impurity across all splits.\n",
            "2.\tPermutation importance:\n",
            "o\tRandomly shuffle feature values → drop in accuracy shows importance.\n",
            "\n",
            "6. Working principle of a Bagging Classifier.\n",
            "1.\tDraw bootstrap samples from training data.\n",
            "2.\tTrain a base classifier (e.g., decision tree) on each sample.\n",
            "3.\tAggregate predictions via majority vote (classification).\n",
            "\n",
            "7. How do you evaluate a Bagging Classifier's performance?\n",
            "•\tTrain → use:\n",
            "o\tAccuracy, F1-score, Precision, Recall (classification).\n",
            "o\tOOB score for internal validation.\n",
            "o\tCross-validation on test set.\n",
            "\n",
            "8. How does a Bagging Regressor work?\n",
            "1.\tBootstrap sampling on training data.\n",
            "2.\tTrain base regressors (e.g., regression trees).\n",
            "3.\tAggregate predictions via averaging.\n",
            "\n",
            "9. Main advantage of ensemble techniques?\n",
            "•\tBetter accuracy & generalization than single models.\n",
            "•\tReduce overfitting (variance) and improve robustness.\n",
            "\n",
            "10. Main challenge of ensemble methods?\n",
            "•\tHigh computational cost (time & memory).\n",
            "•\tHarder to interpret (less explainable).\n",
            "•\tMay not always outperform a well-tuned single model.\n",
            "\n",
            "11. Key idea behind ensemble techniques.\n",
            "•\t“Wisdom of the crowd” → combining multiple weak/strong learners produces a better final model.\n",
            "\n",
            "12. What is a Random Forest Classifier?\n",
            "•\tAn ensemble of decision trees built using bagging + feature randomness.\n",
            "•\tPredictions combined via majority vote (classification).\n",
            "\n",
            "13. Main types of ensemble techniques?\n",
            "1.\tBagging (Bootstrap Aggregating) → Random Forest.\n",
            "2.\tBoosting → AdaBoost, Gradient Boosting, XGBoost, LightGBM.\n",
            "3.\tStacking → Combines predictions from multiple different models via a meta-learner.\n",
            "\n",
            "14. What is ensemble learning in ML?\n",
            "•\tTechnique where multiple models are combined to improve predictive performance compared to individual models.\n",
            "\n",
            "15. When should we avoid using ensemble methods?\n",
            "•\tWhen interpretability is important (e.g., healthcare decisions).\n",
            "•\tFor small datasets → ensembles may overfit & add unnecessary complexity.\n",
            "•\tWhen computation resources are limited.\n",
            "\n",
            "16. How does Bagging help in reducing overfitting?\n",
            "•\tBy averaging predictions across many bootstrapped models.\n",
            "•\tReduces variance without increasing bias.\n",
            "\n",
            "17. Why is Random Forest better than a single Decision Tree?\n",
            "•\tSingle tree → high variance, prone to overfitting.\n",
            "•\tRF → combines multiple trees → more stable, better generalization.\n",
            "\n",
            "18. Role of bootstrap sampling in Bagging?\n",
            "•\tCreates different training subsets from original dataset.\n",
            "•\tEnsures diversity in base models → reduces overfitting.\n",
            "\n",
            "19. Real-world applications of ensemble techniques:\n",
            "•\tFinance → fraud detection.\n",
            "•\tHealthcare → disease prediction.\n",
            "•\tE-commerce → recommendation engines.\n",
            "•\tBanking → credit risk scoring.\n",
            "•\tImage recognition / NLP → text classification, sentiment analysis.\n",
            "\n",
            "20. Difference between Bagging and Boosting?\n",
            "Bagging\n",
            "Training-Independent (parallel) models\n",
            "Focus-Reduces variance\n",
            "Data sampling-Bootstrap samples\n",
            "Final prediction-Voting/Averaging\n",
            "Example-Random Forest\n",
            "\n",
            "Boosting\n",
            "Training-Sequential models\n",
            "Focus-Reduces bias-\n",
            "Data sampling-Reweights misclassified samples\n",
            "Final prediction-Weighted combination\n",
            "Example-AdaBoost, Gradient Boosting\n",
            "\n",
            "\n"
          ]
        }
      ],
      "source": [
        "content=\"\"\"\n",
        "1. Can we use Bagging for regression problems?\n",
        "Yes.\n",
        "•\tBagging can be used for classification & regression.\n",
        "•\tFor regression → final prediction = average of predictions from all base models.\n",
        "\n",
        "2. Difference between multiple model training and single model training?\n",
        "•\tSingle model → One algorithm trained on the dataset. Risk of bias/variance.\n",
        "•\tMultiple models (ensemble) → Combine predictions from multiple learners → usually more robust & accurate.\n",
        "\n",
        "3. Concept of feature randomness in Random Forest.\n",
        "•\tAt each split, RF chooses a random subset of features instead of all features.\n",
        "•\tEnsures trees are decorrelated → reduces overfitting & increases diversity.\n",
        "\n",
        "4. What is OOB (Out-of-Bag) Score?\n",
        "•\tIn Bagging, each tree is trained on a bootstrap sample (~63% of data).\n",
        "•\tThe remaining (~37%) → Out-of-Bag samples.\n",
        "•\tOOB Score = performance evaluated on these samples (like internal cross-validation).\n",
        "\n",
        "5. How can you measure feature importance in Random Forest?\n",
        "1.\tGini importance / Mean Decrease in Impurity (MDI):\n",
        "o\tMeasures how much each feature reduces impurity across all splits.\n",
        "2.\tPermutation importance:\n",
        "o\tRandomly shuffle feature values → drop in accuracy shows importance.\n",
        "\n",
        "6. Working principle of a Bagging Classifier.\n",
        "1.\tDraw bootstrap samples from training data.\n",
        "2.\tTrain a base classifier (e.g., decision tree) on each sample.\n",
        "3.\tAggregate predictions via majority vote (classification).\n",
        "\n",
        "7. How do you evaluate a Bagging Classifier's performance?\n",
        "•\tTrain → use:\n",
        "o\tAccuracy, F1-score, Precision, Recall (classification).\n",
        "o\tOOB score for internal validation.\n",
        "o\tCross-validation on test set.\n",
        "\n",
        "8. How does a Bagging Regressor work?\n",
        "1.\tBootstrap sampling on training data.\n",
        "2.\tTrain base regressors (e.g., regression trees).\n",
        "3.\tAggregate predictions via averaging.\n",
        "\n",
        "9. Main advantage of ensemble techniques?\n",
        "•\tBetter accuracy & generalization than single models.\n",
        "•\tReduce overfitting (variance) and improve robustness.\n",
        "\n",
        "10. Main challenge of ensemble methods?\n",
        "•\tHigh computational cost (time & memory).\n",
        "•\tHarder to interpret (less explainable).\n",
        "•\tMay not always outperform a well-tuned single model.\n",
        "\n",
        "11. Key idea behind ensemble techniques.\n",
        "•\t“Wisdom of the crowd” → combining multiple weak/strong learners produces a better final model.\n",
        "\n",
        "12. What is a Random Forest Classifier?\n",
        "•\tAn ensemble of decision trees built using bagging + feature randomness.\n",
        "•\tPredictions combined via majority vote (classification).\n",
        "\n",
        "13. Main types of ensemble techniques?\n",
        "1.\tBagging (Bootstrap Aggregating) → Random Forest.\n",
        "2.\tBoosting → AdaBoost, Gradient Boosting, XGBoost, LightGBM.\n",
        "3.\tStacking → Combines predictions from multiple different models via a meta-learner.\n",
        "\n",
        "14. What is ensemble learning in ML?\n",
        "•\tTechnique where multiple models are combined to improve predictive performance compared to individual models.\n",
        "\n",
        "15. When should we avoid using ensemble methods?\n",
        "•\tWhen interpretability is important (e.g., healthcare decisions).\n",
        "•\tFor small datasets → ensembles may overfit & add unnecessary complexity.\n",
        "•\tWhen computation resources are limited.\n",
        "\n",
        "16. How does Bagging help in reducing overfitting?\n",
        "•\tBy averaging predictions across many bootstrapped models.\n",
        "•\tReduces variance without increasing bias.\n",
        "\n",
        "17. Why is Random Forest better than a single Decision Tree?\n",
        "•\tSingle tree → high variance, prone to overfitting.\n",
        "•\tRF → combines multiple trees → more stable, better generalization.\n",
        "\n",
        "18. Role of bootstrap sampling in Bagging?\n",
        "•\tCreates different training subsets from original dataset.\n",
        "•\tEnsures diversity in base models → reduces overfitting.\n",
        "\n",
        "19. Real-world applications of ensemble techniques:\n",
        "•\tFinance → fraud detection.\n",
        "•\tHealthcare → disease prediction.\n",
        "•\tE-commerce → recommendation engines.\n",
        "•\tBanking → credit risk scoring.\n",
        "•\tImage recognition / NLP → text classification, sentiment analysis.\n",
        "\n",
        "20. Difference between Bagging and Boosting?\n",
        "Bagging\n",
        "Training-Independent (parallel) models\n",
        "Focus-Reduces variance\n",
        "Data sampling-Bootstrap samples\n",
        "Final prediction-Voting/Averaging\n",
        "Example-Random Forest\n",
        "\n",
        "Boosting\n",
        "Training-Sequential models\n",
        "Focus-Reduces bias-\n",
        "Data sampling-Reweights misclassified samples\n",
        "Final prediction-Weighted combination\n",
        "Example-AdaBoost, Gradient Boosting\n",
        "\n",
        "\"\"\"\n",
        "print(content)"
      ]
    },
    {
      "cell_type": "markdown",
      "source": [
        "#Practical"
      ],
      "metadata": {
        "id": "2A2-pUj1-JbG"
      }
    },
    {
      "cell_type": "code",
      "source": [
        "#21. Bagging Classifier with Decision Trees\n",
        "from sklearn.datasets import load_iris\n",
        "from sklearn.ensemble import BaggingClassifier\n",
        "from sklearn.tree import DecisionTreeClassifier\n",
        "from sklearn.model_selection import train_test_split\n",
        "from sklearn.metrics import accuracy_score\n",
        "\n",
        "# Dataset\n",
        "X, y = load_iris(return_X_y=True)\n",
        "X_train, X_test, y_train, y_test = train_test_split(X, y, test_size=0.2, random_state=42)\n",
        "\n",
        "# Bagging Classifier\n",
        "bag_clf = BaggingClassifier(estimator=DecisionTreeClassifier(), n_estimators=50, random_state=42)\n",
        "bag_clf.fit(X_train, y_train)\n",
        "y_pred = bag_clf.predict(X_test)\n",
        "print(\"Bagging Classifier Accuracy:\", accuracy_score(y_test, y_pred))\n"
      ],
      "metadata": {
        "colab": {
          "base_uri": "https://localhost:8080/"
        },
        "id": "I9b11dqI8RZ4",
        "outputId": "606c4804-8b95-48c3-fc71-ef22170bfbce"
      },
      "execution_count": 4,
      "outputs": [
        {
          "output_type": "stream",
          "name": "stdout",
          "text": [
            "Bagging Classifier Accuracy: 1.0\n"
          ]
        }
      ]
    },
    {
      "cell_type": "code",
      "source": [
        "#22. Bagging Regressor with Decision Trees (Evaluate MSE)\n",
        "from sklearn.datasets import fetch_california_housing\n",
        "from sklearn.ensemble import BaggingRegressor\n",
        "from sklearn.metrics import mean_squared_error\n",
        "from sklearn.tree import DecisionTreeRegressor\n",
        "# Dataset\n",
        "X, y = fetch_california_housing(return_X_y=True)\n",
        "X_train, X_test, y_train, y_test = train_test_split(X, y, test_size=0.2, random_state=42)\n",
        "# Bagging Regressor\n",
        "bag_reg = BaggingRegressor(estimator=DecisionTreeRegressor(), n_estimators=50, random_state=42)\n",
        "bag_reg.fit(X_train, y_train)\n",
        "y_pred = bag_reg.predict(X_test)\n",
        "print(\"Bagging Regressor MSE:\", mean_squared_error(y_test, y_pred))\n"
      ],
      "metadata": {
        "colab": {
          "base_uri": "https://localhost:8080/"
        },
        "id": "hVGjEKim-PE0",
        "outputId": "97ec8013-f0ed-473f-c528-fe36c2b72ad1"
      },
      "execution_count": 5,
      "outputs": [
        {
          "output_type": "stream",
          "name": "stdout",
          "text": [
            "Bagging Regressor MSE: 0.2572988359842641\n"
          ]
        }
      ]
    },
    {
      "cell_type": "code",
      "source": [
        "#23. Random Forest Classifier on Breast Cancer Dataset (Feature Importance)\n",
        "from sklearn.datasets import load_breast_cancer\n",
        "from sklearn.ensemble import RandomForestClassifier\n",
        "import pandas as pd\n",
        "\n",
        "data = load_breast_cancer()\n",
        "X, y = data.data, data.target\n",
        "X_train, X_test, y_train, y_test = train_test_split(X, y, test_size=0.2, random_state=42)\n",
        "\n",
        "rf_clf = RandomForestClassifier(n_estimators=100, random_state=42)\n",
        "rf_clf.fit(X_train, y_train)\n",
        "\n",
        "# Feature importance\n",
        "importance = pd.Series(rf_clf.feature_importances_, index=data.feature_names).sort_values(ascending=False)\n",
        "print(\"Feature Importance Scores:\\n\", importance)\n"
      ],
      "metadata": {
        "colab": {
          "base_uri": "https://localhost:8080/"
        },
        "id": "c4zxsAsZ-RlA",
        "outputId": "d2ac1eab-5c34-44da-8735-955b6b9159e6"
      },
      "execution_count": 6,
      "outputs": [
        {
          "output_type": "stream",
          "name": "stdout",
          "text": [
            "Feature Importance Scores:\n",
            " worst area                 0.153892\n",
            "worst concave points       0.144663\n",
            "mean concave points        0.106210\n",
            "worst radius               0.077987\n",
            "mean concavity             0.068001\n",
            "worst perimeter            0.067115\n",
            "mean perimeter             0.053270\n",
            "mean radius                0.048703\n",
            "mean area                  0.047555\n",
            "worst concavity            0.031802\n",
            "area error                 0.022407\n",
            "worst texture              0.021749\n",
            "worst compactness          0.020266\n",
            "radius error               0.020139\n",
            "mean compactness           0.013944\n",
            "mean texture               0.013591\n",
            "perimeter error            0.011303\n",
            "worst smoothness           0.010644\n",
            "worst symmetry             0.010120\n",
            "concavity error            0.009386\n",
            "mean smoothness            0.007285\n",
            "fractal dimension error    0.005321\n",
            "compactness error          0.005253\n",
            "worst fractal dimension    0.005210\n",
            "texture error              0.004724\n",
            "smoothness error           0.004271\n",
            "symmetry error             0.004018\n",
            "mean fractal dimension     0.003886\n",
            "mean symmetry              0.003770\n",
            "concave points error       0.003513\n",
            "dtype: float64\n"
          ]
        }
      ]
    },
    {
      "cell_type": "code",
      "source": [
        "#24. Random Forest Regressor vs Single Decision Tree\n",
        "from sklearn.ensemble import RandomForestRegressor\n",
        "from sklearn.tree import DecisionTreeRegressor\n",
        "from sklearn.metrics import mean_squared_error\n",
        "\n",
        "# Random Forest\n",
        "rf_reg = RandomForestRegressor(n_estimators=100, random_state=42)\n",
        "rf_reg.fit(X_train, y_train)\n",
        "y_pred_rf = rf_reg.predict(X_test)\n",
        "\n",
        "# Single Decision Tree\n",
        "dt_reg = DecisionTreeRegressor(random_state=42)\n",
        "dt_reg.fit(X_train, y_train)\n",
        "y_pred_dt = dt_reg.predict(X_test)\n",
        "print(\"RF MSE:\", mean_squared_error(y_test, y_pred_rf))\n",
        "print(\"DT MSE:\", mean_squared_error(y_test, y_pred_dt))\n"
      ],
      "metadata": {
        "colab": {
          "base_uri": "https://localhost:8080/"
        },
        "id": "4na_A9Mt-UoB",
        "outputId": "1d4da550-1e55-4c51-9911-4487fd9286f1"
      },
      "execution_count": 7,
      "outputs": [
        {
          "output_type": "stream",
          "name": "stdout",
          "text": [
            "RF MSE: 0.03276140350877193\n",
            "DT MSE: 0.05263157894736842\n"
          ]
        }
      ]
    },
    {
      "cell_type": "code",
      "source": [
        "#25. Compute OOB Score for Random Forest\n",
        "rf_clf_oob = RandomForestClassifier(n_estimators=100, oob_score=True, random_state=42)\n",
        "rf_clf_oob.fit(X_train, y_train)\n",
        "print(\"OOB Score:\", rf_clf_oob.oob_score_)\n"
      ],
      "metadata": {
        "colab": {
          "base_uri": "https://localhost:8080/"
        },
        "id": "OS2uF9tv-X59",
        "outputId": "047d9b27-1d0b-4bf7-d54b-002b68594b62"
      },
      "execution_count": 8,
      "outputs": [
        {
          "output_type": "stream",
          "name": "stdout",
          "text": [
            "OOB Score: 0.9560439560439561\n"
          ]
        }
      ]
    },
    {
      "cell_type": "code",
      "source": [
        "#26. Bagging Classifier using SVM\n",
        "from sklearn.svm import SVC\n",
        "bag_svm = BaggingClassifier(estimator=SVC(probability=True), n_estimators=10, random_state=42)\n",
        "bag_svm.fit(X_train, y_train)\n",
        "y_pred = bag_svm.predict(X_test)\n",
        "print(\"Bagging SVM Accuracy:\", accuracy_score(y_test, y_pred))\n"
      ],
      "metadata": {
        "colab": {
          "base_uri": "https://localhost:8080/"
        },
        "id": "WXa1pK-5-Z9v",
        "outputId": "fb75f2be-63e4-4066-bb4c-c86f6ed03f8d"
      },
      "execution_count": 10,
      "outputs": [
        {
          "output_type": "stream",
          "name": "stdout",
          "text": [
            "Bagging SVM Accuracy: 0.9473684210526315\n"
          ]
        }
      ]
    },
    {
      "cell_type": "code",
      "source": [
        "#27. Random Forest with Different Numbers of Trees\n",
        "for n in [10, 50, 100, 200]:\n",
        "    rf = RandomForestClassifier(n_estimators=n, random_state=42)\n",
        "    rf.fit(X_train, y_train)\n",
        "    y_pred = rf.predict(X_test)\n",
        "    print(f\"n_estimators={n}, Accuracy={accuracy_score(y_test, y_pred):.4f}\")\n"
      ],
      "metadata": {
        "colab": {
          "base_uri": "https://localhost:8080/"
        },
        "id": "QAuQhYA3FY3D",
        "outputId": "cd3e12a7-eaed-475c-e195-c2cc2f7f8e2b"
      },
      "execution_count": 11,
      "outputs": [
        {
          "output_type": "stream",
          "name": "stdout",
          "text": [
            "n_estimators=10, Accuracy=0.9561\n",
            "n_estimators=50, Accuracy=0.9649\n",
            "n_estimators=100, Accuracy=0.9649\n",
            "n_estimators=200, Accuracy=0.9649\n"
          ]
        }
      ]
    },
    {
      "cell_type": "code",
      "source": [
        "#28. Bagging with Logistic Regression (Print AUC)\n",
        "from sklearn.ensemble import BaggingClassifier\n",
        "from sklearn.linear_model import LogisticRegression\n",
        "from sklearn.preprocessing import StandardScaler\n",
        "from sklearn.pipeline import make_pipeline\n",
        "from sklearn.metrics import roc_auc_score\n",
        "from sklearn.model_selection import train_test_split\n",
        "from sklearn.datasets import load_breast_cancer\n",
        "\n",
        "# Load dataset\n",
        "X, y = load_breast_cancer(return_X_y=True)\n",
        "\n",
        "# Split data\n",
        "X_train, X_test, y_train, y_test = train_test_split(X, y, test_size=0.2, random_state=42)\n",
        "\n",
        "# Create a pipeline: scaling + Logistic Regression\n",
        "pipeline = make_pipeline(\n",
        "    StandardScaler(),\n",
        "    LogisticRegression(max_iter=1000, solver='lbfgs')  # ensures convergence\n",
        ")\n",
        "\n",
        "# Bagging Classifier using pipeline as base estimator\n",
        "bag_lr = BaggingClassifier(\n",
        "    estimator=pipeline,\n",
        "    n_estimators=10,\n",
        "    random_state=42\n",
        ")\n",
        "# Train the model\n",
        "bag_lr.fit(X_train, y_train)\n",
        "\n",
        "# Predict probabilities\n",
        "y_prob = bag_lr.predict_proba(X_test)[:, 1]\n",
        "# Compute AUC\n",
        "auc_score = roc_auc_score(y_test, y_prob)\n",
        "print(\"Bagging Logistic Regression AUC:\", auc_score)\n"
      ],
      "metadata": {
        "colab": {
          "base_uri": "https://localhost:8080/"
        },
        "id": "OXyrYgylFdC4",
        "outputId": "74a02f70-79a7-4b63-dac4-9c4c90b6ff74"
      },
      "execution_count": 12,
      "outputs": [
        {
          "output_type": "stream",
          "name": "stdout",
          "text": [
            "Bagging Logistic Regression AUC: 0.9963969865705864\n"
          ]
        }
      ]
    },
    {
      "cell_type": "code",
      "source": [
        "#29. Random Forest Regressor Feature Importance\n",
        "rf_reg = RandomForestRegressor(n_estimators=100, random_state=42)\n",
        "rf_reg.fit(X_train, y_train)\n",
        "\n",
        "importance = pd.Series(rf_reg.feature_importances_, index=data.feature_names).sort_values(ascending=False)\n",
        "print(\"Random Forest Regressor Feature Importance:\\n\", importance)\n"
      ],
      "metadata": {
        "colab": {
          "base_uri": "https://localhost:8080/"
        },
        "id": "aeW70NErFhBP",
        "outputId": "f694f6c5-c088-4ee9-d96d-a852a9f683ca"
      },
      "execution_count": 13,
      "outputs": [
        {
          "output_type": "stream",
          "name": "stdout",
          "text": [
            "Random Forest Regressor Feature Importance:\n",
            " worst concave points       0.269936\n",
            "mean concave points        0.202781\n",
            "worst perimeter            0.158947\n",
            "worst area                 0.118171\n",
            "worst radius               0.103470\n",
            "worst texture              0.025475\n",
            "mean texture               0.021067\n",
            "worst concavity            0.011771\n",
            "area error                 0.010239\n",
            "worst smoothness           0.008456\n",
            "mean smoothness            0.006652\n",
            "concavity error            0.006587\n",
            "fractal dimension error    0.005278\n",
            "mean area                  0.005143\n",
            "mean concavity             0.004656\n",
            "worst symmetry             0.004215\n",
            "perimeter error            0.003913\n",
            "texture error              0.003764\n",
            "radius error               0.003696\n",
            "symmetry error             0.003541\n",
            "smoothness error           0.003475\n",
            "concave points error       0.003262\n",
            "mean symmetry              0.002668\n",
            "mean perimeter             0.002537\n",
            "worst fractal dimension    0.002431\n",
            "mean fractal dimension     0.002150\n",
            "worst compactness          0.001836\n",
            "compactness error          0.001707\n",
            "mean radius                0.001405\n",
            "mean compactness           0.000774\n",
            "dtype: float64\n"
          ]
        }
      ]
    },
    {
      "cell_type": "code",
      "source": [
        "#30. Ensemble model using Bagging + Random Forest (Compare Accuracy)\n",
        "# Bagging Classifier\n",
        "bag_clf = BaggingClassifier(estimator=DecisionTreeClassifier(), n_estimators=50, random_state=42)\n",
        "bag_clf.fit(X_train, y_train)\n",
        "acc_bag = accuracy_score(y_test, bag_clf.predict(X_test))\n",
        "\n",
        "# Random Forest Classifier\n",
        "rf_clf = RandomForestClassifier(n_estimators=100, random_state=42)\n",
        "rf_clf.fit(X_train, y_train)\n",
        "acc_rf = accuracy_score(y_test, rf_clf.predict(X_test))\n",
        "\n",
        "print(f\"Bagging Accuracy: {acc_bag:.4f}\")\n",
        "print(f\"Random Forest Accuracy: {acc_rf:.4f}\")\n"
      ],
      "metadata": {
        "colab": {
          "base_uri": "https://localhost:8080/"
        },
        "id": "tTK8IWbOFj8s",
        "outputId": "e3cbd0ee-eb74-43cd-ba85-14aa31e33c32"
      },
      "execution_count": 14,
      "outputs": [
        {
          "output_type": "stream",
          "name": "stdout",
          "text": [
            "Bagging Accuracy: 0.9561\n",
            "Random Forest Accuracy: 0.9649\n"
          ]
        }
      ]
    },
    {
      "cell_type": "code",
      "source": [
        "#31. Random Forest Classifier + GridSearchCV\n",
        "from sklearn.ensemble import RandomForestClassifier\n",
        "from sklearn.model_selection import GridSearchCV, train_test_split\n",
        "from sklearn.datasets import load_breast_cancer\n",
        "from sklearn.metrics import accuracy_score\n",
        "\n",
        "# Load data\n",
        "X, y = load_breast_cancer(return_X_y=True)\n",
        "X_train, X_test, y_train, y_test = train_test_split(X, y, test_size=0.2, random_state=42)\n",
        "\n",
        "# Random Forest\n",
        "rf = RandomForestClassifier(random_state=42)\n",
        "param_grid = {\n",
        "    'n_estimators': [50, 100, 200],\n",
        "    'max_depth': [None, 5, 10],\n",
        "    'min_samples_split': [2, 5]\n",
        "}\n",
        "\n",
        "grid_search = GridSearchCV(rf, param_grid, cv=5, scoring='accuracy')\n",
        "grid_search.fit(X_train, y_train)\n",
        "\n",
        "print(\"Best Params:\", grid_search.best_params_)\n",
        "y_pred = grid_search.predict(X_test)\n",
        "print(\"Test Accuracy:\", accuracy_score(y_test, y_pred))\n"
      ],
      "metadata": {
        "colab": {
          "base_uri": "https://localhost:8080/"
        },
        "id": "-lbUy-vEFrWA",
        "outputId": "9c94b757-8fb4-4da0-8095-32e4e9c5e895"
      },
      "execution_count": 15,
      "outputs": [
        {
          "output_type": "stream",
          "name": "stdout",
          "text": [
            "Best Params: {'max_depth': None, 'min_samples_split': 2, 'n_estimators': 200}\n",
            "Test Accuracy: 0.9649122807017544\n"
          ]
        }
      ]
    },
    {
      "cell_type": "code",
      "source": [
        "#32. Bagging Regressor with different numbers of base estimators\n",
        "from sklearn.ensemble import BaggingRegressor\n",
        "from sklearn.tree import DecisionTreeRegressor\n",
        "from sklearn.metrics import mean_squared_error\n",
        "from sklearn.datasets import fetch_california_housing\n",
        "from sklearn.model_selection import train_test_split\n",
        "\n",
        "data = fetch_california_housing()\n",
        "X, y = data.data, data.target\n",
        "X_train, X_test, y_train, y_test = train_test_split(X, y, test_size=0.2, random_state=42)\n",
        "\n",
        "for n in [5, 10, 50, 100]:\n",
        "    bag = BaggingRegressor(estimator=DecisionTreeRegressor(), n_estimators=n, random_state=42)\n",
        "    bag.fit(X_train, y_train)\n",
        "    y_pred = bag.predict(X_test)\n",
        "    print(f\"n_estimators={n}, MSE={mean_squared_error(y_test, y_pred):.4f}\")\n"
      ],
      "metadata": {
        "colab": {
          "base_uri": "https://localhost:8080/"
        },
        "id": "eFt52agpFujt",
        "outputId": "7e76c9bb-f4b6-41d5-b18e-235d48fabf2a"
      },
      "execution_count": 16,
      "outputs": [
        {
          "output_type": "stream",
          "name": "stdout",
          "text": [
            "n_estimators=5, MSE=0.3060\n",
            "n_estimators=10, MSE=0.2824\n",
            "n_estimators=50, MSE=0.2573\n",
            "n_estimators=100, MSE=0.2559\n"
          ]
        }
      ]
    },
    {
      "cell_type": "code",
      "source": [
        "#33. Random Forest Classifier + analyze misclassified samples\n",
        "from sklearn.datasets import load_breast_cancer\n",
        "from sklearn.model_selection import train_test_split\n",
        "from sklearn.ensemble import RandomForestClassifier\n",
        "from sklearn.metrics import accuracy_score\n",
        "\n",
        "# Load classification dataset\n",
        "X, y = load_breast_cancer(return_X_y=True)\n",
        "\n",
        "# Split into training and test sets\n",
        "X_train, X_test, y_train, y_test = train_test_split(X, y, test_size=0.2, random_state=42)\n",
        "\n",
        "# Train Random Forest Classifier\n",
        "rf = RandomForestClassifier(n_estimators=100, random_state=42)\n",
        "rf.fit(X_train, y_train)\n",
        "\n",
        "# Predict on test set\n",
        "y_pred = rf.predict(X_test)\n",
        "\n",
        "# Calculate accuracy\n",
        "accuracy = accuracy_score(y_test, y_pred)\n",
        "print(\"Test Accuracy:\", accuracy)\n",
        "\n",
        "# Identify misclassified samples\n",
        "misclassified_idx = [i for i, (true, pred) in enumerate(zip(y_test, y_pred)) if true != pred]\n",
        "print(\"Number of Misclassified Samples:\", len(misclassified_idx))\n",
        "print(\"Indices of first 10 misclassified samples:\", misclassified_idx[:10])\n",
        "\n",
        "# Optional: analyze the features of misclassified samples\n",
        "import pandas as pd\n",
        "feature_names = load_breast_cancer().feature_names\n",
        "misclassified_samples = pd.DataFrame(X_test[misclassified_idx], columns=feature_names)\n",
        "print(\"\\nFeatures of first 5 misclassified samples:\\n\", misclassified_samples.head())\n"
      ],
      "metadata": {
        "colab": {
          "base_uri": "https://localhost:8080/"
        },
        "id": "1IOhPD3cFxNF",
        "outputId": "7f480991-5a19-4817-a603-519ddc5d4fb0"
      },
      "execution_count": 17,
      "outputs": [
        {
          "output_type": "stream",
          "name": "stdout",
          "text": [
            "Test Accuracy: 0.9649122807017544\n",
            "Number of Misclassified Samples: 4\n",
            "Indices of first 10 misclassified samples: [8, 20, 77, 82]\n",
            "\n",
            "Features of first 5 misclassified samples:\n",
            "    mean radius  mean texture  mean perimeter  mean area  mean smoothness  \\\n",
            "0        13.34         15.86           86.49      520.0          0.10780   \n",
            "1        13.80         15.79           90.43      584.1          0.10070   \n",
            "2        13.96         17.05           91.43      602.4          0.10960   \n",
            "3        14.48         21.46           94.25      648.2          0.09444   \n",
            "\n",
            "   mean compactness  mean concavity  mean concave points  mean symmetry  \\\n",
            "0           0.15350         0.11690              0.06987         0.1942   \n",
            "1           0.12800         0.07789              0.05069         0.1662   \n",
            "2           0.12790         0.09789              0.05246         0.1908   \n",
            "3           0.09947         0.12040              0.04938         0.2075   \n",
            "\n",
            "   mean fractal dimension  ...  worst radius  worst texture  worst perimeter  \\\n",
            "0                 0.06902  ...         15.53          23.19            96.66   \n",
            "1                 0.06566  ...         16.57          20.86           110.30   \n",
            "2                 0.06130  ...         16.39          22.07           108.10   \n",
            "3                 0.05636  ...         16.21          29.25           108.40   \n",
            "\n",
            "   worst area  worst smoothness  worst compactness  worst concavity  \\\n",
            "0       614.9            0.1536             0.4791           0.4858   \n",
            "1       812.4            0.1411             0.3542           0.2779   \n",
            "2       826.0            0.1512             0.3262           0.3209   \n",
            "3       808.9            0.1306             0.1976           0.3349   \n",
            "\n",
            "   worst concave points  worst symmetry  worst fractal dimension  \n",
            "0                0.1708          0.3527                  0.10160  \n",
            "1                0.1383          0.2589                  0.10300  \n",
            "2                0.1374          0.3068                  0.07957  \n",
            "3                0.1225          0.3020                  0.06846  \n",
            "\n",
            "[4 rows x 30 columns]\n"
          ]
        }
      ]
    },
    {
      "cell_type": "code",
      "source": [
        "#34. Bagging Classifier vs Single Decision Tree\n",
        "from sklearn.ensemble import BaggingClassifier\n",
        "from sklearn.tree import DecisionTreeClassifier\n",
        "from sklearn.metrics import accuracy_score\n",
        "\n",
        "# Single Decision Tree\n",
        "dt = DecisionTreeClassifier(random_state=42)\n",
        "dt.fit(X_train, y_train)\n",
        "y_pred_dt = dt.predict(X_test)\n",
        "\n",
        "# Bagging Classifier\n",
        "bag = BaggingClassifier(estimator=DecisionTreeClassifier(), n_estimators=50, random_state=42)\n",
        "bag.fit(X_train, y_train)\n",
        "y_pred_bag = bag.predict(X_test)\n",
        "\n",
        "print(\"Decision Tree Accuracy:\", accuracy_score(y_test, y_pred_dt))\n",
        "print(\"Bagging Accuracy:\", accuracy_score(y_test, y_pred_bag))\n"
      ],
      "metadata": {
        "colab": {
          "base_uri": "https://localhost:8080/"
        },
        "id": "hEzVDAWyGDcu",
        "outputId": "0a38b36b-6f1c-409e-cc32-693e7eb641fe"
      },
      "execution_count": 18,
      "outputs": [
        {
          "output_type": "stream",
          "name": "stdout",
          "text": [
            "Decision Tree Accuracy: 0.9473684210526315\n",
            "Bagging Accuracy: 0.956140350877193\n"
          ]
        }
      ]
    },
    {
      "cell_type": "code",
      "source": [
        "#35. Random Forest + Confusion Matrix\n",
        "from sklearn.metrics import confusion_matrix\n",
        "import seaborn as sns\n",
        "import matplotlib.pyplot as plt\n",
        "\n",
        "rf = RandomForestClassifier(n_estimators=100, random_state=42)\n",
        "rf.fit(X_train, y_train)\n",
        "y_pred = rf.predict(X_test)\n",
        "\n",
        "cm = confusion_matrix(y_test, y_pred)\n",
        "sns.heatmap(cm, annot=True, fmt=\"d\", cmap=\"Blues\")\n",
        "plt.title(\"Confusion Matrix\")\n",
        "plt.show()\n"
      ],
      "metadata": {
        "colab": {
          "base_uri": "https://localhost:8080/",
          "height": 452
        },
        "id": "qznQnDFfGHhZ",
        "outputId": "d583e72b-26e4-4d2e-ecee-7f4ade54b6d6"
      },
      "execution_count": 19,
      "outputs": [
        {
          "output_type": "display_data",
          "data": {
            "text/plain": [
              "<Figure size 640x480 with 2 Axes>"
            ],
            "image/png": "[encoded data removed]"
          },
          "metadata": {}
        }
      ]
    },
    {
      "cell_type": "code",
      "source": [
        "#36. Stacking Classifier (Decision Tree, SVM, Logistic Regression)\n",
        "from sklearn.ensemble import StackingClassifier\n",
        "from sklearn.svm import SVC\n",
        "from sklearn.linear_model import LogisticRegression\n",
        "\n",
        "estimators = [\n",
        "    ('dt', DecisionTreeClassifier()),\n",
        "    ('svm', SVC(probability=True)),\n",
        "    ('lr', LogisticRegression(max_iter=5000))\n",
        "]\n",
        "\n",
        "stack = StackingClassifier(estimators=estimators, final_estimator=LogisticRegression())\n",
        "stack.fit(X_train, y_train)\n",
        "y_pred = stack.predict(X_test)\n",
        "print(\"Stacking Accuracy:\", accuracy_score(y_test, y_pred))\n"
      ],
      "metadata": {
        "colab": {
          "base_uri": "https://localhost:8080/"
        },
        "id": "MM_coad7GKNf",
        "outputId": "58a64a5d-b475-4902-ee3c-52e00f05f1aa"
      },
      "execution_count": 20,
      "outputs": [
        {
          "output_type": "stream",
          "name": "stdout",
          "text": [
            "Stacking Accuracy: 0.956140350877193\n"
          ]
        }
      ]
    },
    {
      "cell_type": "code",
      "source": [
        "#37. Random Forest: Top 5 Important Features\n",
        "import pandas as pd\n",
        "\n",
        "rf = RandomForestClassifier(n_estimators=100, random_state=42)\n",
        "rf.fit(X_train, y_train)\n",
        "\n",
        "importance = pd.Series(rf.feature_importances_, index=load_breast_cancer().feature_names)\n",
        "top5 = importance.sort_values(ascending=False).head(5)\n",
        "print(\"Top 5 Features:\\n\", top5)\n"
      ],
      "metadata": {
        "colab": {
          "base_uri": "https://localhost:8080/"
        },
        "id": "CCnDop6GGNGB",
        "outputId": "1a3dfd07-b881-4515-b92a-fdc9022adacc"
      },
      "execution_count": 21,
      "outputs": [
        {
          "output_type": "stream",
          "name": "stdout",
          "text": [
            "Top 5 Features:\n",
            " worst area              0.153892\n",
            "worst concave points    0.144663\n",
            "mean concave points     0.106210\n",
            "worst radius            0.077987\n",
            "mean concavity          0.068001\n",
            "dtype: float64\n"
          ]
        }
      ]
    },
    {
      "cell_type": "code",
      "source": [
        "#38. Bagging Classifier: Precision, Recall, F1-score\n",
        "from sklearn.metrics import precision_score, recall_score, f1_score\n",
        "\n",
        "bag = BaggingClassifier(estimator=DecisionTreeClassifier(), n_estimators=50, random_state=42)\n",
        "bag.fit(X_train, y_train)\n",
        "y_pred = bag.predict(X_test)\n",
        "\n",
        "print(\"Precision:\", precision_score(y_test, y_pred))\n",
        "print(\"Recall:\", recall_score(y_test, y_pred))\n",
        "print(\"F1-score:\", f1_score(y_test, y_pred))\n"
      ],
      "metadata": {
        "colab": {
          "base_uri": "https://localhost:8080/"
        },
        "id": "xcED-EdFGQGn",
        "outputId": "ecee2f56-0c79-4ca4-edc9-d2cb51f91007"
      },
      "execution_count": 22,
      "outputs": [
        {
          "output_type": "stream",
          "name": "stdout",
          "text": [
            "Precision: 0.9583333333333334\n",
            "Recall: 0.971830985915493\n",
            "F1-score: 0.965034965034965\n"
          ]
        }
      ]
    },
    {
      "cell_type": "code",
      "source": [
        "#39. Random Forest: Effect of max_depth\n",
        "for depth in [None, 3, 5, 10]:\n",
        "    rf = RandomForestClassifier(n_estimators=100, max_depth=depth, random_state=42)\n",
        "    rf.fit(X_train, y_train)\n",
        "    y_pred = rf.predict(X_test)\n",
        "    print(f\"max_depth={depth}, Accuracy={accuracy_score(y_test, y_pred):.4f}\")\n"
      ],
      "metadata": {
        "colab": {
          "base_uri": "https://localhost:8080/"
        },
        "id": "5kxeEV1TGTKk",
        "outputId": "10bacb7d-9e23-4970-ad49-5c167c1e91d4"
      },
      "execution_count": 23,
      "outputs": [
        {
          "output_type": "stream",
          "name": "stdout",
          "text": [
            "max_depth=None, Accuracy=0.9649\n",
            "max_depth=3, Accuracy=0.9649\n",
            "max_depth=5, Accuracy=0.9649\n",
            "max_depth=10, Accuracy=0.9649\n"
          ]
        }
      ]
    },
    {
      "cell_type": "code",
      "source": [
        "#40. Bagging Regressor: Different Base Estimators\n",
        "from sklearn.neighbors import KNeighborsRegressor\n",
        "\n",
        "estimators = [DecisionTreeRegressor(), KNeighborsRegressor()]\n",
        "for est in estimators:\n",
        "    bag = BaggingRegressor(estimator=est, n_estimators=50, random_state=42)\n",
        "    bag.fit(X_train, y_train)\n",
        "    y_pred = bag.predict(X_test)\n",
        "    print(f\"{est.__class__.__name__} Base MSE: {mean_squared_error(y_test, y_pred):.4f}\")\n"
      ],
      "metadata": {
        "colab": {
          "base_uri": "https://localhost:8080/"
        },
        "id": "MMV79IXyGVqK",
        "outputId": "1a879d0b-0c79-4bf6-dd58-40cdfb5ba28d"
      },
      "execution_count": 24,
      "outputs": [
        {
          "output_type": "stream",
          "name": "stdout",
          "text": [
            "DecisionTreeRegressor Base MSE: 0.0336\n",
            "KNeighborsRegressor Base MSE: 0.0291\n"
          ]
        }
      ]
    },
    {
      "cell_type": "code",
      "source": [
        "#41. Random Forest Classifier: ROC-AUC\n",
        "from sklearn.metrics import roc_auc_score\n",
        "\n",
        "rf = RandomForestClassifier(n_estimators=100, random_state=42)\n",
        "rf.fit(X_train, y_train)\n",
        "y_prob = rf.predict_proba(X_test)[:,1]\n",
        "print(\"ROC-AUC Score:\", roc_auc_score(y_test, y_prob))\n"
      ],
      "metadata": {
        "colab": {
          "base_uri": "https://localhost:8080/"
        },
        "id": "WbKC2uJAGX1m",
        "outputId": "5201c936-33e9-4c6f-d8b2-5e242827bb2a"
      },
      "execution_count": 25,
      "outputs": [
        {
          "output_type": "stream",
          "name": "stdout",
          "text": [
            "ROC-AUC Score: 0.9952505732066819\n"
          ]
        }
      ]
    },
    {
      "cell_type": "code",
      "source": [
        "#42. Bagging Classifier: Cross-validation\n",
        "from sklearn.model_selection import cross_val_score\n",
        "\n",
        "bag = BaggingClassifier(estimator=DecisionTreeClassifier(), n_estimators=50, random_state=42)\n",
        "scores = cross_val_score(bag, X, y, cv=5, scoring='accuracy')\n",
        "print(\"Cross-validation scores:\", scores)\n",
        "print(\"Mean CV Accuracy:\", scores.mean())\n"
      ],
      "metadata": {
        "colab": {
          "base_uri": "https://localhost:8080/"
        },
        "id": "o0OytOBoGaOV",
        "outputId": "b61acb99-7c1b-4e45-ec6e-03edf03c7bac"
      },
      "execution_count": 26,
      "outputs": [
        {
          "output_type": "stream",
          "name": "stdout",
          "text": [
            "Cross-validation scores: [0.9122807  0.92105263 0.98245614 0.95614035 1.        ]\n",
            "Mean CV Accuracy: 0.9543859649122808\n"
          ]
        }
      ]
    },
    {
      "cell_type": "code",
      "source": [
        "#43. Random Forest: Precision-Recall Curve\n",
        "from sklearn.metrics import precision_recall_curve\n",
        "import matplotlib.pyplot as plt\n",
        "\n",
        "rf = RandomForestClassifier(n_estimators=100, random_state=42)\n",
        "rf.fit(X_train, y_train)\n",
        "y_prob = rf.predict_proba(X_test)[:,1]\n",
        "\n",
        "precision, recall, _ = precision_recall_curve(y_test, y_prob)\n",
        "plt.plot(recall, precision)\n",
        "plt.xlabel(\"Recall\")\n",
        "plt.ylabel(\"Precision\")\n",
        "plt.title(\"Precision-Recall Curve\")\n",
        "plt.show()\n"
      ],
      "metadata": {
        "colab": {
          "base_uri": "https://localhost:8080/",
          "height": 472
        },
        "id": "8j0tammQGcNJ",
        "outputId": "3d898a50-bb63-4fb3-e42c-8361e36d4b4f"
      },
      "execution_count": 27,
      "outputs": [
        {
          "output_type": "display_data",
          "data": {
            "text/plain": [
              "<Figure size 640x480 with 1 Axes>"
            ],
            "image/png": "[encoded data removed]"
          },
          "metadata": {}
        }
      ]
    },
    {
      "cell_type": "code",
      "source": [
        "#44. Stacking Classifier: Random Forest + Logistic Regression\n",
        "estimators = [\n",
        "    ('rf', RandomForestClassifier(n_estimators=100)),\n",
        "    ('lr', LogisticRegression(max_iter=5000))\n",
        "]\n",
        "stack = StackingClassifier(estimators=estimators, final_estimator=LogisticRegression())\n",
        "stack.fit(X_train, y_train)\n",
        "y_pred = stack.predict(X_test)\n",
        "print(\"Stacking Accuracy:\", accuracy_score(y_test, y_pred))\n"
      ],
      "metadata": {
        "colab": {
          "base_uri": "https://localhost:8080/"
        },
        "id": "RVC30FCdGe5o",
        "outputId": "c4901e14-e8c8-473a-d091-090019184efc"
      },
      "execution_count": 28,
      "outputs": [
        {
          "output_type": "stream",
          "name": "stdout",
          "text": [
            "Stacking Accuracy: 0.9649122807017544\n"
          ]
        }
      ]
    },
    {
      "cell_type": "code",
      "source": [
        "#45. Bagging Regressor: Different bootstrap levels\n",
        "for bootstrap in [True, False]:\n",
        "    bag = BaggingRegressor(estimator=DecisionTreeRegressor(), n_estimators=50, bootstrap=bootstrap, random_state=42)\n",
        "    bag.fit(X_train, y_train)\n",
        "    y_pred = bag.predict(X_test)\n",
        "    print(f\"Bootstrap={bootstrap}, MSE={mean_squared_error(y_test, y_pred):.4f}\")\n"
      ],
      "metadata": {
        "colab": {
          "base_uri": "https://localhost:8080/"
        },
        "id": "LRjL6AoEGhWZ",
        "outputId": "7184b4ed-b3f0-4cb0-bc9e-8d4b87115b5b"
      },
      "execution_count": 29,
      "outputs": [
        {
          "output_type": "stream",
          "name": "stdout",
          "text": [
            "Bootstrap=True, MSE=0.0336\n",
            "Bootstrap=False, MSE=0.0562\n"
          ]
        }
      ]
    },
    {
      "cell_type": "code",
      "source": [],
      "metadata": {
        "id": "ATTgjCSzGl3h"
      },
      "execution_count": null,
      "outputs": []
    }
  ]
}