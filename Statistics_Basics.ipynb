{
  "nbformat": 4,
  "nbformat_minor": 0,
  "metadata": {
    "colab": {
      "provenance": [],
      "authorship_tag": "ABX9TyO5gtnNSkKcaacD9mdH50L/",
      "include_colab_link": true
    },
    "kernelspec": {
      "name": "python3",
      "display_name": "Python 3"
    },
    "language_info": {
      "name": "python"
    },
    "widgets": {
      "application/vnd.jupyter.widget-state+json": {
        "37bee549e9ef4190be7f565aad29af5a": {
          "model_module": "@jupyter-widgets/controls",
          "model_name": "TextareaModel",
          "model_module_version": "1.5.0",
          "state": {
            "_dom_classes": [],
            "_model_module": "@jupyter-widgets/controls",
            "_model_module_version": "1.5.0",
            "_model_name": "TextareaModel",
            "_view_count": null,
            "_view_module": "@jupyter-widgets/controls",
            "_view_module_version": "1.5.0",
            "_view_name": "TextareaView",
            "continuous_update": true,
            "description": "Answer:",
            "description_tooltip": null,
            "disabled": false,
            "layout": "IPY_MODEL_7b96aff950044641a427062acd64643d",
            "placeholder": "​",
            "rows": null,
            "style": "IPY_MODEL_9de68598cfab48608c23331c9ce45f8a",
            "value": "Question 1: What is the difference between descriptive statistics and inferential statistics? Explain with examples.\n\n1. Descriptive Statistics\nDefinition:\n• Descriptive statistics summarize and describe the main features of a dataset.\n• They do not make predictions or generalizations beyond the data you have.\nPurpose: To provide a quick overview of the data.\nCommon Techniques / Measures:\n• Measures of central tendency: mean, median, mode\n• Measures of variability: range, variance, standard deviation\n• Data visualization: histograms, boxplots, pie charts\nExample: Suppose we have the scores of 10 students in a math exam: [80, 85, 90, 75, 95, 70, 88, 92, 78, 85]\n• Mean = (80+85+90+75+95+70+88+92+78+85)/10 = 83.8\n• Median = 85\n• Standard deviation ≈ 8.5\nInterpretation:\n• “The average score is 83.8 with a standard deviation of 8.5.”\n• This summarizes the data but does not tell us anything about students in general beyond this group.\n\n2. Inferential Statistics\nDefinition:\n• Inferential statistics makes predictions or inferences about a population based on a sample of data.\n• It allows you to generalize findings, test hypotheses, and estimate uncertainty.\nPurpose:\n• To make conclusions about a larger group without measuring everyone.\nCommon Techniques / Methods:\n• Hypothesis testing (t-test, chi-square test)\n• Confidence intervals\n• Regression analysis\n• ANOVA\nExample:\nSuppose the 10 students above are a sample from a school of 500 students.\n• Using the sample mean (83.8), we can estimate the average score for all 500 students.\n• We could perform a t-test to check if the average score is significantly higher than 80.\n• We might say: “We are 95% confident that the true average score of all students lies between 81 and 86.”\n"
          }
        },
        "7b96aff950044641a427062acd64643d": {
          "model_module": "@jupyter-widgets/base",
          "model_name": "LayoutModel",
          "model_module_version": "1.2.0",
          "state": {
            "_model_module": "@jupyter-widgets/base",
            "_model_module_version": "1.2.0",
            "_model_name": "LayoutModel",
            "_view_count": null,
            "_view_module": "@jupyter-widgets/base",
            "_view_module_version": "1.2.0",
            "_view_name": "LayoutView",
            "align_content": null,
            "align_items": null,
            "align_self": null,
            "border": null,
            "bottom": null,
            "display": null,
            "flex": null,
            "flex_flow": null,
            "grid_area": null,
            "grid_auto_columns": null,
            "grid_auto_flow": null,
            "grid_auto_rows": null,
            "grid_column": null,
            "grid_gap": null,
            "grid_row": null,
            "grid_template_areas": null,
            "grid_template_columns": null,
            "grid_template_rows": null,
            "height": "400px",
            "justify_content": null,
            "justify_items": null,
            "left": null,
            "margin": null,
            "max_height": null,
            "max_width": null,
            "min_height": null,
            "min_width": null,
            "object_fit": null,
            "object_position": null,
            "order": null,
            "overflow": null,
            "overflow_x": null,
            "overflow_y": null,
            "padding": null,
            "right": null,
            "top": null,
            "visibility": null,
            "width": "100%"
          }
        },
        "9de68598cfab48608c23331c9ce45f8a": {
          "model_module": "@jupyter-widgets/controls",
          "model_name": "DescriptionStyleModel",
          "model_module_version": "1.5.0",
          "state": {
            "_model_module": "@jupyter-widgets/controls",
            "_model_module_version": "1.5.0",
            "_model_name": "DescriptionStyleModel",
            "_view_count": null,
            "_view_module": "@jupyter-widgets/base",
            "_view_module_version": "1.2.0",
            "_view_name": "StyleView",
            "description_width": ""
          }
        },
        "6216c0bab0894f869f83eac5bc6a252a": {
          "model_module": "@jupyter-widgets/controls",
          "model_name": "TextareaModel",
          "model_module_version": "1.5.0",
          "state": {
            "_dom_classes": [],
            "_model_module": "@jupyter-widgets/controls",
            "_model_module_version": "1.5.0",
            "_model_name": "TextareaModel",
            "_view_count": null,
            "_view_module": "@jupyter-widgets/controls",
            "_view_module_version": "1.5.0",
            "_view_name": "TextareaView",
            "continuous_update": true,
            "description": "Answer:",
            "description_tooltip": null,
            "disabled": false,
            "layout": "IPY_MODEL_74a8fbded5d348b28b3d5fb40b5baa39",
            "placeholder": "​",
            "rows": null,
            "style": "IPY_MODEL_914b71e8c5ac4c94902ae5ac0704b23f",
            "value": "Question 2: What is sampling in statistics? Explain the differences between random and stratified sampling.\n•\tSampling is the process of selecting a subset (sample) from a larger population to make estimates or draw conclusions about the population.\n•\tIt is used when it is impractical or impossible to collect data from the entire population.\nExample:\n•\tA company wants to know the average salary of employees but cannot survey all 10,000 employees. They select 500 employees as a sample and calculate the average salary from this sample.\n\nTypes of Sampling: Random vs Stratified\n\nRandom Sampling\nDefinition-Every member of the population has an equal chance of being selected\nHow it works-Members are selected purely by chance, e.g., lottery\nPurpose-Simple, unbiased representation\nExample-Selecting 100 employees randomly from all employees\nAdvantages-Easy to implement, unbiased\nDisadvantages-May not represent all subgroups\n\nStratified Sampling\nDefinition-Population is divided into subgroups (strata) based on a characteristic, and samples are drawn from each stratum\nHow it works-Members are selected proportionally from each stratum\nPurpose-Ensures representation from all key subgroups\nExample-Dividing employees by department and selecting proportionally from each department\nAdvantages-More accurate for heterogeneous populations\nDisadvantages-More complex to organize\n"
          }
        },
        "74a8fbded5d348b28b3d5fb40b5baa39": {
          "model_module": "@jupyter-widgets/base",
          "model_name": "LayoutModel",
          "model_module_version": "1.2.0",
          "state": {
            "_model_module": "@jupyter-widgets/base",
            "_model_module_version": "1.2.0",
            "_model_name": "LayoutModel",
            "_view_count": null,
            "_view_module": "@jupyter-widgets/base",
            "_view_module_version": "1.2.0",
            "_view_name": "LayoutView",
            "align_content": null,
            "align_items": null,
            "align_self": null,
            "border": null,
            "bottom": null,
            "display": null,
            "flex": null,
            "flex_flow": null,
            "grid_area": null,
            "grid_auto_columns": null,
            "grid_auto_flow": null,
            "grid_auto_rows": null,
            "grid_column": null,
            "grid_gap": null,
            "grid_row": null,
            "grid_template_areas": null,
            "grid_template_columns": null,
            "grid_template_rows": null,
            "height": "400px",
            "justify_content": null,
            "justify_items": null,
            "left": null,
            "margin": null,
            "max_height": null,
            "max_width": null,
            "min_height": null,
            "min_width": null,
            "object_fit": null,
            "object_position": null,
            "order": null,
            "overflow": null,
            "overflow_x": null,
            "overflow_y": null,
            "padding": null,
            "right": null,
            "top": null,
            "visibility": null,
            "width": "100%"
          }
        },
        "914b71e8c5ac4c94902ae5ac0704b23f": {
          "model_module": "@jupyter-widgets/controls",
          "model_name": "DescriptionStyleModel",
          "model_module_version": "1.5.0",
          "state": {
            "_model_module": "@jupyter-widgets/controls",
            "_model_module_version": "1.5.0",
            "_model_name": "DescriptionStyleModel",
            "_view_count": null,
            "_view_module": "@jupyter-widgets/base",
            "_view_module_version": "1.2.0",
            "_view_name": "StyleView",
            "description_width": ""
          }
        },
        "a5e75b5bb85e40fe8eec39dc07669141": {
          "model_module": "@jupyter-widgets/controls",
          "model_name": "TextareaModel",
          "model_module_version": "1.5.0",
          "state": {
            "_dom_classes": [],
            "_model_module": "@jupyter-widgets/controls",
            "_model_module_version": "1.5.0",
            "_model_name": "TextareaModel",
            "_view_count": null,
            "_view_module": "@jupyter-widgets/controls",
            "_view_module_version": "1.5.0",
            "_view_name": "TextareaView",
            "continuous_update": true,
            "description": "Answer:",
            "description_tooltip": null,
            "disabled": false,
            "layout": "IPY_MODEL_3e1938665f8043e8bdd5728f6108d6d6",
            "placeholder": "​",
            "rows": null,
            "style": "IPY_MODEL_759b3403b1e14fed8334e2a0a281f4c0",
            "value": "Question 3: Define mean, median, and mode. Explain why these measures of central tendency are important.\n\nMean-The arithmetic average of all values. Calculated as sum of all values divided by the number of values. ex-Dataset: [2, 4, 6, 8, 10] → Mean = (2+4+6+8+10)/5 = 6\nMedian- The middle value when the data is arranged in ascending or descending order. If there’s an even number of values, it is the average of the two middle values. ex:Dataset: [2, 4, 6, 8] → Median = (4+6)/2 = 5\nMode- The value that occurs most frequently in the dataset. ex:Dataset: [2, 4, 6, 8, 2] → Mode = 2\n\nImportance of Measures of Central Tendency\n1.\tSummarize data:\nProvides a single representative value for a dataset.\nExample: The average score in an exam gives an idea of overall performance.\n2.\tCompare datasets:\nHelps compare different groups or time periods.\nExample: Average income of two cities can be compared.\n3.\tBasis for statistical analysis:\nMany advanced statistical methods (like regression, hypothesis testing) rely on these measures.\n4.\tIdentify data patterns:\nMean is sensitive to outliers; median is robust to outliers.\nMode identifies the most common occurrence in data.\n\n"
          }
        },
        "3e1938665f8043e8bdd5728f6108d6d6": {
          "model_module": "@jupyter-widgets/base",
          "model_name": "LayoutModel",
          "model_module_version": "1.2.0",
          "state": {
            "_model_module": "@jupyter-widgets/base",
            "_model_module_version": "1.2.0",
            "_model_name": "LayoutModel",
            "_view_count": null,
            "_view_module": "@jupyter-widgets/base",
            "_view_module_version": "1.2.0",
            "_view_name": "LayoutView",
            "align_content": null,
            "align_items": null,
            "align_self": null,
            "border": null,
            "bottom": null,
            "display": null,
            "flex": null,
            "flex_flow": null,
            "grid_area": null,
            "grid_auto_columns": null,
            "grid_auto_flow": null,
            "grid_auto_rows": null,
            "grid_column": null,
            "grid_gap": null,
            "grid_row": null,
            "grid_template_areas": null,
            "grid_template_columns": null,
            "grid_template_rows": null,
            "height": "400px",
            "justify_content": null,
            "justify_items": null,
            "left": null,
            "margin": null,
            "max_height": null,
            "max_width": null,
            "min_height": null,
            "min_width": null,
            "object_fit": null,
            "object_position": null,
            "order": null,
            "overflow": null,
            "overflow_x": null,
            "overflow_y": null,
            "padding": null,
            "right": null,
            "top": null,
            "visibility": null,
            "width": "100%"
          }
        },
        "759b3403b1e14fed8334e2a0a281f4c0": {
          "model_module": "@jupyter-widgets/controls",
          "model_name": "DescriptionStyleModel",
          "model_module_version": "1.5.0",
          "state": {
            "_model_module": "@jupyter-widgets/controls",
            "_model_module_version": "1.5.0",
            "_model_name": "DescriptionStyleModel",
            "_view_count": null,
            "_view_module": "@jupyter-widgets/base",
            "_view_module_version": "1.2.0",
            "_view_name": "StyleView",
            "description_width": ""
          }
        },
        "515ff16ab6cd4e08af067b519907dde1": {
          "model_module": "@jupyter-widgets/controls",
          "model_name": "TextareaModel",
          "model_module_version": "1.5.0",
          "state": {
            "_dom_classes": [],
            "_model_module": "@jupyter-widgets/controls",
            "_model_module_version": "1.5.0",
            "_model_name": "TextareaModel",
            "_view_count": null,
            "_view_module": "@jupyter-widgets/controls",
            "_view_module_version": "1.5.0",
            "_view_name": "TextareaView",
            "continuous_update": true,
            "description": "Answer:",
            "description_tooltip": null,
            "disabled": false,
            "layout": "IPY_MODEL_ccaed669164e490f8deae5d312bc49b4",
            "placeholder": "​",
            "rows": null,
            "style": "IPY_MODEL_9d8bd4763ac341228340df05528a0f84",
            "value": "Question 4: Explain skewness and kurtosis. What does a positive skew imply about the data?\n1. Skewness\nDefinition: Skewness measures the asymmetry of a probability distribution (how much it deviates from a symmetric bell-shaped curve).\nTypes of Skewness:\nPositive Skew (Right Skew)- Tail on the right side is longer; most data points are concentrated on the left\nNegative Skew (Left Skew)- Tail on the left side is longer; most data points are concentrated on the right\nZero Skew- Symmetrical distribution (e.g., normal distribution), Bell curve\n\n\nImplication of Positive Skew:\n-\tThe mean is greater than the median, which is greater than the mode:\nMode<Median<Mean\text{Mode} < \text{Median} < \text{Mean}Mode<Median<Mean \n-\tMost data values are clustered at lower values, with a few unusually high values stretching the right tail.\n-\tExample: Income distribution in a population (few people earn extremely high salaries).\n\n\n2. Kurtosis\nDefinition: Kurtosis measures the “tailedness” or peakedness of a distribution compared to a normal distribution.\nTypes of Kurtosis:\nMesokurtic- Normal distribution; moderate peak and tails\nLeptokurtic- Sharper peak, fatter tails; more outliers\nPlatykurtic- Flatter peak, thinner tails; fewer extreme values\n\nInterpretation:\n•\tHigh kurtosis → higher probability of extreme values (outliers)\n•\tLow kurtosis → lower probability of extreme values\n\n\n"
          }
        },
        "ccaed669164e490f8deae5d312bc49b4": {
          "model_module": "@jupyter-widgets/base",
          "model_name": "LayoutModel",
          "model_module_version": "1.2.0",
          "state": {
            "_model_module": "@jupyter-widgets/base",
            "_model_module_version": "1.2.0",
            "_model_name": "LayoutModel",
            "_view_count": null,
            "_view_module": "@jupyter-widgets/base",
            "_view_module_version": "1.2.0",
            "_view_name": "LayoutView",
            "align_content": null,
            "align_items": null,
            "align_self": null,
            "border": null,
            "bottom": null,
            "display": null,
            "flex": null,
            "flex_flow": null,
            "grid_area": null,
            "grid_auto_columns": null,
            "grid_auto_flow": null,
            "grid_auto_rows": null,
            "grid_column": null,
            "grid_gap": null,
            "grid_row": null,
            "grid_template_areas": null,
            "grid_template_columns": null,
            "grid_template_rows": null,
            "height": "400px",
            "justify_content": null,
            "justify_items": null,
            "left": null,
            "margin": null,
            "max_height": null,
            "max_width": null,
            "min_height": null,
            "min_width": null,
            "object_fit": null,
            "object_position": null,
            "order": null,
            "overflow": null,
            "overflow_x": null,
            "overflow_y": null,
            "padding": null,
            "right": null,
            "top": null,
            "visibility": null,
            "width": "100%"
          }
        },
        "9d8bd4763ac341228340df05528a0f84": {
          "model_module": "@jupyter-widgets/controls",
          "model_name": "DescriptionStyleModel",
          "model_module_version": "1.5.0",
          "state": {
            "_model_module": "@jupyter-widgets/controls",
            "_model_module_version": "1.5.0",
            "_model_name": "DescriptionStyleModel",
            "_view_count": null,
            "_view_module": "@jupyter-widgets/base",
            "_view_module_version": "1.2.0",
            "_view_name": "StyleView",
            "description_width": ""
          }
        },
        "3b377f82277d4d3fac63bb163e223537": {
          "model_module": "@jupyter-widgets/controls",
          "model_name": "TextareaModel",
          "model_module_version": "1.5.0",
          "state": {
            "_dom_classes": [],
            "_model_module": "@jupyter-widgets/controls",
            "_model_module_version": "1.5.0",
            "_model_name": "TextareaModel",
            "_view_count": null,
            "_view_module": "@jupyter-widgets/controls",
            "_view_module_version": "1.5.0",
            "_view_name": "TextareaView",
            "continuous_update": true,
            "description": "Answer:",
            "description_tooltip": null,
            "disabled": false,
            "layout": "IPY_MODEL_f800e52a5f9547f7822f88fc53d20b56",
            "placeholder": "​",
            "rows": null,
            "style": "IPY_MODEL_a7a7f0a2cfc047b786f6cd18597ddffe",
            "value": "Explanation:\n1.\tBoxplot Components:\n-\tBox: Q1 to Q3 (middle 50% of data)\n-\tMedian Line: Middle value of the data\n-\tWhiskers: Extend to minimum and maximum within 1.5×IQR from Q1 and Q3\n-\tOutliers: Points outside whiskers\n2.\tCalculations for this data:\n-\tQ1 = 18\n-\tQ3 = 24\n-\tIQR = Q3 - Q1 = 6\n-\tLower bound = 18 - 1.5×6 = 9\n-\tUpper bound = 24 + 1.5×6 = 33\n3.\tOutliers: Any value < 9 or > 33 → 35 is the outlier\n"
          }
        },
        "f800e52a5f9547f7822f88fc53d20b56": {
          "model_module": "@jupyter-widgets/base",
          "model_name": "LayoutModel",
          "model_module_version": "1.2.0",
          "state": {
            "_model_module": "@jupyter-widgets/base",
            "_model_module_version": "1.2.0",
            "_model_name": "LayoutModel",
            "_view_count": null,
            "_view_module": "@jupyter-widgets/base",
            "_view_module_version": "1.2.0",
            "_view_name": "LayoutView",
            "align_content": null,
            "align_items": null,
            "align_self": null,
            "border": null,
            "bottom": null,
            "display": null,
            "flex": null,
            "flex_flow": null,
            "grid_area": null,
            "grid_auto_columns": null,
            "grid_auto_flow": null,
            "grid_auto_rows": null,
            "grid_column": null,
            "grid_gap": null,
            "grid_row": null,
            "grid_template_areas": null,
            "grid_template_columns": null,
            "grid_template_rows": null,
            "height": "400px",
            "justify_content": null,
            "justify_items": null,
            "left": null,
            "margin": null,
            "max_height": null,
            "max_width": null,
            "min_height": null,
            "min_width": null,
            "object_fit": null,
            "object_position": null,
            "order": null,
            "overflow": null,
            "overflow_x": null,
            "overflow_y": null,
            "padding": null,
            "right": null,
            "top": null,
            "visibility": null,
            "width": "100%"
          }
        },
        "a7a7f0a2cfc047b786f6cd18597ddffe": {
          "model_module": "@jupyter-widgets/controls",
          "model_name": "DescriptionStyleModel",
          "model_module_version": "1.5.0",
          "state": {
            "_model_module": "@jupyter-widgets/controls",
            "_model_module_version": "1.5.0",
            "_model_name": "DescriptionStyleModel",
            "_view_count": null,
            "_view_module": "@jupyter-widgets/base",
            "_view_module_version": "1.2.0",
            "_view_name": "StyleView",
            "description_width": ""
          }
        },
        "eaf849e61f684f9683bc9981d6c4a3ed": {
          "model_module": "@jupyter-widgets/controls",
          "model_name": "TextareaModel",
          "model_module_version": "1.5.0",
          "state": {
            "_dom_classes": [],
            "_model_module": "@jupyter-widgets/controls",
            "_model_module_version": "1.5.0",
            "_model_name": "TextareaModel",
            "_view_count": null,
            "_view_module": "@jupyter-widgets/controls",
            "_view_module_version": "1.5.0",
            "_view_name": "TextareaView",
            "continuous_update": true,
            "description": "Answer:",
            "description_tooltip": null,
            "disabled": false,
            "layout": "IPY_MODEL_934c904957cc49d384a40cd3cb18fd62",
            "placeholder": "​",
            "rows": null,
            "style": "IPY_MODEL_b5c3536e097c41fb90fb9292cf4a4dda",
            "value": "Question 8: You are working as a data analyst in an e-commerce company. The marketing team wants to know if there is a relationship between advertising spend and daily sales. \n● Explain how you would use covariance and correlation to explore this relationship. \n● Write Python code to compute the correlation between the two lists:\n advertising_spend = [200, 250, 300, 400, 500] \ndaily_sales = [2200, 2450, 2750, 3200, 4000]\n•\tCovariance measures how two variables change together:\n-\tPositive covariance → as advertising spend increases, daily sales also increase.\n-\tNegative covariance → as advertising spend increases, daily sales decrease.\n-\tLimitation: The magnitude depends on units; hard to interpret directly.\n•\tCorrelation coefficient (rrr) measures the strength and direction of a linear relationship:\no\trrr ranges from -1 to 1:\n\t1 → perfect positive correlation\n\t-1 → perfect negative correlation\n\t0 → no linear correlation\no\tAdvantage: normalized, easy to interpret.\nConclusion:\n•\tUse covariance to see the direction of change.\n•\tUse correlation to quantify the strength of the relationship.\n•\tIn this scenario, both can indicate whether higher advertising spend is associated with higher daily sales.\n\n"
          }
        },
        "934c904957cc49d384a40cd3cb18fd62": {
          "model_module": "@jupyter-widgets/base",
          "model_name": "LayoutModel",
          "model_module_version": "1.2.0",
          "state": {
            "_model_module": "@jupyter-widgets/base",
            "_model_module_version": "1.2.0",
            "_model_name": "LayoutModel",
            "_view_count": null,
            "_view_module": "@jupyter-widgets/base",
            "_view_module_version": "1.2.0",
            "_view_name": "LayoutView",
            "align_content": null,
            "align_items": null,
            "align_self": null,
            "border": null,
            "bottom": null,
            "display": null,
            "flex": null,
            "flex_flow": null,
            "grid_area": null,
            "grid_auto_columns": null,
            "grid_auto_flow": null,
            "grid_auto_rows": null,
            "grid_column": null,
            "grid_gap": null,
            "grid_row": null,
            "grid_template_areas": null,
            "grid_template_columns": null,
            "grid_template_rows": null,
            "height": "400px",
            "justify_content": null,
            "justify_items": null,
            "left": null,
            "margin": null,
            "max_height": null,
            "max_width": null,
            "min_height": null,
            "min_width": null,
            "object_fit": null,
            "object_position": null,
            "order": null,
            "overflow": null,
            "overflow_x": null,
            "overflow_y": null,
            "padding": null,
            "right": null,
            "top": null,
            "visibility": null,
            "width": "100%"
          }
        },
        "b5c3536e097c41fb90fb9292cf4a4dda": {
          "model_module": "@jupyter-widgets/controls",
          "model_name": "DescriptionStyleModel",
          "model_module_version": "1.5.0",
          "state": {
            "_model_module": "@jupyter-widgets/controls",
            "_model_module_version": "1.5.0",
            "_model_name": "DescriptionStyleModel",
            "_view_count": null,
            "_view_module": "@jupyter-widgets/base",
            "_view_module_version": "1.2.0",
            "_view_name": "StyleView",
            "description_width": ""
          }
        }
      }
    }
  },
  "cells": [
    {
      "cell_type": "markdown",
      "metadata": {
        "id": "view-in-github",
        "colab_type": "text"
      },
      "source": [
        "<a href=\"https://colab.research.google.com/github/kanhaia21/Assignments/blob/main/Statistics_Basics.ipynb\" target=\"_parent\"><img src=\"https://colab.research.google.com/assets/colab-badge.svg\" alt=\"Open In Colab\"/></a>"
      ]
    },
    {
      "cell_type": "markdown",
      "source": [
        "#Statistics Basics"
      ],
      "metadata": {
        "id": "0RlSYZihYXQu"
      }
    },
    {
      "cell_type": "code",
      "execution_count": 3,
      "metadata": {
        "colab": {
          "base_uri": "https://localhost:8080/",
          "height": 441,
          "referenced_widgets": [
            "37bee549e9ef4190be7f565aad29af5a",
            "7b96aff950044641a427062acd64643d",
            "9de68598cfab48608c23331c9ce45f8a"
          ]
        },
        "id": "cVmSPWvmYO8e",
        "outputId": "8879c847-e390-4b22-8bf5-c02186148e9f"
      },
      "outputs": [
        {
          "output_type": "display_data",
          "data": {
            "text/plain": [
              "Textarea(value='Question 1: What is the difference between descriptive statistics and inferential statistics? …"
            ],
            "application/vnd.jupyter.widget-view+json": {
              "version_major": 2,
              "version_minor": 0,
              "model_id": "37bee549e9ef4190be7f565aad29af5a"
            }
          },
          "metadata": {}
        }
      ],
      "source": [
        "import ipywidgets as widgets\n",
        "from IPython.display import display\n",
        "\n",
        "content = \"\"\"Question 1: What is the difference between descriptive statistics and inferential statistics? Explain with examples.\n",
        "\n",
        "1. Descriptive Statistics\n",
        "Definition:\n",
        "• Descriptive statistics summarize and describe the main features of a dataset.\n",
        "• They do not make predictions or generalizations beyond the data you have.\n",
        "Purpose: To provide a quick overview of the data.\n",
        "Common Techniques / Measures:\n",
        "• Measures of central tendency: mean, median, mode\n",
        "• Measures of variability: range, variance, standard deviation\n",
        "• Data visualization: histograms, boxplots, pie charts\n",
        "Example: Suppose we have the scores of 10 students in a math exam: [80, 85, 90, 75, 95, 70, 88, 92, 78, 85]\n",
        "• Mean = (80+85+90+75+95+70+88+92+78+85)/10 = 83.8\n",
        "• Median = 85\n",
        "• Standard deviation ≈ 8.5\n",
        "Interpretation:\n",
        "• “The average score is 83.8 with a standard deviation of 8.5.”\n",
        "• This summarizes the data but does not tell us anything about students in general beyond this group.\n",
        "\n",
        "2. Inferential Statistics\n",
        "Definition:\n",
        "• Inferential statistics makes predictions or inferences about a population based on a sample of data.\n",
        "• It allows you to generalize findings, test hypotheses, and estimate uncertainty.\n",
        "Purpose:\n",
        "• To make conclusions about a larger group without measuring everyone.\n",
        "Common Techniques / Methods:\n",
        "• Hypothesis testing (t-test, chi-square test)\n",
        "• Confidence intervals\n",
        "• Regression analysis\n",
        "• ANOVA\n",
        "Example:\n",
        "Suppose the 10 students above are a sample from a school of 500 students.\n",
        "• Using the sample mean (83.8), we can estimate the average score for all 500 students.\n",
        "• We could perform a t-test to check if the average score is significantly higher than 80.\n",
        "• We might say: “We are 95% confident that the true average score of all students lies between 81 and 86.”\n",
        "\"\"\"\n",
        "\n",
        "# Create a multi-line text box\n",
        "textbox = widgets.Textarea(\n",
        "    value=content,\n",
        "    description='Answer:',\n",
        "    layout=widgets.Layout(width='100%', height='400px')\n",
        ")\n",
        "\n",
        "display(textbox)\n"
      ]
    },
    {
      "cell_type": "code",
      "source": [
        "content2 = \"\"\"Question 2: What is sampling in statistics? Explain the differences between random and stratified sampling.\n",
        "•\tSampling is the process of selecting a subset (sample) from a larger population to make estimates or draw conclusions about the population.\n",
        "•\tIt is used when it is impractical or impossible to collect data from the entire population.\n",
        "Example:\n",
        "•\tA company wants to know the average salary of employees but cannot survey all 10,000 employees. They select 500 employees as a sample and calculate the average salary from this sample.\n",
        "\n",
        "Types of Sampling: Random vs Stratified\n",
        "\n",
        "Random Sampling\n",
        "Definition-Every member of the population has an equal chance of being selected\n",
        "How it works-Members are selected purely by chance, e.g., lottery\n",
        "Purpose-Simple, unbiased representation\n",
        "Example-Selecting 100 employees randomly from all employees\n",
        "Advantages-Easy to implement, unbiased\n",
        "Disadvantages-May not represent all subgroups\n",
        "\n",
        "Stratified Sampling\n",
        "Definition-Population is divided into subgroups (strata) based on a characteristic, and samples are drawn from each stratum\n",
        "How it works-Members are selected proportionally from each stratum\n",
        "Purpose-Ensures representation from all key subgroups\n",
        "Example-Dividing employees by department and selecting proportionally from each department\n",
        "Advantages-More accurate for heterogeneous populations\n",
        "Disadvantages-More complex to organize\n",
        "\"\"\"\n",
        "\n",
        "# Create a multi-line text box\n",
        "textbox = widgets.Textarea(\n",
        "    value=content2,\n",
        "    description='Answer:',\n",
        "    layout=widgets.Layout(width='100%', height='400px')\n",
        ")\n",
        "\n",
        "display(textbox)"
      ],
      "metadata": {
        "colab": {
          "base_uri": "https://localhost:8080/",
          "height": 441,
          "referenced_widgets": [
            "6216c0bab0894f869f83eac5bc6a252a",
            "74a8fbded5d348b28b3d5fb40b5baa39",
            "914b71e8c5ac4c94902ae5ac0704b23f"
          ]
        },
        "id": "VOw4I4YoYW9N",
        "outputId": "c20469c8-74c3-462e-88f5-720d0a4fe30f"
      },
      "execution_count": 6,
      "outputs": [
        {
          "output_type": "display_data",
          "data": {
            "text/plain": [
              "Textarea(value='Question 2: What is sampling in statistics? Explain the differences between random and stratif…"
            ],
            "application/vnd.jupyter.widget-view+json": {
              "version_major": 2,
              "version_minor": 0,
              "model_id": "6216c0bab0894f869f83eac5bc6a252a"
            }
          },
          "metadata": {}
        }
      ]
    },
    {
      "cell_type": "code",
      "source": [
        "content3 = \"\"\"Question 3: Define mean, median, and mode. Explain why these measures of central tendency are important.\n",
        "\n",
        "Mean-The arithmetic average of all values. Calculated as sum of all values divided by the number of values. ex-Dataset: [2, 4, 6, 8, 10] → Mean = (2+4+6+8+10)/5 = 6\n",
        "Median- The middle value when the data is arranged in ascending or descending order. If there’s an even number of values, it is the average of the two middle values. ex:Dataset: [2, 4, 6, 8] → Median = (4+6)/2 = 5\n",
        "Mode- The value that occurs most frequently in the dataset. ex:Dataset: [2, 4, 6, 8, 2] → Mode = 2\n",
        "\n",
        "Importance of Measures of Central Tendency\n",
        "1.\tSummarize data:\n",
        "Provides a single representative value for a dataset.\n",
        "Example: The average score in an exam gives an idea of overall performance.\n",
        "2.\tCompare datasets:\n",
        "Helps compare different groups or time periods.\n",
        "Example: Average income of two cities can be compared.\n",
        "3.\tBasis for statistical analysis:\n",
        "Many advanced statistical methods (like regression, hypothesis testing) rely on these measures.\n",
        "4.\tIdentify data patterns:\n",
        "Mean is sensitive to outliers; median is robust to outliers.\n",
        "Mode identifies the most common occurrence in data.\n",
        "\n",
        "\"\"\"\n",
        "\n",
        "# Create a multi-line text box\n",
        "textbox = widgets.Textarea(\n",
        "    value=content3,\n",
        "    description='Answer:',\n",
        "    layout=widgets.Layout(width='100%', height='400px')\n",
        ")\n",
        "\n",
        "display(textbox)"
      ],
      "metadata": {
        "colab": {
          "base_uri": "https://localhost:8080/",
          "height": 441,
          "referenced_widgets": [
            "a5e75b5bb85e40fe8eec39dc07669141",
            "3e1938665f8043e8bdd5728f6108d6d6",
            "759b3403b1e14fed8334e2a0a281f4c0"
          ]
        },
        "id": "EfhARK6Saat4",
        "outputId": "6c79a4b1-ede2-418b-cefa-7c08db96874d"
      },
      "execution_count": 8,
      "outputs": [
        {
          "output_type": "display_data",
          "data": {
            "text/plain": [
              "Textarea(value='Question 3: Define mean, median, and mode. Explain why these measures of central tendency are …"
            ],
            "application/vnd.jupyter.widget-view+json": {
              "version_major": 2,
              "version_minor": 0,
              "model_id": "a5e75b5bb85e40fe8eec39dc07669141"
            }
          },
          "metadata": {}
        }
      ]
    },
    {
      "cell_type": "code",
      "source": [
        "content4 = \"\"\"Question 4: Explain skewness and kurtosis. What does a positive skew imply about the data?\n",
        "1. Skewness\n",
        "Definition: Skewness measures the asymmetry of a probability distribution (how much it deviates from a symmetric bell-shaped curve).\n",
        "Types of Skewness:\n",
        "Positive Skew (Right Skew)- Tail on the right side is longer; most data points are concentrated on the left\n",
        "Negative Skew (Left Skew)- Tail on the left side is longer; most data points are concentrated on the right\n",
        "Zero Skew- Symmetrical distribution (e.g., normal distribution), Bell curve\n",
        "\n",
        "\n",
        "Implication of Positive Skew:\n",
        "-\tThe mean is greater than the median, which is greater than the mode:\n",
        "Mode<Median<Mean\\text{Mode} < \\text{Median} < \\text{Mean}Mode<Median<Mean\n",
        "-\tMost data values are clustered at lower values, with a few unusually high values stretching the right tail.\n",
        "-\tExample: Income distribution in a population (few people earn extremely high salaries).\n",
        "\n",
        "\n",
        "2. Kurtosis\n",
        "Definition: Kurtosis measures the “tailedness” or peakedness of a distribution compared to a normal distribution.\n",
        "Types of Kurtosis:\n",
        "Mesokurtic- Normal distribution; moderate peak and tails\n",
        "Leptokurtic- Sharper peak, fatter tails; more outliers\n",
        "Platykurtic- Flatter peak, thinner tails; fewer extreme values\n",
        "\n",
        "Interpretation:\n",
        "•\tHigh kurtosis → higher probability of extreme values (outliers)\n",
        "•\tLow kurtosis → lower probability of extreme values\n",
        "\n",
        "\n",
        "\"\"\"\n",
        "\n",
        "# Create a multi-line text box\n",
        "textbox = widgets.Textarea(\n",
        "    value=content4,\n",
        "    description='Answer:',\n",
        "    layout=widgets.Layout(width='100%', height='400px')\n",
        ")\n",
        "\n",
        "display(textbox)"
      ],
      "metadata": {
        "colab": {
          "base_uri": "https://localhost:8080/",
          "height": 441,
          "referenced_widgets": [
            "515ff16ab6cd4e08af067b519907dde1",
            "ccaed669164e490f8deae5d312bc49b4",
            "9d8bd4763ac341228340df05528a0f84"
          ]
        },
        "id": "HJTTaoBob3X7",
        "outputId": "4e722d06-bd71-4c16-b482-43d6d0b120a4"
      },
      "execution_count": 10,
      "outputs": [
        {
          "output_type": "display_data",
          "data": {
            "text/plain": [
              "Textarea(value='Question 4: Explain skewness and kurtosis. What does a positive skew imply about the data?\\n1.…"
            ],
            "application/vnd.jupyter.widget-view+json": {
              "version_major": 2,
              "version_minor": 0,
              "model_id": "515ff16ab6cd4e08af067b519907dde1"
            }
          },
          "metadata": {}
        }
      ]
    },
    {
      "cell_type": "code",
      "source": [
        "#Question 5: Implement a Python program to compute the mean, median, and mode of a given list of numbers. numbers = [12, 15, 12, 18, 19, 12, 20, 22, 19, 19, 24, 24, 24, 26, 28]\n",
        "#import statistics as stats\n",
        "#Given list of numbers\n",
        "numbers = [12, 15, 12, 18, 19, 12, 20, 22, 19, 19, 24, 24, 24, 26, 28]\n",
        "\n",
        "import statistics as stats\n",
        "# Calculate mean, median, and mode\n",
        "mean_value = statistics.mean(numbers)\n",
        "median_value = statistics.median(numbers)\n",
        "mode_value = statistics.mode(numbers)\n",
        "\n",
        "# Display results\n",
        "print(\"Mean:\", mean_value)\n",
        "print(\"Median:\", median_value)\n",
        "print(\"Mode:\", mode_value)\n"
      ],
      "metadata": {
        "colab": {
          "base_uri": "https://localhost:8080/"
        },
        "id": "iXuXVu1RcrGn",
        "outputId": "ee0d5a07-66de-4501-a528-77b3116e061b"
      },
      "execution_count": 18,
      "outputs": [
        {
          "output_type": "stream",
          "name": "stdout",
          "text": [
            "Mean: 19.6\n",
            "Median: 19\n",
            "Mode: 12\n"
          ]
        }
      ]
    },
    {
      "cell_type": "code",
      "source": [
        "#Question 6: Compute the covariance and correlation coefficient between the following two datasets provided as lists in Python: list_x = [10, 20, 30, 40, 50] list_y = [15, 25, 35, 45, 60]\n",
        "import numpy as np\n",
        "\n",
        "# Given lists\n",
        "list_x = [10, 20, 30, 40, 50]\n",
        "list_y = [15, 25, 35, 45, 60]\n",
        "\n",
        "# Convert lists to numpy arrays\n",
        "x = np.array(list_x)\n",
        "y = np.array(list_y)\n",
        "\n",
        "# Compute covariance\n",
        "cov_matrix = np.cov(x, y, bias=False)  # bias=False gives sample covariance\n",
        "cov_xy = cov_matrix[0, 1]\n",
        "\n",
        "# Compute correlation coefficient\n",
        "corr_matrix = np.corrcoef(x, y)\n",
        "corr_xy = corr_matrix[0, 1]\n",
        "\n",
        "# Display results\n",
        "print(\"Covariance:\", cov_xy)\n",
        "print(\"Correlation coefficient:\", corr_xy)\n"
      ],
      "metadata": {
        "colab": {
          "base_uri": "https://localhost:8080/"
        },
        "id": "pwf-n0yedQyN",
        "outputId": "7b2122aa-219d-493d-bfe8-2b163ab6b477"
      },
      "execution_count": 19,
      "outputs": [
        {
          "output_type": "stream",
          "name": "stdout",
          "text": [
            "Covariance: 275.0\n",
            "Correlation coefficient: 0.995893206467704\n"
          ]
        }
      ]
    },
    {
      "cell_type": "code",
      "source": [
        "#Question 7: Write a Python script to draw a boxplot for the following numeric list and identify its outliers. Explain the result: data = [12, 14, 14, 15, 18, 19, 19, 21, 22, 22, 23, 23, 24, 26, 29, 35]\n",
        "import matplotlib.pyplot as plt\n",
        "import numpy as np\n",
        "\n",
        "# Given data\n",
        "data = [12, 14, 14, 15, 18, 19, 19, 21, 22, 22, 23, 23, 24, 26, 29, 35]\n",
        "\n",
        "# Create boxplot\n",
        "plt.boxplot(data, vert=True, patch_artist=True)\n",
        "plt.title(\"Boxplot of Data\")\n",
        "plt.ylabel(\"Values\")\n",
        "plt.show()\n",
        "\n",
        "# Identify outliers using IQR method\n",
        "Q1 = np.percentile(data, 25)\n",
        "Q3 = np.percentile(data, 75)\n",
        "IQR = Q3 - Q1\n",
        "\n",
        "# Outlier thresholds\n",
        "lower_bound = Q1 - 1.5 * IQR\n",
        "upper_bound = Q3 + 1.5 * IQR\n",
        "\n",
        "# Find outliers\n",
        "outliers = [x for x in data if x < lower_bound or x > upper_bound]\n",
        "\n",
        "print(\"Q1 (25th percentile):\", Q1)\n",
        "print(\"Q3 (75th percentile):\", Q3)\n",
        "print(\"IQR:\", IQR)\n",
        "print(\"Lower bound:\", lower_bound)\n",
        "print(\"Upper bound:\", upper_bound)\n",
        "print(\"Outliers:\", outliers)\n"
      ],
      "metadata": {
        "colab": {
          "base_uri": "https://localhost:8080/",
          "height": 556
        },
        "id": "HhUtaX-vdgnq",
        "outputId": "e2f7de19-4566-4dd6-d747-13321c162972"
      },
      "execution_count": 20,
      "outputs": [
        {
          "output_type": "display_data",
          "data": {
            "text/plain": [
              "<Figure size 640x480 with 1 Axes>"
            ],
            "image/png": "[encoded data removed]"
          },
          "metadata": {}
        },
        {
          "output_type": "stream",
          "name": "stdout",
          "text": [
            "Q1 (25th percentile): 17.25\n",
            "Q3 (75th percentile): 23.25\n",
            "IQR: 6.0\n",
            "Lower bound: 8.25\n",
            "Upper bound: 32.25\n",
            "Outliers: [35]\n"
          ]
        }
      ]
    },
    {
      "cell_type": "code",
      "source": [
        "content5 = \"\"\"Explanation:\n",
        "1.\tBoxplot Components:\n",
        "-\tBox: Q1 to Q3 (middle 50% of data)\n",
        "-\tMedian Line: Middle value of the data\n",
        "-\tWhiskers: Extend to minimum and maximum within 1.5×IQR from Q1 and Q3\n",
        "-\tOutliers: Points outside whiskers\n",
        "2.\tCalculations for this data:\n",
        "-\tQ1 = 18\n",
        "-\tQ3 = 24\n",
        "-\tIQR = Q3 - Q1 = 6\n",
        "-\tLower bound = 18 - 1.5×6 = 9\n",
        "-\tUpper bound = 24 + 1.5×6 = 33\n",
        "3.\tOutliers: Any value < 9 or > 33 → 35 is the outlier\n",
        "\"\"\"\n",
        "\n",
        "# Create a multi-line text box\n",
        "textbox = widgets.Textarea(\n",
        "    value=content5,\n",
        "    description='Answer:',\n",
        "    layout=widgets.Layout(width='100%', height='400px')\n",
        ")\n",
        "\n",
        "display(textbox)"
      ],
      "metadata": {
        "colab": {
          "base_uri": "https://localhost:8080/",
          "height": 441,
          "referenced_widgets": [
            "3b377f82277d4d3fac63bb163e223537",
            "f800e52a5f9547f7822f88fc53d20b56",
            "a7a7f0a2cfc047b786f6cd18597ddffe"
          ]
        },
        "id": "b70mqGFDd-r3",
        "outputId": "2b71916b-a51e-4efb-a356-9b254036d108"
      },
      "execution_count": 21,
      "outputs": [
        {
          "output_type": "display_data",
          "data": {
            "text/plain": [
              "Textarea(value='Explanation:\\n1.\\tBoxplot Components:\\n-\\tBox: Q1 to Q3 (middle 50% of data)\\n-\\tMedian Line: …"
            ],
            "application/vnd.jupyter.widget-view+json": {
              "version_major": 2,
              "version_minor": 0,
              "model_id": "3b377f82277d4d3fac63bb163e223537"
            }
          },
          "metadata": {}
        }
      ]
    },
    {
      "cell_type": "code",
      "source": [
        "content6 = \"\"\"Question 8: You are working as a data analyst in an e-commerce company. The marketing team wants to know if there is a relationship between advertising spend and daily sales.\n",
        "● Explain how you would use covariance and correlation to explore this relationship.\n",
        "● Write Python code to compute the correlation between the two lists:\n",
        " advertising_spend = [200, 250, 300, 400, 500]\n",
        "daily_sales = [2200, 2450, 2750, 3200, 4000]\n",
        "•\tCovariance measures how two variables change together:\n",
        "-\tPositive covariance → as advertising spend increases, daily sales also increase.\n",
        "-\tNegative covariance → as advertising spend increases, daily sales decrease.\n",
        "-\tLimitation: The magnitude depends on units; hard to interpret directly.\n",
        "•\tCorrelation coefficient (rrr) measures the strength and direction of a linear relationship:\n",
        "o\trrr ranges from -1 to 1:\n",
        "\t1 → perfect positive correlation\n",
        "\t-1 → perfect negative correlation\n",
        "\t0 → no linear correlation\n",
        "o\tAdvantage: normalized, easy to interpret.\n",
        "Conclusion:\n",
        "•\tUse covariance to see the direction of change.\n",
        "•\tUse correlation to quantify the strength of the relationship.\n",
        "•\tIn this scenario, both can indicate whether higher advertising spend is associated with higher daily sales.\n",
        "\n",
        "\"\"\"\n",
        "\n",
        "# Create a multi-line text box\n",
        "textbox = widgets.Textarea(\n",
        "    value=content6,\n",
        "    description='Answer:',\n",
        "    layout=widgets.Layout(width='100%', height='400px')\n",
        ")\n",
        "\n",
        "display(textbox)"
      ],
      "metadata": {
        "colab": {
          "base_uri": "https://localhost:8080/",
          "height": 441,
          "referenced_widgets": [
            "eaf849e61f684f9683bc9981d6c4a3ed",
            "934c904957cc49d384a40cd3cb18fd62",
            "b5c3536e097c41fb90fb9292cf4a4dda"
          ]
        },
        "id": "i6XblL4seX4P",
        "outputId": "49e60ae6-3d51-4307-b0f1-e1acb8d95f65"
      },
      "execution_count": 22,
      "outputs": [
        {
          "output_type": "display_data",
          "data": {
            "text/plain": [
              "Textarea(value='Question 8: You are working as a data analyst in an e-commerce company. The marketing team wan…"
            ],
            "application/vnd.jupyter.widget-view+json": {
              "version_major": 2,
              "version_minor": 0,
              "model_id": "eaf849e61f684f9683bc9981d6c4a3ed"
            }
          },
          "metadata": {}
        }
      ]
    },
    {
      "cell_type": "code",
      "source": [
        "# Given data\n",
        "advertising_spend = [200, 250, 300, 400, 500]\n",
        "daily_sales = [2200, 2450, 2750, 3200, 4000]\n",
        "\n",
        "# Convert to numpy arrays\n",
        "x = np.array(advertising_spend)\n",
        "y = np.array(daily_sales)\n",
        "\n",
        "# Compute covariance\n",
        "cov_matrix = np.cov(x, y, bias=False)\n",
        "cov_xy = cov_matrix[0, 1]\n",
        "\n",
        "# Compute correlation coefficient\n",
        "corr_matrix = np.corrcoef(x, y)\n",
        "corr_xy = corr_matrix[0, 1]\n",
        "\n",
        "# Display results\n",
        "print(\"Covariance:\", cov_xy)\n",
        "print(\"Correlation coefficient:\", corr_xy)\n"
      ],
      "metadata": {
        "colab": {
          "base_uri": "https://localhost:8080/"
        },
        "id": "jyfpvCkiev_X",
        "outputId": "3ea2aa36-9fa5-42ea-ea68-3a48a89df632"
      },
      "execution_count": 23,
      "outputs": [
        {
          "output_type": "stream",
          "name": "stdout",
          "text": [
            "Covariance: 84875.0\n",
            "Correlation coefficient: 0.9935824101653329\n"
          ]
        }
      ]
    },
    {
      "cell_type": "code",
      "source": [],
      "metadata": {
        "id": "EhN24x6oe0Gn"
      },
      "execution_count": null,
      "outputs": []
    }
  ]
}