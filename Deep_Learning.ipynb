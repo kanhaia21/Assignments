{
  "nbformat": 4,
  "nbformat_minor": 0,
  "metadata": {
    "colab": {
      "provenance": [],
      "authorship_tag": "ABX9TyO7ItkBHEFMs2uh1lvrbH/7",
      "include_colab_link": true
    },
    "kernelspec": {
      "name": "python3",
      "display_name": "Python 3"
    },
    "language_info": {
      "name": "python"
    }
  },
  "cells": [
    {
      "cell_type": "markdown",
      "metadata": {
        "id": "view-in-github",
        "colab_type": "text"
      },
      "source": [
        "<a href=\"https://colab.research.google.com/github/kanhaia21/Assignments/blob/main/Deep_Learning.ipynb\" target=\"_parent\"><img src=\"https://colab.research.google.com/assets/colab-badge.svg\" alt=\"Open In Colab\"/></a>"
      ]
    },
    {
      "cell_type": "markdown",
      "source": [
        "#Theoretical"
      ],
      "metadata": {
        "id": "HyxROpjjNLQ6"
      }
    },
    {
      "cell_type": "code",
      "execution_count": 1,
      "metadata": {
        "colab": {
          "base_uri": "https://localhost:8080/"
        },
        "id": "xAVSqAhSNF98",
        "outputId": "f396d323-94cc-4c33-f7b6-e8e6c5af283d"
      },
      "outputs": [
        {
          "output_type": "stream",
          "name": "stdout",
          "text": [
            "\n",
            "1. What is TensorFlow 2.0, and how is it different from TensorFlow 1.x?\n",
            "•\tTensorFlow 2.0 is an open-source deep learning framework for building and training neural networks.\n",
            "•\tDifferences from 1.x:\n",
            "o\tEager execution is enabled by default, making debugging easier.\n",
            "o\tSimplified high-level APIs with tf.keras as the primary interface.\n",
            "o\tRemoved redundant APIs; encourages Pythonic coding style.\n",
            "o\tImproved integration with TensorFlow Hub, TensorFlow Lite, and TensorFlow.js.\n",
            "\n",
            "2. How do you install TensorFlow 2.0?\n",
            "pip install tensorflow\n",
            "# or for GPU version\n",
            "pip install tensorflow-gpu\n",
            "\n",
            "3. What is the primary function of tf.function in TensorFlow 2.0?\n",
            "•\ttf.function converts a Python function into a TensorFlow graph for faster execution while keeping TensorFlow 2.0’s eager execution.\n",
            "\n",
            "4. What is the purpose of the Model class in TensorFlow 2.0?\n",
            "•\tThe tf.keras.Model class is a base class for building neural networks, supporting training, evaluation, and inference.\n",
            "\n",
            "5. How do you create a neural network using TensorFlow 2.0?\n",
            "import tensorflow as tf\n",
            "from tensorflow.keras import layers, models\n",
            "\n",
            "model = models.Sequential([\n",
            "    layers.Dense(64, activation='relu', input_shape=(input_dim,)),\n",
            "    layers.Dense(10, activation='softmax')\n",
            "])\n",
            "\n",
            "model.compile(optimizer='adam', loss='sparse_categorical_crossentropy', metrics=['accuracy'])\n",
            "model.fit(X_train, y_train, epochs=10, batch_size=32)\n",
            " \n",
            "6. What is the importance of Tensor Space in TensorFlow?\n",
            "•\tTensors are multi-dimensional arrays, and tensor space defines the structure, rank, and shape. It’s crucial for operations, broadcasting, and building neural networks.\n",
            "\n",
            "7. How can TensorBoard be integrated with TensorFlow 2.0?\n",
            "tensorboard_callback = tf.keras.callbacks.TensorBoard(log_dir=\"./logs\")\n",
            "model.fit(X_train, y_train, epochs=10, callbacks=[tensorboard_callback])\n",
            "# Then run: tensorboard --logdir=./logs\n",
            "\n",
            "8. What is the purpose of TensorFlow Playground?\n",
            "•\tIt’s a web-based interactive tool for experimenting with neural networks, visualizing activations, layers, and decision boundaries.\n",
            "\n",
            "9. What is Netron, and how is it useful for deep learning models?\n",
            "•\tNetron is a model visualization tool for viewing architectures of TensorFlow, PyTorch, ONNX, and other formats. Useful for debugging and understanding model structure.\n",
            "\n",
            "10. What is the difference between TensorFlow and PyTorch?\n",
            "Tensorflow\n",
            "Execution-Eager by default, graph optional\n",
            "API-Keras-based high-level API\n",
            "Deployment-TensorFlow Serving, Lite, JS\n",
            "Community/Support-Large, industrial focus\n",
            "\n",
            "\n",
            "Pytorch\n",
            "Execution-Eager by default\n",
            "API-Pythonic, dynamic graphs\n",
            "Deployment-TorchScript, ONNX export\n",
            "Community/Support-Research-oriented, flexible\n",
            "\n",
            "11. How do you install PyTorch?\n",
            "# CPU version\n",
            "pip install torch torchvision torchaudio\n",
            "\n",
            "# GPU version (example for CUDA 12.1)\n",
            "pip install torch torchvision torchaudio --index-url https://download.pytorch.org/whl/cu121\n",
            "\n",
            "12. What is the basic structure of a PyTorch neural network?\n",
            "import torch\n",
            "import torch.nn as nn\n",
            "import torch.nn.functional as F\n",
            "\n",
            "class Net(nn.Module):\n",
            "    def __init__(self):\n",
            "        super(Net, self).__init__()\n",
            "        self.fc1 = nn.Linear(784, 128)\n",
            "        self.fc2 = nn.Linear(128, 10)\n",
            "\n",
            "    def forward(self, x):\n",
            "        x = F.relu(self.fc1(x))\n",
            "        x = self.fc2(x)\n",
            "        return x\n",
            "\n",
            "model = Net()\n",
            "\n",
            "13. What is the significance of tensors in PyTorch?\n",
            "•\tTensors are multi-dimensional arrays like NumPy arrays but can be moved to GPU for acceleration.\n",
            "•\tThey are the core data structure for computation in deep learning.\n",
            "\n",
            "14. Difference between torch.Tensor and torch.cuda.Tensor\n",
            "•\ttorch.Tensor → CPU tensor\n",
            "•\ttorch.cuda.Tensor → GPU tensor for faster computation\n",
            "\n",
            "15. Purpose of torch.optim module\n",
            "•\tContains optimization algorithms like SGD, Adam, RMSProp to update model parameters based on gradients.\n",
            "\n",
            "16. Common activation functions\n",
            "•\tReLU, Sigmoid, Tanh, Softmax, Leaky ReLU, GELU\n",
            "\n",
            "17. Difference between torch.nn.Module and torch.nn.Sequential\n",
            "•\tnn.Module → Flexible class-based model with custom forward pass\n",
            "•\tnn.Sequential → Simplified sequential container of layers\n",
            "\n",
            "18. How to monitor training progress in TensorFlow 2.0?\n",
            "•\tUse callbacks like TensorBoard, EarlyStopping, ModelCheckpoint.\n",
            "\n",
            "19. How does the Keras API fit into TensorFlow 2.0?\n",
            "•\tKeras is the high-level API in TensorFlow 2.0, fully integrated for building, training, and evaluating models.\n",
            "20. Example deep learning project using TensorFlow 2.0\n",
            "•\tImage classification (e.g., CIFAR-10 or MNIST)\n",
            "•\tSentiment analysis on text\n",
            "•\tObject detection using TensorFlow Object Detection API\n",
            "\n",
            "21. Main advantage of using pre-trained models\n",
            "•\tSaves training time, provides better accuracy, useful for transfer learning, especially with limited data\n",
            "\n"
          ]
        }
      ],
      "source": [
        "content=\"\"\"\n",
        "1. What is TensorFlow 2.0, and how is it different from TensorFlow 1.x?\n",
        "•\tTensorFlow 2.0 is an open-source deep learning framework for building and training neural networks.\n",
        "•\tDifferences from 1.x:\n",
        "o\tEager execution is enabled by default, making debugging easier.\n",
        "o\tSimplified high-level APIs with tf.keras as the primary interface.\n",
        "o\tRemoved redundant APIs; encourages Pythonic coding style.\n",
        "o\tImproved integration with TensorFlow Hub, TensorFlow Lite, and TensorFlow.js.\n",
        "\n",
        "2. How do you install TensorFlow 2.0?\n",
        "pip install tensorflow\n",
        "# or for GPU version\n",
        "pip install tensorflow-gpu\n",
        "\n",
        "3. What is the primary function of tf.function in TensorFlow 2.0?\n",
        "•\ttf.function converts a Python function into a TensorFlow graph for faster execution while keeping TensorFlow 2.0’s eager execution.\n",
        "\n",
        "4. What is the purpose of the Model class in TensorFlow 2.0?\n",
        "•\tThe tf.keras.Model class is a base class for building neural networks, supporting training, evaluation, and inference.\n",
        "\n",
        "5. How do you create a neural network using TensorFlow 2.0?\n",
        "import tensorflow as tf\n",
        "from tensorflow.keras import layers, models\n",
        "\n",
        "model = models.Sequential([\n",
        "    layers.Dense(64, activation='relu', input_shape=(input_dim,)),\n",
        "    layers.Dense(10, activation='softmax')\n",
        "])\n",
        "\n",
        "model.compile(optimizer='adam', loss='sparse_categorical_crossentropy', metrics=['accuracy'])\n",
        "model.fit(X_train, y_train, epochs=10, batch_size=32)\n",
        "\n",
        "6. What is the importance of Tensor Space in TensorFlow?\n",
        "•\tTensors are multi-dimensional arrays, and tensor space defines the structure, rank, and shape. It’s crucial for operations, broadcasting, and building neural networks.\n",
        "\n",
        "7. How can TensorBoard be integrated with TensorFlow 2.0?\n",
        "tensorboard_callback = tf.keras.callbacks.TensorBoard(log_dir=\"./logs\")\n",
        "model.fit(X_train, y_train, epochs=10, callbacks=[tensorboard_callback])\n",
        "# Then run: tensorboard --logdir=./logs\n",
        "\n",
        "8. What is the purpose of TensorFlow Playground?\n",
        "•\tIt’s a web-based interactive tool for experimenting with neural networks, visualizing activations, layers, and decision boundaries.\n",
        "\n",
        "9. What is Netron, and how is it useful for deep learning models?\n",
        "•\tNetron is a model visualization tool for viewing architectures of TensorFlow, PyTorch, ONNX, and other formats. Useful for debugging and understanding model structure.\n",
        "\n",
        "10. What is the difference between TensorFlow and PyTorch?\n",
        "Tensorflow\n",
        "Execution-Eager by default, graph optional\n",
        "API-Keras-based high-level API\n",
        "Deployment-TensorFlow Serving, Lite, JS\n",
        "Community/Support-Large, industrial focus\n",
        "\n",
        "\n",
        "Pytorch\n",
        "Execution-Eager by default\n",
        "API-Pythonic, dynamic graphs\n",
        "Deployment-TorchScript, ONNX export\n",
        "Community/Support-Research-oriented, flexible\n",
        "\n",
        "11. How do you install PyTorch?\n",
        "# CPU version\n",
        "pip install torch torchvision torchaudio\n",
        "\n",
        "# GPU version (example for CUDA 12.1)\n",
        "pip install torch torchvision torchaudio --index-url https://download.pytorch.org/whl/cu121\n",
        "\n",
        "12. What is the basic structure of a PyTorch neural network?\n",
        "import torch\n",
        "import torch.nn as nn\n",
        "import torch.nn.functional as F\n",
        "\n",
        "class Net(nn.Module):\n",
        "    def __init__(self):\n",
        "        super(Net, self).__init__()\n",
        "        self.fc1 = nn.Linear(784, 128)\n",
        "        self.fc2 = nn.Linear(128, 10)\n",
        "\n",
        "    def forward(self, x):\n",
        "        x = F.relu(self.fc1(x))\n",
        "        x = self.fc2(x)\n",
        "        return x\n",
        "\n",
        "model = Net()\n",
        "\n",
        "13. What is the significance of tensors in PyTorch?\n",
        "•\tTensors are multi-dimensional arrays like NumPy arrays but can be moved to GPU for acceleration.\n",
        "•\tThey are the core data structure for computation in deep learning.\n",
        "\n",
        "14. Difference between torch.Tensor and torch.cuda.Tensor\n",
        "•\ttorch.Tensor → CPU tensor\n",
        "•\ttorch.cuda.Tensor → GPU tensor for faster computation\n",
        "\n",
        "15. Purpose of torch.optim module\n",
        "•\tContains optimization algorithms like SGD, Adam, RMSProp to update model parameters based on gradients.\n",
        "\n",
        "16. Common activation functions\n",
        "•\tReLU, Sigmoid, Tanh, Softmax, Leaky ReLU, GELU\n",
        "\n",
        "17. Difference between torch.nn.Module and torch.nn.Sequential\n",
        "•\tnn.Module → Flexible class-based model with custom forward pass\n",
        "•\tnn.Sequential → Simplified sequential container of layers\n",
        "\n",
        "18. How to monitor training progress in TensorFlow 2.0?\n",
        "•\tUse callbacks like TensorBoard, EarlyStopping, ModelCheckpoint.\n",
        "\n",
        "19. How does the Keras API fit into TensorFlow 2.0?\n",
        "•\tKeras is the high-level API in TensorFlow 2.0, fully integrated for building, training, and evaluating models.\n",
        "20. Example deep learning project using TensorFlow 2.0\n",
        "•\tImage classification (e.g., CIFAR-10 or MNIST)\n",
        "•\tSentiment analysis on text\n",
        "•\tObject detection using TensorFlow Object Detection API\n",
        "\n",
        "21. Main advantage of using pre-trained models\n",
        "•\tSaves training time, provides better accuracy, useful for transfer learning, especially with limited data\n",
        "\"\"\"\n",
        "print(content)\n"
      ]
    },
    {
      "cell_type": "markdown",
      "source": [
        "#Practical"
      ],
      "metadata": {
        "id": "Uy5yIVBROBWT"
      }
    },
    {
      "cell_type": "code",
      "source": [
        "#1. Installing and Verifying TensorFlow 2.0\n",
        "#Install TensorFlow 2.0:\n",
        "!pip install tensorflow==2.20.0\n",
        "\n",
        "#Verify Installation:\n",
        "import tensorflow as tf\n",
        "\n",
        "print(tf.__version__)\n"
      ],
      "metadata": {
        "colab": {
          "base_uri": "https://localhost:8080/"
        },
        "id": "k-DlNg4eN5Y2",
        "outputId": "be45efb8-2f50-4876-de71-981352d3cb29"
      },
      "execution_count": 2,
      "outputs": [
        {
          "output_type": "stream",
          "name": "stdout",
          "text": [
            "Requirement already satisfied: tensorflow==2.20.0 in /usr/local/lib/python3.12/dist-packages (2.20.0)\n",
            "Requirement already satisfied: absl-py>=1.0.0 in /usr/local/lib/python3.12/dist-packages (from tensorflow==2.20.0) (1.4.0)\n",
            "Requirement already satisfied: astunparse>=1.6.0 in /usr/local/lib/python3.12/dist-packages (from tensorflow==2.20.0) (1.6.3)\n",
            "Requirement already satisfied: flatbuffers>=24.3.25 in /usr/local/lib/python3.12/dist-packages (from tensorflow==2.20.0) (25.2.10)\n",
            "Requirement already satisfied: gast!=0.5.0,!=0.5.1,!=0.5.2,>=0.2.1 in /usr/local/lib/python3.12/dist-packages (from tensorflow==2.20.0) (0.6.0)\n",
            "Requirement already satisfied: google_pasta>=0.1.1 in /usr/local/lib/python3.12/dist-packages (from tensorflow==2.20.0) (0.2.0)\n",
            "Requirement already satisfied: libclang>=13.0.0 in /usr/local/lib/python3.12/dist-packages (from tensorflow==2.20.0) (18.1.1)\n",
            "Requirement already satisfied: opt_einsum>=2.3.2 in /usr/local/lib/python3.12/dist-packages (from tensorflow==2.20.0) (3.4.0)\n",
            "Requirement already satisfied: packaging in /usr/local/lib/python3.12/dist-packages (from tensorflow==2.20.0) (25.0)\n",
            "Requirement already satisfied: protobuf>=5.28.0 in /usr/local/lib/python3.12/dist-packages (from tensorflow==2.20.0) (5.29.5)\n",
            "Requirement already satisfied: requests<3,>=2.21.0 in /usr/local/lib/python3.12/dist-packages (from tensorflow==2.20.0) (2.32.4)\n",
            "Requirement already satisfied: setuptools in /usr/local/lib/python3.12/dist-packages (from tensorflow==2.20.0) (75.2.0)\n",
            "Requirement already satisfied: six>=1.12.0 in /usr/local/lib/python3.12/dist-packages (from tensorflow==2.20.0) (1.17.0)\n",
            "Requirement already satisfied: termcolor>=1.1.0 in /usr/local/lib/python3.12/dist-packages (from tensorflow==2.20.0) (3.1.0)\n",
            "Requirement already satisfied: typing_extensions>=3.6.6 in /usr/local/lib/python3.12/dist-packages (from tensorflow==2.20.0) (4.15.0)\n",
            "Requirement already satisfied: wrapt>=1.11.0 in /usr/local/lib/python3.12/dist-packages (from tensorflow==2.20.0) (1.17.3)\n",
            "Requirement already satisfied: grpcio<2.0,>=1.24.3 in /usr/local/lib/python3.12/dist-packages (from tensorflow==2.20.0) (1.75.0)\n",
            "Requirement already satisfied: tensorboard~=2.20.0 in /usr/local/lib/python3.12/dist-packages (from tensorflow==2.20.0) (2.20.0)\n",
            "Requirement already satisfied: keras>=3.10.0 in /usr/local/lib/python3.12/dist-packages (from tensorflow==2.20.0) (3.10.0)\n",
            "Requirement already satisfied: numpy>=1.26.0 in /usr/local/lib/python3.12/dist-packages (from tensorflow==2.20.0) (2.0.2)\n",
            "Requirement already satisfied: h5py>=3.11.0 in /usr/local/lib/python3.12/dist-packages (from tensorflow==2.20.0) (3.14.0)\n",
            "Requirement already satisfied: ml_dtypes<1.0.0,>=0.5.1 in /usr/local/lib/python3.12/dist-packages (from tensorflow==2.20.0) (0.5.3)\n",
            "Requirement already satisfied: wheel<1.0,>=0.23.0 in /usr/local/lib/python3.12/dist-packages (from astunparse>=1.6.0->tensorflow==2.20.0) (0.45.1)\n",
            "Requirement already satisfied: rich in /usr/local/lib/python3.12/dist-packages (from keras>=3.10.0->tensorflow==2.20.0) (13.9.4)\n",
            "Requirement already satisfied: namex in /usr/local/lib/python3.12/dist-packages (from keras>=3.10.0->tensorflow==2.20.0) (0.1.0)\n",
            "Requirement already satisfied: optree in /usr/local/lib/python3.12/dist-packages (from keras>=3.10.0->tensorflow==2.20.0) (0.17.0)\n",
            "Requirement already satisfied: charset_normalizer<4,>=2 in /usr/local/lib/python3.12/dist-packages (from requests<3,>=2.21.0->tensorflow==2.20.0) (3.4.3)\n",
            "Requirement already satisfied: idna<4,>=2.5 in /usr/local/lib/python3.12/dist-packages (from requests<3,>=2.21.0->tensorflow==2.20.0) (3.10)\n",
            "Requirement already satisfied: urllib3<3,>=1.21.1 in /usr/local/lib/python3.12/dist-packages (from requests<3,>=2.21.0->tensorflow==2.20.0) (2.5.0)\n",
            "Requirement already satisfied: certifi>=2017.4.17 in /usr/local/lib/python3.12/dist-packages (from requests<3,>=2.21.0->tensorflow==2.20.0) (2025.8.3)\n",
            "Requirement already satisfied: markdown>=2.6.8 in /usr/local/lib/python3.12/dist-packages (from tensorboard~=2.20.0->tensorflow==2.20.0) (3.9)\n",
            "Requirement already satisfied: pillow in /usr/local/lib/python3.12/dist-packages (from tensorboard~=2.20.0->tensorflow==2.20.0) (11.3.0)\n",
            "Requirement already satisfied: tensorboard-data-server<0.8.0,>=0.7.0 in /usr/local/lib/python3.12/dist-packages (from tensorboard~=2.20.0->tensorflow==2.20.0) (0.7.2)\n",
            "Requirement already satisfied: werkzeug>=1.0.1 in /usr/local/lib/python3.12/dist-packages (from tensorboard~=2.20.0->tensorflow==2.20.0) (3.1.3)\n",
            "Requirement already satisfied: MarkupSafe>=2.1.1 in /usr/local/lib/python3.12/dist-packages (from werkzeug>=1.0.1->tensorboard~=2.20.0->tensorflow==2.20.0) (3.0.2)\n",
            "Requirement already satisfied: markdown-it-py>=2.2.0 in /usr/local/lib/python3.12/dist-packages (from rich->keras>=3.10.0->tensorflow==2.20.0) (4.0.0)\n",
            "Requirement already satisfied: pygments<3.0.0,>=2.13.0 in /usr/local/lib/python3.12/dist-packages (from rich->keras>=3.10.0->tensorflow==2.20.0) (2.19.2)\n",
            "Requirement already satisfied: mdurl~=0.1 in /usr/local/lib/python3.12/dist-packages (from markdown-it-py>=2.2.0->rich->keras>=3.10.0->tensorflow==2.20.0) (0.1.2)\n",
            "2.20.0\n"
          ]
        }
      ]
    },
    {
      "cell_type": "code",
      "source": [
        "#2. Defining a Simple Function in TensorFlow 2.0\n",
        "#You can use tf.function to create a TensorFlow graph for a function:\n",
        "import tensorflow as tf\n",
        "\n",
        "@tf.function\n",
        "def add_numbers(x, y):\n",
        "    return x + y\n",
        "\n",
        "print(add_numbers(tf.constant(5), tf.constant(7)))\n"
      ],
      "metadata": {
        "colab": {
          "base_uri": "https://localhost:8080/"
        },
        "id": "B7yM7oA0OIRg",
        "outputId": "df4835e3-8efa-491c-f599-84516a4e2652"
      },
      "execution_count": 5,
      "outputs": [
        {
          "output_type": "stream",
          "name": "stdout",
          "text": [
            "tf.Tensor(12, shape=(), dtype=int32)\n"
          ]
        }
      ]
    },
    {
      "cell_type": "code",
      "source": [
        "#3. Creating a Simple Neural Network in TensorFlow 2.0\n",
        "from tensorflow.keras.models import Sequential\n",
        "from tensorflow.keras.layers import Dense\n",
        "# Simple neural network with one hidden layer\n",
        "model = Sequential([\n",
        "    Dense(10, activation='relu', input_shape=(4,)),  # hidden layer with 10 neurons\n",
        "    Dense(1, activation='sigmoid')  # output layer\n",
        "])\n",
        "model.compile(optimizer='adam', loss='binary_crossentropy', metrics=['accuracy'])\n",
        "model.summary()\n"
      ],
      "metadata": {
        "colab": {
          "base_uri": "https://localhost:8080/",
          "height": 262
        },
        "id": "08a_0jp7PPBn",
        "outputId": "fdeac1ff-8797-441f-f0e3-0ef4526d0acb"
      },
      "execution_count": 6,
      "outputs": [
        {
          "output_type": "stream",
          "name": "stderr",
          "text": [
            "/usr/local/lib/python3.12/dist-packages/keras/src/layers/core/dense.py:93: UserWarning: Do not pass an `input_shape`/`input_dim` argument to a layer. When using Sequential models, prefer using an `Input(shape)` object as the first layer in the model instead.\n",
            "  super().__init__(activity_regularizer=activity_regularizer, **kwargs)\n"
          ]
        },
        {
          "output_type": "display_data",
          "data": {
            "text/plain": [
              "\u001b[1mModel: \"sequential\"\u001b[0m\n"
            ],
            "text/html": [
              "<pre style=\"white-space:pre;overflow-x:auto;line-height:normal;font-family:Menlo,'DejaVu Sans Mono',consolas,'Courier New',monospace\"><span style=\"font-weight: bold\">Model: \"sequential\"</span>\n",
              "</pre>\n"
            ]
          },
          "metadata": {}
        },
        {
          "output_type": "display_data",
          "data": {
            "text/plain": [
              "┏━━━━━━━━━━━━━━━━━━━━━━━━━━━━━━━━━┳━━━━━━━━━━━━━━━━━━━━━━━━┳━━━━━━━━━━━━━━━┓\n",
              "┃\u001b[1m \u001b[0m\u001b[1mLayer (type)                   \u001b[0m\u001b[1m \u001b[0m┃\u001b[1m \u001b[0m\u001b[1mOutput Shape          \u001b[0m\u001b[1m \u001b[0m┃\u001b[1m \u001b[0m\u001b[1m      Param #\u001b[0m\u001b[1m \u001b[0m┃\n",
              "┡━━━━━━━━━━━━━━━━━━━━━━━━━━━━━━━━━╇━━━━━━━━━━━━━━━━━━━━━━━━╇━━━━━━━━━━━━━━━┩\n",
              "│ dense (\u001b[38;5;33mDense\u001b[0m)                   │ (\u001b[38;5;45mNone\u001b[0m, \u001b[38;5;34m10\u001b[0m)             │            \u001b[38;5;34m50\u001b[0m │\n",
              "├─────────────────────────────────┼────────────────────────┼───────────────┤\n",
              "│ dense_1 (\u001b[38;5;33mDense\u001b[0m)                 │ (\u001b[38;5;45mNone\u001b[0m, \u001b[38;5;34m1\u001b[0m)              │            \u001b[38;5;34m11\u001b[0m │\n",
              "└─────────────────────────────────┴────────────────────────┴───────────────┘\n"
            ],
            "text/html": [
              "<pre style=\"white-space:pre;overflow-x:auto;line-height:normal;font-family:Menlo,'DejaVu Sans Mono',consolas,'Courier New',monospace\">┏━━━━━━━━━━━━━━━━━━━━━━━━━━━━━━━━━┳━━━━━━━━━━━━━━━━━━━━━━━━┳━━━━━━━━━━━━━━━┓\n",
              "┃<span style=\"font-weight: bold\"> Layer (type)                    </span>┃<span style=\"font-weight: bold\"> Output Shape           </span>┃<span style=\"font-weight: bold\">       Param # </span>┃\n",
              "┡━━━━━━━━━━━━━━━━━━━━━━━━━━━━━━━━━╇━━━━━━━━━━━━━━━━━━━━━━━━╇━━━━━━━━━━━━━━━┩\n",
              "│ dense (<span style=\"color: #0087ff; text-decoration-color: #0087ff\">Dense</span>)                   │ (<span style=\"color: #00d7ff; text-decoration-color: #00d7ff\">None</span>, <span style=\"color: #00af00; text-decoration-color: #00af00\">10</span>)             │            <span style=\"color: #00af00; text-decoration-color: #00af00\">50</span> │\n",
              "├─────────────────────────────────┼────────────────────────┼───────────────┤\n",
              "│ dense_1 (<span style=\"color: #0087ff; text-decoration-color: #0087ff\">Dense</span>)                 │ (<span style=\"color: #00d7ff; text-decoration-color: #00d7ff\">None</span>, <span style=\"color: #00af00; text-decoration-color: #00af00\">1</span>)              │            <span style=\"color: #00af00; text-decoration-color: #00af00\">11</span> │\n",
              "└─────────────────────────────────┴────────────────────────┴───────────────┘\n",
              "</pre>\n"
            ]
          },
          "metadata": {}
        },
        {
          "output_type": "display_data",
          "data": {
            "text/plain": [
              "\u001b[1m Total params: \u001b[0m\u001b[38;5;34m61\u001b[0m (244.00 B)\n"
            ],
            "text/html": [
              "<pre style=\"white-space:pre;overflow-x:auto;line-height:normal;font-family:Menlo,'DejaVu Sans Mono',consolas,'Courier New',monospace\"><span style=\"font-weight: bold\"> Total params: </span><span style=\"color: #00af00; text-decoration-color: #00af00\">61</span> (244.00 B)\n",
              "</pre>\n"
            ]
          },
          "metadata": {}
        },
        {
          "output_type": "display_data",
          "data": {
            "text/plain": [
              "\u001b[1m Trainable params: \u001b[0m\u001b[38;5;34m61\u001b[0m (244.00 B)\n"
            ],
            "text/html": [
              "<pre style=\"white-space:pre;overflow-x:auto;line-height:normal;font-family:Menlo,'DejaVu Sans Mono',consolas,'Courier New',monospace\"><span style=\"font-weight: bold\"> Trainable params: </span><span style=\"color: #00af00; text-decoration-color: #00af00\">61</span> (244.00 B)\n",
              "</pre>\n"
            ]
          },
          "metadata": {}
        },
        {
          "output_type": "display_data",
          "data": {
            "text/plain": [
              "\u001b[1m Non-trainable params: \u001b[0m\u001b[38;5;34m0\u001b[0m (0.00 B)\n"
            ],
            "text/html": [
              "<pre style=\"white-space:pre;overflow-x:auto;line-height:normal;font-family:Menlo,'DejaVu Sans Mono',consolas,'Courier New',monospace\"><span style=\"font-weight: bold\"> Non-trainable params: </span><span style=\"color: #00af00; text-decoration-color: #00af00\">0</span> (0.00 B)\n",
              "</pre>\n"
            ]
          },
          "metadata": {}
        }
      ]
    },
    {
      "cell_type": "code",
      "source": [
        "#4. Visualizing Training Progress\n",
        "import numpy as np\n",
        "from sklearn.model_selection import train_test_split\n",
        "from tensorflow.keras.models import Sequential\n",
        "from tensorflow.keras.layers import Dense\n",
        "import matplotlib.pyplot as plt\n",
        "\n",
        "# Sample dataset\n",
        "X = np.random.rand(500, 10)  # 500 samples, 10 features\n",
        "y = np.random.randint(0, 2, size=(500,))  # Binary labels\n",
        "\n",
        "# Split dataset\n",
        "X_train, X_test, y_train, y_test = train_test_split(X, y, test_size=0.2, random_state=42)\n",
        "\n",
        "# Define model\n",
        "model = Sequential([\n",
        "    Dense(32, activation='relu', input_shape=(10,)),\n",
        "    Dense(16, activation='relu'),\n",
        "    Dense(1, activation='sigmoid')\n",
        "])\n",
        "\n",
        "model.compile(optimizer='adam', loss='binary_crossentropy', metrics=['accuracy'])\n",
        "\n",
        "# Train model\n",
        "history = model.fit(X_train, y_train, epochs=20, validation_split=0.2)\n",
        "\n",
        "# Plot training & validation loss\n",
        "plt.plot(history.history['loss'], label='train_loss')\n",
        "plt.plot(history.history['val_loss'], label='val_loss')\n",
        "plt.xlabel('Epochs')\n",
        "plt.ylabel('Loss')\n",
        "plt.title('Training vs Validation Loss')\n",
        "plt.legend()\n",
        "plt.show()\n"
      ],
      "metadata": {
        "colab": {
          "base_uri": "https://localhost:8080/",
          "height": 1000
        },
        "id": "JvE0GI6NPXNU",
        "outputId": "ab9bbd3f-2c3a-46e6-f154-bd13927c9205"
      },
      "execution_count": 15,
      "outputs": [
        {
          "output_type": "stream",
          "name": "stdout",
          "text": [
            "Epoch 1/20\n",
            "\u001b[1m10/10\u001b[0m \u001b[32m━━━━━━━━━━━━━━━━━━━━\u001b[0m\u001b[37m\u001b[0m \u001b[1m2s\u001b[0m 29ms/step - accuracy: 0.5203 - loss: 0.6938 - val_accuracy: 0.5125 - val_loss: 0.6941\n",
            "Epoch 2/20\n",
            "\u001b[1m10/10\u001b[0m \u001b[32m━━━━━━━━━━━━━━━━━━━━\u001b[0m\u001b[37m\u001b[0m \u001b[1m0s\u001b[0m 9ms/step - accuracy: 0.4845 - loss: 0.6925 - val_accuracy: 0.5125 - val_loss: 0.6931\n",
            "Epoch 3/20\n",
            "\u001b[1m10/10\u001b[0m \u001b[32m━━━━━━━━━━━━━━━━━━━━\u001b[0m\u001b[37m\u001b[0m \u001b[1m0s\u001b[0m 9ms/step - accuracy: 0.5336 - loss: 0.6900 - val_accuracy: 0.5500 - val_loss: 0.6915\n",
            "Epoch 4/20\n",
            "\u001b[1m10/10\u001b[0m \u001b[32m━━━━━━━━━━━━━━━━━━━━\u001b[0m\u001b[37m\u001b[0m \u001b[1m0s\u001b[0m 9ms/step - accuracy: 0.5384 - loss: 0.6925 - val_accuracy: 0.5250 - val_loss: 0.6915\n",
            "Epoch 5/20\n",
            "\u001b[1m10/10\u001b[0m \u001b[32m━━━━━━━━━━━━━━━━━━━━\u001b[0m\u001b[37m\u001b[0m \u001b[1m0s\u001b[0m 9ms/step - accuracy: 0.5345 - loss: 0.6911 - val_accuracy: 0.5375 - val_loss: 0.6906\n",
            "Epoch 6/20\n",
            "\u001b[1m10/10\u001b[0m \u001b[32m━━━━━━━━━━━━━━━━━━━━\u001b[0m\u001b[37m\u001b[0m \u001b[1m0s\u001b[0m 9ms/step - accuracy: 0.5437 - loss: 0.6864 - val_accuracy: 0.5375 - val_loss: 0.6920\n",
            "Epoch 7/20\n",
            "\u001b[1m10/10\u001b[0m \u001b[32m━━━━━━━━━━━━━━━━━━━━\u001b[0m\u001b[37m\u001b[0m \u001b[1m0s\u001b[0m 9ms/step - accuracy: 0.5330 - loss: 0.6863 - val_accuracy: 0.5250 - val_loss: 0.6922\n",
            "Epoch 8/20\n",
            "\u001b[1m10/10\u001b[0m \u001b[32m━━━━━━━━━━━━━━━━━━━━\u001b[0m\u001b[37m\u001b[0m \u001b[1m0s\u001b[0m 9ms/step - accuracy: 0.5501 - loss: 0.6859 - val_accuracy: 0.5000 - val_loss: 0.6917\n",
            "Epoch 9/20\n",
            "\u001b[1m10/10\u001b[0m \u001b[32m━━━━━━━━━━━━━━━━━━━━\u001b[0m\u001b[37m\u001b[0m \u001b[1m0s\u001b[0m 10ms/step - accuracy: 0.5327 - loss: 0.6884 - val_accuracy: 0.5000 - val_loss: 0.6911\n",
            "Epoch 10/20\n",
            "\u001b[1m10/10\u001b[0m \u001b[32m━━━━━━━━━━━━━━━━━━━━\u001b[0m\u001b[37m\u001b[0m \u001b[1m0s\u001b[0m 9ms/step - accuracy: 0.5996 - loss: 0.6813 - val_accuracy: 0.5125 - val_loss: 0.6907\n",
            "Epoch 11/20\n",
            "\u001b[1m10/10\u001b[0m \u001b[32m━━━━━━━━━━━━━━━━━━━━\u001b[0m\u001b[37m\u001b[0m \u001b[1m0s\u001b[0m 11ms/step - accuracy: 0.5979 - loss: 0.6802 - val_accuracy: 0.5125 - val_loss: 0.6912\n",
            "Epoch 12/20\n",
            "\u001b[1m10/10\u001b[0m \u001b[32m━━━━━━━━━━━━━━━━━━━━\u001b[0m\u001b[37m\u001b[0m \u001b[1m0s\u001b[0m 9ms/step - accuracy: 0.5505 - loss: 0.6881 - val_accuracy: 0.4875 - val_loss: 0.6910\n",
            "Epoch 13/20\n",
            "\u001b[1m10/10\u001b[0m \u001b[32m━━━━━━━━━━━━━━━━━━━━\u001b[0m\u001b[37m\u001b[0m \u001b[1m0s\u001b[0m 9ms/step - accuracy: 0.5557 - loss: 0.6871 - val_accuracy: 0.5000 - val_loss: 0.6915\n",
            "Epoch 14/20\n",
            "\u001b[1m10/10\u001b[0m \u001b[32m━━━━━━━━━━━━━━━━━━━━\u001b[0m\u001b[37m\u001b[0m \u001b[1m0s\u001b[0m 9ms/step - accuracy: 0.5517 - loss: 0.6841 - val_accuracy: 0.5000 - val_loss: 0.6903\n",
            "Epoch 15/20\n",
            "\u001b[1m10/10\u001b[0m \u001b[32m━━━━━━━━━━━━━━━━━━━━\u001b[0m\u001b[37m\u001b[0m \u001b[1m0s\u001b[0m 9ms/step - accuracy: 0.5788 - loss: 0.6815 - val_accuracy: 0.5250 - val_loss: 0.6903\n",
            "Epoch 16/20\n",
            "\u001b[1m10/10\u001b[0m \u001b[32m━━━━━━━━━━━━━━━━━━━━\u001b[0m\u001b[37m\u001b[0m \u001b[1m0s\u001b[0m 9ms/step - accuracy: 0.5941 - loss: 0.6750 - val_accuracy: 0.4750 - val_loss: 0.6917\n",
            "Epoch 17/20\n",
            "\u001b[1m10/10\u001b[0m \u001b[32m━━━━━━━━━━━━━━━━━━━━\u001b[0m\u001b[37m\u001b[0m \u001b[1m0s\u001b[0m 9ms/step - accuracy: 0.5801 - loss: 0.6789 - val_accuracy: 0.4875 - val_loss: 0.6920\n",
            "Epoch 18/20\n",
            "\u001b[1m10/10\u001b[0m \u001b[32m━━━━━━━━━━━━━━━━━━━━\u001b[0m\u001b[37m\u001b[0m \u001b[1m0s\u001b[0m 11ms/step - accuracy: 0.5916 - loss: 0.6812 - val_accuracy: 0.5000 - val_loss: 0.6914\n",
            "Epoch 19/20\n",
            "\u001b[1m10/10\u001b[0m \u001b[32m━━━━━━━━━━━━━━━━━━━━\u001b[0m\u001b[37m\u001b[0m \u001b[1m0s\u001b[0m 9ms/step - accuracy: 0.5775 - loss: 0.6779 - val_accuracy: 0.5000 - val_loss: 0.6910\n",
            "Epoch 20/20\n",
            "\u001b[1m10/10\u001b[0m \u001b[32m━━━━━━━━━━━━━━━━━━━━\u001b[0m\u001b[37m\u001b[0m \u001b[1m0s\u001b[0m 9ms/step - accuracy: 0.5814 - loss: 0.6804 - val_accuracy: 0.4875 - val_loss: 0.6910\n"
          ]
        },
        {
          "output_type": "display_data",
          "data": {
            "text/plain": [
              "<Figure size 640x480 with 1 Axes>"
            ],
            "image/png": "[encoded data removed]"
          },
          "metadata": {}
        }
      ]
    },
    {
      "cell_type": "code",
      "source": [
        "#5. Installing and Verifying PyTorch\n",
        "#Install PyTorch:\n",
        "!pip install torch torchvision torchaudio\n",
        "\n",
        "#Verify Installation:\n",
        "import torch\n",
        "print(torch.__version__)\n",
        "print(torch.cuda.is_available())\n"
      ],
      "metadata": {
        "colab": {
          "base_uri": "https://localhost:8080/"
        },
        "id": "LYgn_WfiPZnE",
        "outputId": "8415eead-ff36-421f-fb9a-81045407c3fa"
      },
      "execution_count": 16,
      "outputs": [
        {
          "output_type": "stream",
          "name": "stdout",
          "text": [
            "Requirement already satisfied: torch in /usr/local/lib/python3.12/dist-packages (2.8.0+cu126)\n",
            "Requirement already satisfied: torchvision in /usr/local/lib/python3.12/dist-packages (0.23.0+cu126)\n",
            "Requirement already satisfied: torchaudio in /usr/local/lib/python3.12/dist-packages (2.8.0+cu126)\n",
            "Requirement already satisfied: filelock in /usr/local/lib/python3.12/dist-packages (from torch) (3.19.1)\n",
            "Requirement already satisfied: typing-extensions>=4.10.0 in /usr/local/lib/python3.12/dist-packages (from torch) (4.15.0)\n",
            "Requirement already satisfied: setuptools in /usr/local/lib/python3.12/dist-packages (from torch) (75.2.0)\n",
            "Requirement already satisfied: sympy>=1.13.3 in /usr/local/lib/python3.12/dist-packages (from torch) (1.13.3)\n",
            "Requirement already satisfied: networkx in /usr/local/lib/python3.12/dist-packages (from torch) (3.5)\n",
            "Requirement already satisfied: jinja2 in /usr/local/lib/python3.12/dist-packages (from torch) (3.1.6)\n",
            "Requirement already satisfied: fsspec in /usr/local/lib/python3.12/dist-packages (from torch) (2025.3.0)\n",
            "Requirement already satisfied: nvidia-cuda-nvrtc-cu12==12.6.77 in /usr/local/lib/python3.12/dist-packages (from torch) (12.6.77)\n",
            "Requirement already satisfied: nvidia-cuda-runtime-cu12==12.6.77 in /usr/local/lib/python3.12/dist-packages (from torch) (12.6.77)\n",
            "Requirement already satisfied: nvidia-cuda-cupti-cu12==12.6.80 in /usr/local/lib/python3.12/dist-packages (from torch) (12.6.80)\n",
            "Requirement already satisfied: nvidia-cudnn-cu12==9.10.2.21 in /usr/local/lib/python3.12/dist-packages (from torch) (9.10.2.21)\n",
            "Requirement already satisfied: nvidia-cublas-cu12==12.6.4.1 in /usr/local/lib/python3.12/dist-packages (from torch) (12.6.4.1)\n",
            "Requirement already satisfied: nvidia-cufft-cu12==11.3.0.4 in /usr/local/lib/python3.12/dist-packages (from torch) (11.3.0.4)\n",
            "Requirement already satisfied: nvidia-curand-cu12==10.3.7.77 in /usr/local/lib/python3.12/dist-packages (from torch) (10.3.7.77)\n",
            "Requirement already satisfied: nvidia-cusolver-cu12==11.7.1.2 in /usr/local/lib/python3.12/dist-packages (from torch) (11.7.1.2)\n",
            "Requirement already satisfied: nvidia-cusparse-cu12==12.5.4.2 in /usr/local/lib/python3.12/dist-packages (from torch) (12.5.4.2)\n",
            "Requirement already satisfied: nvidia-cusparselt-cu12==0.7.1 in /usr/local/lib/python3.12/dist-packages (from torch) (0.7.1)\n",
            "Requirement already satisfied: nvidia-nccl-cu12==2.27.3 in /usr/local/lib/python3.12/dist-packages (from torch) (2.27.3)\n",
            "Requirement already satisfied: nvidia-nvtx-cu12==12.6.77 in /usr/local/lib/python3.12/dist-packages (from torch) (12.6.77)\n",
            "Requirement already satisfied: nvidia-nvjitlink-cu12==12.6.85 in /usr/local/lib/python3.12/dist-packages (from torch) (12.6.85)\n",
            "Requirement already satisfied: nvidia-cufile-cu12==1.11.1.6 in /usr/local/lib/python3.12/dist-packages (from torch) (1.11.1.6)\n",
            "Requirement already satisfied: triton==3.4.0 in /usr/local/lib/python3.12/dist-packages (from torch) (3.4.0)\n",
            "Requirement already satisfied: numpy in /usr/local/lib/python3.12/dist-packages (from torchvision) (2.0.2)\n",
            "Requirement already satisfied: pillow!=8.3.*,>=5.3.0 in /usr/local/lib/python3.12/dist-packages (from torchvision) (11.3.0)\n",
            "Requirement already satisfied: mpmath<1.4,>=1.1.0 in /usr/local/lib/python3.12/dist-packages (from sympy>=1.13.3->torch) (1.3.0)\n",
            "Requirement already satisfied: MarkupSafe>=2.0 in /usr/local/lib/python3.12/dist-packages (from jinja2->torch) (3.0.2)\n",
            "2.8.0+cu126\n",
            "False\n"
          ]
        }
      ]
    },
    {
      "cell_type": "code",
      "source": [
        "#6. Creating a Simple Neural Network in PyTorch\n",
        "import torch\n",
        "import torch.nn as nn\n",
        "import torch.nn.functional as F\n",
        "\n",
        "class SimpleNN(nn.Module):\n",
        "    def __init__(self):\n",
        "        super(SimpleNN, self).__init__()\n",
        "        self.fc1 = nn.Linear(4, 10)  # hidden layer\n",
        "        self.fc2 = nn.Linear(10, 1)  # output layer\n",
        "\n",
        "    def forward(self, x):\n",
        "        x = F.relu(self.fc1(x))\n",
        "        x = torch.sigmoid(self.fc2(x))\n",
        "        return x\n",
        "\n",
        "model = SimpleNN()\n",
        "print(model)\n"
      ],
      "metadata": {
        "colab": {
          "base_uri": "https://localhost:8080/"
        },
        "id": "vKPILHUhQORC",
        "outputId": "1a969f77-c878-4f01-c582-8dac7b3fd188"
      },
      "execution_count": 17,
      "outputs": [
        {
          "output_type": "stream",
          "name": "stdout",
          "text": [
            "SimpleNN(\n",
            "  (fc1): Linear(in_features=4, out_features=10, bias=True)\n",
            "  (fc2): Linear(in_features=10, out_features=1, bias=True)\n",
            ")\n"
          ]
        }
      ]
    },
    {
      "cell_type": "code",
      "source": [
        "#7. Defining Loss Function and Optimizer in PyTorch\n",
        "import torch.optim as optim\n",
        "\n",
        "criterion = nn.BCELoss()  # Binary cross-entropy loss\n",
        "optimizer = optim.Adam(model.parameters(), lr=0.01)\n"
      ],
      "metadata": {
        "id": "bhdSaINvQqj8"
      },
      "execution_count": 18,
      "outputs": []
    },
    {
      "cell_type": "code",
      "source": [
        "#8. Implementing a Custom Loss Function in PyTorch\n",
        "class MyLoss(nn.Module):\n",
        "    def __init__(self):\n",
        "        super(MyLoss, self).__init__()\n",
        "\n",
        "    def forward(self, y_pred, y_true):\n",
        "        loss = torch.mean((y_pred - y_true)**2)  # simple MSE\n",
        "        return loss\n",
        "\n",
        "criterion = MyLoss()\n"
      ],
      "metadata": {
        "id": "GUU0xxfoQuAA"
      },
      "execution_count": 19,
      "outputs": []
    },
    {
      "cell_type": "code",
      "source": [
        "#9. Saving and Loading a TensorFlow Model\n",
        "\n",
        "import numpy as np\n",
        "import tensorflow as tf\n",
        "from tensorflow.keras.models import Sequential\n",
        "from tensorflow.keras.layers import Dense\n",
        "from sklearn.model_selection import train_test_split\n",
        "\n",
        "# -------------------------\n",
        "# 1. Create sample dataset\n",
        "# -------------------------\n",
        "X = np.random.rand(500, 10)       # 500 samples, 10 features\n",
        "y = np.random.randint(0, 2, 500)  # Binary labels\n",
        "\n",
        "# Split dataset\n",
        "X_train, X_test, y_train, y_test = train_test_split(X, y, test_size=0.2, random_state=42)\n",
        "\n",
        "# -------------------------\n",
        "# 2. Define a simple model\n",
        "# -------------------------\n",
        "model = Sequential([\n",
        "    Dense(32, activation='relu', input_shape=(10,)),\n",
        "    Dense(16, activation='relu'),\n",
        "    Dense(1, activation='sigmoid')\n",
        "])\n",
        "\n",
        "model.compile(optimizer='adam', loss='binary_crossentropy', metrics=['accuracy'])\n",
        "\n",
        "# -------------------------\n",
        "# 3. Train the model\n",
        "# -------------------------\n",
        "model.fit(X_train, y_train, epochs=10, validation_split=0.2)\n",
        "\n",
        "# -------------------------\n",
        "# 4. Save the model (SavedModel format)\n",
        "# -------------------------\n",
        "model.save(\"my_tf_model.keras\")  # creates folder 'my_tf_model/'\n",
        "\n",
        "# -------------------------\n",
        "# 5. Load the model\n",
        "# -------------------------\n",
        "loaded_model = tf.keras.models.load_model(\"my_tf_model.keras\")\n",
        "\n",
        "# -------------------------\n",
        "# 6. Evaluate the loaded model\n",
        "# -------------------------\n",
        "loss, accuracy = loaded_model.evaluate(X_test, y_test)\n",
        "print(f\"Test Loss: {loss:.4f}, Test Accuracy: {accuracy:.4f}\")\n"
      ],
      "metadata": {
        "colab": {
          "base_uri": "https://localhost:8080/"
        },
        "id": "ULZhH9XIQw9c",
        "outputId": "413bdcb7-2b8e-4d73-fd8d-7278c05c76ad"
      },
      "execution_count": 22,
      "outputs": [
        {
          "output_type": "stream",
          "name": "stdout",
          "text": [
            "Epoch 1/10\n",
            "\u001b[1m10/10\u001b[0m \u001b[32m━━━━━━━━━━━━━━━━━━━━\u001b[0m\u001b[37m\u001b[0m \u001b[1m1s\u001b[0m 29ms/step - accuracy: 0.4814 - loss: 0.7038 - val_accuracy: 0.5125 - val_loss: 0.6906\n",
            "Epoch 2/10\n",
            "\u001b[1m10/10\u001b[0m \u001b[32m━━━━━━━━━━━━━━━━━━━━\u001b[0m\u001b[37m\u001b[0m \u001b[1m0s\u001b[0m 10ms/step - accuracy: 0.5288 - loss: 0.6947 - val_accuracy: 0.4625 - val_loss: 0.6997\n",
            "Epoch 3/10\n",
            "\u001b[1m10/10\u001b[0m \u001b[32m━━━━━━━━━━━━━━━━━━━━\u001b[0m\u001b[37m\u001b[0m \u001b[1m0s\u001b[0m 9ms/step - accuracy: 0.5142 - loss: 0.6928 - val_accuracy: 0.5125 - val_loss: 0.7045\n",
            "Epoch 4/10\n",
            "\u001b[1m10/10\u001b[0m \u001b[32m━━━━━━━━━━━━━━━━━━━━\u001b[0m\u001b[37m\u001b[0m \u001b[1m0s\u001b[0m 9ms/step - accuracy: 0.5597 - loss: 0.6866 - val_accuracy: 0.4875 - val_loss: 0.7021\n",
            "Epoch 5/10\n",
            "\u001b[1m10/10\u001b[0m \u001b[32m━━━━━━━━━━━━━━━━━━━━\u001b[0m\u001b[37m\u001b[0m \u001b[1m0s\u001b[0m 9ms/step - accuracy: 0.5220 - loss: 0.6903 - val_accuracy: 0.4750 - val_loss: 0.6986\n",
            "Epoch 6/10\n",
            "\u001b[1m10/10\u001b[0m \u001b[32m━━━━━━━━━━━━━━━━━━━━\u001b[0m\u001b[37m\u001b[0m \u001b[1m0s\u001b[0m 11ms/step - accuracy: 0.5276 - loss: 0.6881 - val_accuracy: 0.5125 - val_loss: 0.7045\n",
            "Epoch 7/10\n",
            "\u001b[1m10/10\u001b[0m \u001b[32m━━━━━━━━━━━━━━━━━━━━\u001b[0m\u001b[37m\u001b[0m \u001b[1m0s\u001b[0m 9ms/step - accuracy: 0.5275 - loss: 0.6908 - val_accuracy: 0.5125 - val_loss: 0.7058\n",
            "Epoch 8/10\n",
            "\u001b[1m10/10\u001b[0m \u001b[32m━━━━━━━━━━━━━━━━━━━━\u001b[0m\u001b[37m\u001b[0m \u001b[1m0s\u001b[0m 9ms/step - accuracy: 0.5233 - loss: 0.6890 - val_accuracy: 0.5250 - val_loss: 0.7046\n",
            "Epoch 9/10\n",
            "\u001b[1m10/10\u001b[0m \u001b[32m━━━━━━━━━━━━━━━━━━━━\u001b[0m\u001b[37m\u001b[0m \u001b[1m0s\u001b[0m 10ms/step - accuracy: 0.5536 - loss: 0.6846 - val_accuracy: 0.4875 - val_loss: 0.7072\n",
            "Epoch 10/10\n",
            "\u001b[1m10/10\u001b[0m \u001b[32m━━━━━━━━━━━━━━━━━━━━\u001b[0m\u001b[37m\u001b[0m \u001b[1m0s\u001b[0m 9ms/step - accuracy: 0.6327 - loss: 0.6789 - val_accuracy: 0.4875 - val_loss: 0.6982\n",
            "\u001b[1m4/4\u001b[0m \u001b[32m━━━━━━━━━━━━━━━━━━━━\u001b[0m\u001b[37m\u001b[0m \u001b[1m0s\u001b[0m 9ms/step - accuracy: 0.5412 - loss: 0.6804  \n",
            "Test Loss: 0.6816, Test Accuracy: 0.5300\n"
          ]
        }
      ]
    },
    {
      "cell_type": "code",
      "source": [],
      "metadata": {
        "id": "kdxciGEpRE8o"
      },
      "execution_count": null,
      "outputs": []
    }
  ]
}