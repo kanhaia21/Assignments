{
  "nbformat": 4,
  "nbformat_minor": 0,
  "metadata": {
    "colab": {
      "provenance": [],
      "authorship_tag": "ABX9TyMowZUI5e+/I41eKKTrO1zD",
      "include_colab_link": true
    },
    "kernelspec": {
      "name": "python3",
      "display_name": "Python 3"
    },
    "language_info": {
      "name": "python"
    }
  },
  "cells": [
    {
      "cell_type": "markdown",
      "metadata": {
        "id": "view-in-github",
        "colab_type": "text"
      },
      "source": [
        "<a href=\"https://colab.research.google.com/github/kanhaia21/Assignments/blob/main/Functions.ipynb\" target=\"_parent\"><img src=\"https://colab.research.google.com/assets/colab-badge.svg\" alt=\"Open In Colab\"/></a>"
      ]
    },
    {
      "cell_type": "markdown",
      "source": [
        "#Theoritical"
      ],
      "metadata": {
        "id": "LZPPvdOt9Iwu"
      }
    },
    {
      "cell_type": "code",
      "source": [
        "content=\"\"\"\n",
        "1. What is the difference between a function and a method in Python?\n",
        "•\tFunction → Defined using def and can be called independently\n",
        "def greet(name):\n",
        "    return f\"Hello, {name}\"\n",
        "print(greet(\"Alice\"))\n",
        "Output: Hello, Alice\n",
        "•\tMethod → A function that is associated with an object/class. It is called on an object using dot (.) notation.\n",
        "text = \"python\"\n",
        "print(text.upper())\n",
        "Output: PYTHON\n",
        "\n",
        "2. Explain the concept of function arguments and parameters in Python.\n",
        "•\tParameters → Variables defined inside the function definition.\n",
        "def add(x, y):   # x, y → parameters\n",
        "    return x + y\n",
        "•\tArguments → Actual values passed when calling the function\n",
        "print(add(5, 3)) # 5, 3 → arguments\n",
        "\n",
        "3. What are the different ways to define and call a function in Python?\n",
        "•\tNormal function:\n",
        "def square(n):\n",
        "    return n*n\n",
        "print(square(4))\n",
        "•\tLambda function:\n",
        "square = lambda n: n*n\n",
        "print(square(4))\n",
        "•\tDefault arguments:\n",
        "def greet(name=\"Guest\"):\n",
        "    return f\"Hello, {name}\"\n",
        "\n",
        "print(greet())          # Hello, Guest\n",
        "print(greet(\"Alice\"))   # Hello, Alice\n",
        "\n",
        "4. What is the purpose of the return statement in a Python function?\n",
        "•\tIt sends the result of a function back to the caller.\n",
        "•\tWithout return, the function outputs None.\n",
        "Example:\n",
        "def multiply(a, b):\n",
        "    return a * b\n",
        "print(multiply(4, 5))\n",
        "Output: 20\n",
        "\n",
        "5. What are iterators in Python and how do they differ from iterables?\n",
        "•\tIterable → Objects that can return an iterator (e.g., list, tuple, string).\n",
        "•\tIterator → Object with __next__() method that returns elements one by one.\n",
        "Example:\n",
        "nums = [1, 2, 3]    # iterable\n",
        "it = iter(nums)     # iterator created using iter()\n",
        "print(next(it))\n",
        "print(next(it))\n",
        "Output:\n",
        "1\n",
        "2\n",
        "\n",
        "6. Explain the concept of generators in Python and how they are defined.\n",
        "•\tGenerators → Functions that yield values one at a time using yield instead of return.\n",
        "•\tThey don’t store all values in memory → efficient for large data.\n",
        "Example:\n",
        "def countdown(n):\n",
        "    while n > 0:\n",
        "        yield n\n",
        "        n -= 1\n",
        "\n",
        "for i in countdown(3):\n",
        "    print(i)\n",
        "\n",
        "\n",
        "Output:\n",
        "3\n",
        "2\n",
        "1\n",
        "\n",
        "7. What are the advantages of using generators over regular functions?\n",
        "•\tMemory efficient → Generate values one at a time.\n",
        "•\tLazy evaluation → Compute values only when needed.\n",
        "•\tUseful for infinite sequences or large datasets.\n",
        "Example:\n",
        "def squares(n):\n",
        "    for i in range(n):\n",
        "        yield i*i\n",
        "for sq in squares(5):\n",
        "    print(sq)\n",
        "Output:\n",
        "0\n",
        "1\n",
        "4\n",
        "9\n",
        "16\n",
        "\n",
        "8. What is a lambda function in Python and when is it typically used?\n",
        "•\tAnonymous function defined with lambda.\n",
        "•\tUsed for short, throwaway functions.\n",
        "Example:\n",
        "double = lambda x: x*2\n",
        "print(double(4))\n",
        "Output: 8\n",
        "\n",
        "9. Explain the purpose and usage of the map() function in Python.\n",
        "•\tmap() applies a function to each element of an iterable.\n",
        "Example:\n",
        "nums = [1, 2, 3, 4]\n",
        "squares = map(lambda x: x**2, nums)\n",
        "print(list(squares))\n",
        "Output: [1, 4, 9, 16]\n",
        "\n",
        "10. What is the difference between map(), reduce(), and filter() functions in Python?\n",
        "Function------------------------>Purpose----------------------------------------------->Example\n",
        "map()--------------------------->Apply a function to each element---------------------->map(lambda x:x*2, [1,2,3]) → [2,4,6]\n",
        "filter()------------------------>Select elements based on condition-------------------->filter(lambda x:x%2==0, [1,2,3,4]) → [2,4]\n",
        "reduce()------------------------>Apply a function cumulatively (from functools)-------->reduce(lambda x,y:x+y, [1,2,3,4]) → 10\n",
        "\n",
        "\n",
        "11. Internal mechanism of reduce() for sum on [47, 11, 42, 13]:\n",
        "from functools import reduce\n",
        "\n",
        "nums = [47, 11, 42, 13]\n",
        "result = reduce(lambda x, y: x + y, nums)\n",
        "print(result)  # 113\n",
        "📝 Step by step working:\n",
        "1.\tFirst step: 47 + 11 = 58\n",
        "2.\tNext step: 58 + 42 = 100\n",
        "3.\tFinal step: 100 + 13 = 113\n",
        "\"\"\"\n",
        "print(content)"
      ],
      "metadata": {
        "colab": {
          "base_uri": "https://localhost:8080/"
        },
        "id": "wTmLHX0L9AVf",
        "outputId": "69075b53-4230-4d26-b03e-c1e45239b267"
      },
      "execution_count": 2,
      "outputs": [
        {
          "output_type": "stream",
          "name": "stdout",
          "text": [
            "\n",
            "1. What is the difference between a function and a method in Python?\n",
            "•\tFunction → Defined using def and can be called independently\n",
            "def greet(name):\n",
            "    return f\"Hello, {name}\"\n",
            "print(greet(\"Alice\"))\n",
            "Output: Hello, Alice\n",
            "•\tMethod → A function that is associated with an object/class. It is called on an object using dot (.) notation.\n",
            "text = \"python\"\n",
            "print(text.upper())\n",
            "Output: PYTHON\n",
            "\n",
            "2. Explain the concept of function arguments and parameters in Python.\n",
            "•\tParameters → Variables defined inside the function definition.\n",
            "def add(x, y):   # x, y → parameters\n",
            "    return x + y\n",
            "•\tArguments → Actual values passed when calling the function\n",
            "print(add(5, 3)) # 5, 3 → arguments\n",
            "\n",
            "3. What are the different ways to define and call a function in Python?\n",
            "•\tNormal function:\n",
            "def square(n):\n",
            "    return n*n\n",
            "print(square(4))\n",
            "•\tLambda function:\n",
            "square = lambda n: n*n\n",
            "print(square(4))\n",
            "•\tDefault arguments:\n",
            "def greet(name=\"Guest\"):\n",
            "    return f\"Hello, {name}\"\n",
            "\n",
            "print(greet())          # Hello, Guest\n",
            "print(greet(\"Alice\"))   # Hello, Alice\n",
            "\n",
            "4. What is the purpose of the return statement in a Python function?\n",
            "•\tIt sends the result of a function back to the caller.\n",
            "•\tWithout return, the function outputs None.\n",
            "Example:\n",
            "def multiply(a, b):\n",
            "    return a * b\n",
            "print(multiply(4, 5))\n",
            "Output: 20\n",
            "\n",
            "5. What are iterators in Python and how do they differ from iterables?\n",
            "•\tIterable → Objects that can return an iterator (e.g., list, tuple, string).\n",
            "•\tIterator → Object with __next__() method that returns elements one by one.\n",
            "Example:\n",
            "nums = [1, 2, 3]    # iterable\n",
            "it = iter(nums)     # iterator created using iter()\n",
            "print(next(it))\n",
            "print(next(it)) \n",
            "Output: \n",
            "1\n",
            "2\n",
            "\n",
            "6. Explain the concept of generators in Python and how they are defined.\n",
            "•\tGenerators → Functions that yield values one at a time using yield instead of return.\n",
            "•\tThey don’t store all values in memory → efficient for large data.\n",
            "Example:\n",
            "def countdown(n):\n",
            "    while n > 0:\n",
            "        yield n\n",
            "        n -= 1\n",
            "\n",
            "for i in countdown(3):\n",
            "    print(i)\n",
            "\n",
            "\n",
            "Output:\n",
            "3\n",
            "2\n",
            "1\n",
            "\n",
            "7. What are the advantages of using generators over regular functions?\n",
            "•\tMemory efficient → Generate values one at a time.\n",
            "•\tLazy evaluation → Compute values only when needed.\n",
            "•\tUseful for infinite sequences or large datasets.\n",
            "Example:\n",
            "def squares(n):\n",
            "    for i in range(n):\n",
            "        yield i*i\n",
            "for sq in squares(5):\n",
            "    print(sq)\n",
            "Output:\n",
            "0\n",
            "1\n",
            "4\n",
            "9\n",
            "16\n",
            "\n",
            "8. What is a lambda function in Python and when is it typically used?\n",
            "•\tAnonymous function defined with lambda.\n",
            "•\tUsed for short, throwaway functions.\n",
            "Example:\n",
            "double = lambda x: x*2\n",
            "print(double(4))\n",
            "Output: 8\n",
            "\n",
            "9. Explain the purpose and usage of the map() function in Python.\n",
            "•\tmap() applies a function to each element of an iterable.\n",
            "Example:\n",
            "nums = [1, 2, 3, 4]\n",
            "squares = map(lambda x: x**2, nums)\n",
            "print(list(squares))\n",
            "Output: [1, 4, 9, 16]\n",
            "\n",
            "10. What is the difference between map(), reduce(), and filter() functions in Python?\n",
            "Function------------------------>Purpose----------------------------------------------->Example\n",
            "map()--------------------------->Apply a function to each element---------------------->map(lambda x:x*2, [1,2,3]) → [2,4,6]\n",
            "filter()------------------------>Select elements based on condition-------------------->filter(lambda x:x%2==0, [1,2,3,4]) → [2,4]\n",
            "reduce()------------------------>Apply a function cumulatively (from functools)-------->reduce(lambda x,y:x+y, [1,2,3,4]) → 10\n",
            "\n",
            "\n",
            "11. Internal mechanism of reduce() for sum on [47, 11, 42, 13]:\n",
            "from functools import reduce\n",
            "\n",
            "nums = [47, 11, 42, 13]\n",
            "result = reduce(lambda x, y: x + y, nums)\n",
            "print(result)  # 113\n",
            "📝 Step by step working:\n",
            "1.\tFirst step: 47 + 11 = 58\n",
            "2.\tNext step: 58 + 42 = 100\n",
            "3.\tFinal step: 100 + 13 = 113\n",
            "\n"
          ]
        }
      ]
    },
    {
      "cell_type": "markdown",
      "source": [
        "#Practical Questions"
      ],
      "metadata": {
        "id": "yEP7IDBG9cwr"
      }
    },
    {
      "cell_type": "code",
      "source": [
        "#1. Write a Python function that takes a list of numbers as input and returns the sum of all even numbers in the list.\n",
        "def sum_of_evens(numbers):\n",
        "    return sum(num for num in numbers if num % 2 == 0)\n",
        "print(sum_of_evens([1, 2, 3, 4, 5, 6]))\n"
      ],
      "metadata": {
        "colab": {
          "base_uri": "https://localhost:8080/"
        },
        "id": "ZHk1e--C9LGf",
        "outputId": "3a838de2-631e-4e95-be1f-f57145630f2f"
      },
      "execution_count": 4,
      "outputs": [
        {
          "output_type": "stream",
          "name": "stdout",
          "text": [
            "12\n"
          ]
        }
      ]
    },
    {
      "cell_type": "code",
      "source": [
        "#2. Create a Python function that accepts a string and returns the reverse of that string.\n",
        "def reverse_string(s):\n",
        "    return s[::-1]\n",
        "print(reverse_string(\"Python\"))\n"
      ],
      "metadata": {
        "colab": {
          "base_uri": "https://localhost:8080/"
        },
        "id": "kA8rRfO29jOC",
        "outputId": "40ee6f5d-ef65-454f-a667-08eff271e927"
      },
      "execution_count": 5,
      "outputs": [
        {
          "output_type": "stream",
          "name": "stdout",
          "text": [
            "nohtyP\n"
          ]
        }
      ]
    },
    {
      "cell_type": "code",
      "source": [
        "#3. Implement a Python function that takes a list of integers and returns a new list containing the squares of each number.\n",
        "def squares(nums):\n",
        "    return [x**2 for x in nums]\n",
        "print(squares([1, 2, 3, 4]))\n"
      ],
      "metadata": {
        "colab": {
          "base_uri": "https://localhost:8080/"
        },
        "id": "NJQuWxj39oSw",
        "outputId": "a19683a5-233c-4fa2-f9d6-94da6efef4cd"
      },
      "execution_count": 6,
      "outputs": [
        {
          "output_type": "stream",
          "name": "stdout",
          "text": [
            "[1, 4, 9, 16]\n"
          ]
        }
      ]
    },
    {
      "cell_type": "code",
      "source": [
        "#4. Write a Python function that checks if a given number is prime or not from 1 to 200\n",
        "def is_prime(n):\n",
        "    if n < 2:\n",
        "        return False\n",
        "    for i in range(2, int(n**0.5)+1):\n",
        "        if n % i == 0:\n",
        "            return False\n",
        "    return True\n",
        "\n",
        "primes = [n for n in range(1, 201) if is_prime(n)]\n",
        "print(primes)\n"
      ],
      "metadata": {
        "colab": {
          "base_uri": "https://localhost:8080/"
        },
        "id": "HfctxI9k9rFi",
        "outputId": "e1448f21-f34f-4052-a24e-d9249ffcef55"
      },
      "execution_count": 7,
      "outputs": [
        {
          "output_type": "stream",
          "name": "stdout",
          "text": [
            "[2, 3, 5, 7, 11, 13, 17, 19, 23, 29, 31, 37, 41, 43, 47, 53, 59, 61, 67, 71, 73, 79, 83, 89, 97, 101, 103, 107, 109, 113, 127, 131, 137, 139, 149, 151, 157, 163, 167, 173, 179, 181, 191, 193, 197, 199]\n"
          ]
        }
      ]
    },
    {
      "cell_type": "code",
      "source": [
        "#5. Create an iterator class in Python that generates the Fibonacei sequence up to a specified number of terms.\n",
        "class Fibonacci:\n",
        "    def __init__(self, n_terms):\n",
        "        self.n = n_terms\n",
        "        self.a, self.b = 0, 1\n",
        "        self.count = 0\n",
        "\n",
        "    def __iter__(self):\n",
        "        return self\n",
        "\n",
        "    def __next__(self):\n",
        "        if self.count >= self.n:\n",
        "            raise StopIteration\n",
        "        value = self.a\n",
        "        self.a, self.b = self.b, self.a + self.b\n",
        "        self.count += 1\n",
        "        return value\n",
        "\n",
        "fib = Fibonacci(10)\n",
        "print(list(fib))\n"
      ],
      "metadata": {
        "colab": {
          "base_uri": "https://localhost:8080/"
        },
        "id": "d9wmNlUz9tut",
        "outputId": "95ce2879-8d28-4830-d02d-d0f1f130d042"
      },
      "execution_count": 9,
      "outputs": [
        {
          "output_type": "stream",
          "name": "stdout",
          "text": [
            "[0, 1, 1, 2, 3, 5, 8, 13, 21, 34]\n"
          ]
        }
      ]
    },
    {
      "cell_type": "code",
      "source": [
        "#6. Write a generator function in Python that yields the powers of 2 up to a given exponent.\n",
        "def powers_of_two(n):\n",
        "    for i in range(n+1):\n",
        "        yield 2**i\n",
        "\n",
        "print(list(powers_of_two(5)))\n"
      ],
      "metadata": {
        "colab": {
          "base_uri": "https://localhost:8080/"
        },
        "id": "oNuR-RM292GR",
        "outputId": "7ecc88ed-d06c-4c4c-dc37-99fa8f650a96"
      },
      "execution_count": 10,
      "outputs": [
        {
          "output_type": "stream",
          "name": "stdout",
          "text": [
            "[1, 2, 4, 8, 16, 32]\n"
          ]
        }
      ]
    },
    {
      "cell_type": "code",
      "source": [
        "#7. Implement a generator function that reads a file line by line and yields each line as a string.\n",
        "def read_file(filename):\n",
        "    with open(filename, \"r\") as f:\n",
        "        for line in f:\n",
        "            yield line.strip()\n"
      ],
      "metadata": {
        "id": "yN0DBkB99485"
      },
      "execution_count": 12,
      "outputs": []
    },
    {
      "cell_type": "code",
      "source": [
        "#8. Use a lambda function in Python to sort a list of tuples based on the second element of each tuple.\n",
        "data = [(1, 3), (2, 1), (4, 2)]\n",
        "sorted_data = sorted(data, key=lambda x: x[1])\n",
        "print(sorted_data)\n"
      ],
      "metadata": {
        "colab": {
          "base_uri": "https://localhost:8080/"
        },
        "id": "4hRwEK98968S",
        "outputId": "fc6a3eb2-89a0-4cf3-8e92-750fb68ac1c2"
      },
      "execution_count": 13,
      "outputs": [
        {
          "output_type": "stream",
          "name": "stdout",
          "text": [
            "[(2, 1), (4, 2), (1, 3)]\n"
          ]
        }
      ]
    },
    {
      "cell_type": "code",
      "source": [
        "#9. Write a Python program that uses 'map()\" to convert a list of temperatures from Celsius to Fahrenheit.\n",
        "temps_c = [0, 20, 37, 100]\n",
        "temps_f = list(map(lambda c: (c * 9/5) + 32, temps_c))\n",
        "print(temps_f)\n"
      ],
      "metadata": {
        "colab": {
          "base_uri": "https://localhost:8080/"
        },
        "id": "jXVO24A29_2r",
        "outputId": "199735d5-88e7-4263-be55-025c025bba43"
      },
      "execution_count": 14,
      "outputs": [
        {
          "output_type": "stream",
          "name": "stdout",
          "text": [
            "[32.0, 68.0, 98.6, 212.0]\n"
          ]
        }
      ]
    },
    {
      "cell_type": "code",
      "source": [
        "#10. Create a Python program that uses 'filter()' to remove all the vowels from a given string.\n",
        "def remove_vowels(s):\n",
        "    return ''.join(filter(lambda ch: ch.lower() not in \"aeiou\", s))\n",
        "\n",
        "print(remove_vowels(\"Programming in Python\"))\n"
      ],
      "metadata": {
        "colab": {
          "base_uri": "https://localhost:8080/"
        },
        "id": "L1ZNTp6B-CW0",
        "outputId": "a3ce410c-7193-4397-fd5d-86fa735fbd3f"
      },
      "execution_count": 15,
      "outputs": [
        {
          "output_type": "stream",
          "name": "stdout",
          "text": [
            "Prgrmmng n Pythn\n"
          ]
        }
      ]
    },
    {
      "cell_type": "code",
      "source": [
        "#11) Imagine an accounting routine used in a book shop. It works on a list with sublists.\n",
        "#Write a Python program, which returns a list with 2-tuples. Each tuple consists of the order number and the\n",
        "#product of the price per item and the quantity. The product should be increased by 10,- € if the value of the\n",
        "#order is smaller than 100,00 €.\n",
        "#Write a Python program using lambda and map.\n",
        "\n",
        "orders = [\n",
        "    [34587, 40.95, 4],\n",
        "    [98762, 56.80, 5],\n",
        "    [77226, 32.95, 3],\n",
        "    [88112, 24.99, 1]\n",
        "]\n",
        "\n",
        "final_orders = list(\n",
        "    map(lambda x: (x[0], x[1]*x[2] if x[1]*x[2] >= 100 else x[1]*x[2] + 10), orders)\n",
        ")\n",
        "\n",
        "print(final_orders)\n"
      ],
      "metadata": {
        "colab": {
          "base_uri": "https://localhost:8080/"
        },
        "id": "65e5VeMZ-F_s",
        "outputId": "e52771b3-e0cd-4e9b-c64c-38c02b401b5d"
      },
      "execution_count": 17,
      "outputs": [
        {
          "output_type": "stream",
          "name": "stdout",
          "text": [
            "[(34587, 163.8), (98762, 284.0), (77226, 108.85000000000001), (88112, 34.989999999999995)]\n"
          ]
        }
      ]
    },
    {
      "cell_type": "code",
      "source": [],
      "metadata": {
        "id": "2JNlLdmKFHTF"
      },
      "execution_count": null,
      "outputs": []
    }
  ]
}